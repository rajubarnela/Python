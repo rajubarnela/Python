{
 "cells": [
  {
   "cell_type": "markdown",
   "id": "60e53989-3b38-4fce-bdd1-2a41be9621ce",
   "metadata": {},
   "source": [
    "In Python, a tuple is an ordered collection of elements that is immutable (unchangeable) and can contain elements of different data types. Tuples are defined by enclosing the elements in parentheses () and separating them with commas. Here are some key characteristics and features of tuples in Python:\n",
    "\n",
    "Immutable: Once a tuple is created, you cannot modify its contents. This means you cannot add, remove, or change items in a tuple after it is created. This immutability provides data integrity and makes tuples suitable for storing constant values or sequences that should not change.\n",
    "\n",
    "Ordered: Tuples maintain the order of elements as they are defined. This means you can access elements in a tuple by their index.\n",
    "\n",
    "Heterogeneous: A tuple can contain elements of different data types. For example, (1, 'hello', 3.14) is a valid tuple where the first element is an integer, the second is a string, and the third is a float.\n"
   ]
  },
  {
   "cell_type": "markdown",
   "id": "fbe8ed08-6c1f-4319-b497-9caf7780fb85",
   "metadata": {},
   "source": [
    "Tuple Creation:\n",
    "\n",
    "Empty tuple: empty_tuple = ()\n",
    "Single element tuple: If you have only one element, you need to include a comma after the element to differentiate it from a regular parenthesized expression. For example, single_element_tuple = (1,).\n",
    "Tuple with multiple elements: my_tuple = (1, 2, 'hello', 3.14)\n",
    "Accessing Elements: Elements in a tuple are accessed using square brackets [] with the index of the element. Indexing starts from 0 for the first element. Negative indexing can also be used to access elements from the end of the tuple.\n",
    "\n",
    "Tuple Operations:\n",
    "\n",
    "Concatenation: Tuples can be concatenated using the + operator.\n",
    "Repetition: Tuples can be repeated using the * operator.\n",
    "Slicing: You can slice tuples to create new tuples containing a subset of elements.\n",
    "Tuple methods: Tuples support methods like count() and index() for basic operations.\n",
    "Use Cases: Tuples are often used in scenarios where you want to store a fixed collection of items that shouldn't change, such as coordinates, constant values, or database records.\n",
    "\n",
    "Here's a simple example demonstrating some tuple operations:"
   ]
  },
  {
   "cell_type": "code",
   "execution_count": 2,
   "id": "ceec3b4d-551b-4e89-88f0-6c76e34da3cd",
   "metadata": {},
   "outputs": [
    {
     "name": "stdout",
     "output_type": "stream",
     "text": [
      "1\n",
      "hello\n"
     ]
    }
   ],
   "source": [
    "# Define a tuple\n",
    "my_tuple = (1, 2, 'hello', 3.14)\n",
    "\n",
    "# Accessing elements\n",
    "print(my_tuple[0])    # Output: 1\n",
    "print(my_tuple[2])    # Output: 'hello'"
   ]
  },
  {
   "cell_type": "code",
   "execution_count": 3,
   "id": "481f7df7-9cd1-49df-9403-47aabfd938b7",
   "metadata": {},
   "outputs": [
    {
     "name": "stdout",
     "output_type": "stream",
     "text": [
      "(2, 'hello')\n",
      "(1, 2, 'hello', 3.14, 'world', 5)\n"
     ]
    }
   ],
   "source": [
    "# Tuple slicing\n",
    "print(my_tuple[1:3])  # Output: (2, 'hello')\n",
    "\n",
    "# Concatenation\n",
    "another_tuple = ('world', 5)\n",
    "combined_tuple = my_tuple + another_tuple\n",
    "print(combined_tuple) # Output: (1, 2, 'hello', 3.14, 'world', 5)"
   ]
  },
  {
   "cell_type": "code",
   "execution_count": 4,
   "id": "84dacdff-0f10-4dea-b43d-da95bc04e752",
   "metadata": {},
   "outputs": [
    {
     "name": "stdout",
     "output_type": "stream",
     "text": [
      "1\n",
      "d\n",
      "hello\n"
     ]
    }
   ],
   "source": [
    "# Example 1: Creating and Accessing Tuples\n",
    "# Creating tuples\n",
    "tuple1 = (1, 2, 3, 4)\n",
    "tuple2 = ('a', 'b', 'c', 'd')\n",
    "tuple3 = (1.23, 'hello', True)\n",
    "\n",
    "# Accessing elements\n",
    "print(tuple1[0])  # Output: 1\n",
    "print(tuple2[-1])  # Output: 'd'\n",
    "print(tuple3[1])  # Output: 'hello'"
   ]
  },
  {
   "cell_type": "code",
   "execution_count": 5,
   "id": "3905a764-2c0a-414a-9890-bcda52b0fffa",
   "metadata": {},
   "outputs": [
    {
     "name": "stdout",
     "output_type": "stream",
     "text": [
      "(1, 2, 3, 'a', 'b', 'c')\n"
     ]
    }
   ],
   "source": [
    "#Example 2: Concatenating Tuples\n",
    "\n",
    "tuple1 = (1, 2, 3)\n",
    "tuple2 = ('a', 'b', 'c')\n",
    "\n",
    "# Concatenating tuples\n",
    "combined_tuple = tuple1 + tuple2\n",
    "print(combined_tuple)  # Output: (1, 2, 3, 'a', 'b', 'c')"
   ]
  },
  {
   "cell_type": "code",
   "execution_count": 6,
   "id": "87147022-4383-4be4-bd9b-722d2983c96d",
   "metadata": {},
   "outputs": [
    {
     "ename": "TypeError",
     "evalue": "can only concatenate tuple (not \"str\") to tuple",
     "output_type": "error",
     "traceback": [
      "\u001b[1;31m---------------------------------------------------------------------------\u001b[0m",
      "\u001b[1;31mTypeError\u001b[0m                                 Traceback (most recent call last)",
      "Cell \u001b[1;32mIn[6], line 1\u001b[0m\n\u001b[1;32m----> 1\u001b[0m tuple1 \u001b[38;5;241m+\u001b[39m \u001b[38;5;124m\"\u001b[39m\u001b[38;5;124mpy\u001b[39m\u001b[38;5;124m\"\u001b[39m\n",
      "\u001b[1;31mTypeError\u001b[0m: can only concatenate tuple (not \"str\") to tuple"
     ]
    }
   ],
   "source": [
    "tuple1 + \"py\""
   ]
  },
  {
   "cell_type": "code",
   "execution_count": 7,
   "id": "f8f5ec94-f728-4e97-9aa5-440a0467bc0a",
   "metadata": {},
   "outputs": [
    {
     "name": "stdout",
     "output_type": "stream",
     "text": [
      "(10, 20, 30)\n",
      "(30, 40, 50)\n",
      "(20, 30, 40)\n"
     ]
    }
   ],
   "source": [
    "#Example 3: Tuple Slicing\n",
    "\n",
    "my_tuple = (10, 20, 30, 40, 50)\n",
    "\n",
    "# Slicing tuples\n",
    "print(my_tuple[:3])    \n",
    "print(my_tuple[2:])    \n",
    "print(my_tuple[1:4])   "
   ]
  },
  {
   "cell_type": "code",
   "execution_count": 8,
   "id": "61d727cd-da5b-4ad7-add4-e2b5d1743cba",
   "metadata": {},
   "outputs": [
    {
     "name": "stdout",
     "output_type": "stream",
     "text": [
      "(1, 2, 3)\n",
      "c\n"
     ]
    }
   ],
   "source": [
    "#Example 4: Nesting Tuples\n",
    "\n",
    "tuple1 = (1, 2, 3)\n",
    "tuple2 = ('a', 'b', 'c')\n",
    "nested_tuple = (tuple1, tuple2)\n",
    "\n",
    "# Accessing elements in nested tuple\n",
    "print(nested_tuple[0])          \n",
    "print(nested_tuple[1][2])       "
   ]
  },
  {
   "cell_type": "code",
   "execution_count": 9,
   "id": "08c86ed7-e684-4872-9ba7-9c33270a5045",
   "metadata": {},
   "outputs": [
    {
     "data": {
      "text/plain": [
       "((1, 2, 3), ('a', 'b', 'c'))"
      ]
     },
     "execution_count": 9,
     "metadata": {},
     "output_type": "execute_result"
    }
   ],
   "source": [
    "nested_tuple"
   ]
  },
  {
   "cell_type": "code",
   "execution_count": 12,
   "id": "83c1ea33-6177-431f-b5d6-bb0c9ea53935",
   "metadata": {},
   "outputs": [
    {
     "data": {
      "text/plain": [
       "'c'"
      ]
     },
     "execution_count": 12,
     "metadata": {},
     "output_type": "execute_result"
    }
   ],
   "source": [
    "nested_tuple[1][2]"
   ]
  },
  {
   "cell_type": "code",
   "execution_count": 14,
   "id": "94ed5b32-d117-4ecd-8cc2-10acf46a92d8",
   "metadata": {},
   "outputs": [
    {
     "ename": "ValueError",
     "evalue": "too many values to unpack (expected 3)",
     "output_type": "error",
     "traceback": [
      "\u001b[1;31m---------------------------------------------------------------------------\u001b[0m",
      "\u001b[1;31mValueError\u001b[0m                                Traceback (most recent call last)",
      "Cell \u001b[1;32mIn[14], line 7\u001b[0m\n\u001b[0;32m      4\u001b[0m my_tuple \u001b[38;5;241m=\u001b[39m (\u001b[38;5;124m'\u001b[39m\u001b[38;5;124mJohn\u001b[39m\u001b[38;5;124m'\u001b[39m, \u001b[38;5;124m'\u001b[39m\u001b[38;5;124mDoe\u001b[39m\u001b[38;5;124m'\u001b[39m, \u001b[38;5;241m30\u001b[39m, \u001b[38;5;241m50\u001b[39m)\n\u001b[0;32m      6\u001b[0m \u001b[38;5;66;03m# Unpacking tuple into variables\u001b[39;00m\n\u001b[1;32m----> 7\u001b[0m first_name, last_name, age \u001b[38;5;241m=\u001b[39m my_tuple\n\u001b[0;32m      9\u001b[0m \u001b[38;5;28mprint\u001b[39m(first_name)    \n\u001b[0;32m     10\u001b[0m \u001b[38;5;28mprint\u001b[39m(last_name)     \n",
      "\u001b[1;31mValueError\u001b[0m: too many values to unpack (expected 3)"
     ]
    }
   ],
   "source": [
    "#Example 5: Tuple Unpacking\n",
    "\n",
    "\n",
    "my_tuple = ('John', 'Doe', 30, 50)\n",
    "\n",
    "# Unpacking tuple into variables\n",
    "first_name, last_name, age = my_tuple\n",
    "\n",
    "print(first_name)    \n",
    "print(last_name)     \n",
    "print(age)           "
   ]
  },
  {
   "cell_type": "code",
   "execution_count": 15,
   "id": "541c59bd-d7e7-43b9-a6d8-0fa5a6ddef80",
   "metadata": {},
   "outputs": [
    {
     "data": {
      "text/plain": [
       "['__add__',\n",
       " '__class__',\n",
       " '__class_getitem__',\n",
       " '__contains__',\n",
       " '__delattr__',\n",
       " '__dir__',\n",
       " '__doc__',\n",
       " '__eq__',\n",
       " '__format__',\n",
       " '__ge__',\n",
       " '__getattribute__',\n",
       " '__getitem__',\n",
       " '__getnewargs__',\n",
       " '__getstate__',\n",
       " '__gt__',\n",
       " '__hash__',\n",
       " '__init__',\n",
       " '__init_subclass__',\n",
       " '__iter__',\n",
       " '__le__',\n",
       " '__len__',\n",
       " '__lt__',\n",
       " '__mul__',\n",
       " '__ne__',\n",
       " '__new__',\n",
       " '__reduce__',\n",
       " '__reduce_ex__',\n",
       " '__repr__',\n",
       " '__rmul__',\n",
       " '__setattr__',\n",
       " '__sizeof__',\n",
       " '__str__',\n",
       " '__subclasshook__',\n",
       " 'count',\n",
       " 'index']"
      ]
     },
     "execution_count": 15,
     "metadata": {},
     "output_type": "execute_result"
    }
   ],
   "source": [
    "dir(tuple)"
   ]
  },
  {
   "cell_type": "code",
   "execution_count": 16,
   "id": "4b8e9848-032c-4065-a942-e327ac0986b8",
   "metadata": {},
   "outputs": [
    {
     "name": "stdout",
     "output_type": "stream",
     "text": [
      "3\n"
     ]
    }
   ],
   "source": [
    "# Example 6: Using Built-in Tuple Methods\n",
    "\n",
    "my_tuple = (1, 2, 2, 3, 4, 2)\n",
    "\n",
    "# Using count method\n",
    "print(my_tuple.count(2))  # Output: 3"
   ]
  },
  {
   "cell_type": "code",
   "execution_count": 20,
   "id": "f3227a72-bd3f-407f-88a7-7902fabe303d",
   "metadata": {},
   "outputs": [
    {
     "name": "stdout",
     "output_type": "stream",
     "text": [
      "4\n"
     ]
    }
   ],
   "source": [
    "# Using index method\n",
    "print(my_tuple.index(4))  # Output: 3"
   ]
  },
  {
   "cell_type": "code",
   "execution_count": 21,
   "id": "c6365462-fcf3-4463-a11a-fb474e193811",
   "metadata": {},
   "outputs": [
    {
     "ename": "TypeError",
     "evalue": "'tuple' object does not support item assignment",
     "output_type": "error",
     "traceback": [
      "\u001b[1;31m---------------------------------------------------------------------------\u001b[0m",
      "\u001b[1;31mTypeError\u001b[0m                                 Traceback (most recent call last)",
      "Cell \u001b[1;32mIn[21], line 6\u001b[0m\n\u001b[0;32m      3\u001b[0m my_tuple \u001b[38;5;241m=\u001b[39m (\u001b[38;5;241m1\u001b[39m, \u001b[38;5;241m2\u001b[39m, \u001b[38;5;241m3\u001b[39m)\n\u001b[0;32m      5\u001b[0m \u001b[38;5;66;03m# Trying to modify tuple (will raise TypeError)\u001b[39;00m\n\u001b[1;32m----> 6\u001b[0m my_tuple[\u001b[38;5;241m0\u001b[39m] \u001b[38;5;241m=\u001b[39m \u001b[38;5;241m10\u001b[39m\n",
      "\u001b[1;31mTypeError\u001b[0m: 'tuple' object does not support item assignment"
     ]
    }
   ],
   "source": [
    "# Example 7: Immutable Nature of Tuples\n",
    "\n",
    "my_tuple = (1, 2, 3)\n",
    "\n",
    "# Trying to modify tuple (will raise TypeError)\n",
    "my_tuple[0] = 10\n",
    "# Uncommenting the above line will raise a TypeError: 'tuple' object does not support item assignment"
   ]
  },
  {
   "cell_type": "code",
   "execution_count": 22,
   "id": "e68c7ca4-50a0-4c9c-b268-29c5a66f05d1",
   "metadata": {},
   "outputs": [
    {
     "name": "stdout",
     "output_type": "stream",
     "text": [
      "John Doe\n",
      "6000\n"
     ]
    }
   ],
   "source": [
    "# Example 1: Database Records\n",
    "# Simulating database records as tuples\n",
    "\n",
    "employee1 = (1, 'John Doe', 'Engineering', 5000)\n",
    "employee2 = (2, 'Jane Smith', 'Marketing', 6000)\n",
    "\n",
    "# Accessing attributes of an employee\n",
    "print(employee1[1])  # Output: 'John Doe'\n",
    "print(employee2[3])  # Output: 6000"
   ]
  },
  {
   "cell_type": "code",
   "execution_count": 23,
   "id": "fd31777c-2408-42a2-ae43-ffab1b9a32e6",
   "metadata": {},
   "outputs": [
    {
     "name": "stdout",
     "output_type": "stream",
     "text": [
      "5.385164807134504\n"
     ]
    }
   ],
   "source": [
    "# Example 2: Coordinates or Points\n",
    "\n",
    "# Coordinates of points\n",
    "point1 = (3, 5)\n",
    "point2 = (-2, 7)\n",
    "\n",
    "# Calculating distance (hypothetical example)\n",
    "distance = ((point2[0] - point1[0]) ** 2 + (point2[1] - point1[1]) ** 2) ** 0.5\n",
    "print(distance)  # Output: 5.0"
   ]
  },
  {
   "cell_type": "code",
   "execution_count": null,
   "id": "da3fd898-0b74-44bb-b6f4-ea34d342d222",
   "metadata": {},
   "outputs": [],
   "source": []
  }
 ],
 "metadata": {
  "kernelspec": {
   "display_name": "Python 3 (ipykernel)",
   "language": "python",
   "name": "python3"
  },
  "language_info": {
   "codemirror_mode": {
    "name": "ipython",
    "version": 3
   },
   "file_extension": ".py",
   "mimetype": "text/x-python",
   "name": "python",
   "nbconvert_exporter": "python",
   "pygments_lexer": "ipython3",
   "version": "3.11.7"
  }
 },
 "nbformat": 4,
 "nbformat_minor": 5
}
