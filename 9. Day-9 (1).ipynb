{
 "cells": [
  {
   "cell_type": "raw",
   "id": "fc83b453-1a61-440d-b0ab-0e36e90867ec",
   "metadata": {},
   "source": [
    "In Python, a set is an unordered collection of unique elements. Here are some key characteristics and features of sets in Python:\n",
    "\n",
    "Unordered Collection: Items in a set are stored in an unordered manner, which means sets do not record element position or order of insertion.\n",
    "\n",
    "Unique Elements: A set cannot contain duplicate elements. If you try to add a duplicate element to a set, it will not be added.\n",
    "\n",
    "No Indexing: Sets do not support indexing, slicing, or other sequence-like behavior. You cannot access items in a set by index.\n",
    "\n",
    "Operations: Sets support mathematical set operations like union, intersection, difference, and symmetric difference. These operations are performed efficiently."
   ]
  },
  {
   "cell_type": "code",
   "execution_count": 6,
   "id": "4f4de21c-7c44-4e4e-868b-b1e9e1f9b293",
   "metadata": {},
   "outputs": [],
   "source": [
    "# Creating sets\n",
    "set1 = {1, 2, 3, 4, 5}\n",
    "\n",
    "set2 = set([3, 4, 5, 6, 7])"
   ]
  },
  {
   "cell_type": "code",
   "execution_count": 7,
   "id": "e6e7b087-e3ad-407b-9a39-810b7319b756",
   "metadata": {},
   "outputs": [
    {
     "data": {
      "text/plain": [
       "{3, 4, 5, 6, 7}"
      ]
     },
     "execution_count": 7,
     "metadata": {},
     "output_type": "execute_result"
    }
   ],
   "source": [
    "set2"
   ]
  },
  {
   "cell_type": "code",
   "execution_count": 8,
   "id": "bd536577-1f05-4c1d-beb5-40e3b32421de",
   "metadata": {},
   "outputs": [
    {
     "data": {
      "text/plain": [
       "{1, 2, 3, 4, 5}"
      ]
     },
     "execution_count": 8,
     "metadata": {},
     "output_type": "execute_result"
    }
   ],
   "source": [
    "set1"
   ]
  },
  {
   "cell_type": "markdown",
   "id": "fad13636-c169-4564-845e-6b9fcbc08b25",
   "metadata": {},
   "source": [
    "### concatination "
   ]
  },
  {
   "cell_type": "code",
   "execution_count": 10,
   "id": "eeb830bc-75ec-4f24-9211-360342ff62df",
   "metadata": {},
   "outputs": [
    {
     "ename": "TypeError",
     "evalue": "unsupported operand type(s) for +: 'set' and 'set'",
     "output_type": "error",
     "traceback": [
      "\u001b[1;31m---------------------------------------------------------------------------\u001b[0m",
      "\u001b[1;31mTypeError\u001b[0m                                 Traceback (most recent call last)",
      "Cell \u001b[1;32mIn[10], line 1\u001b[0m\n\u001b[1;32m----> 1\u001b[0m set1 \u001b[38;5;241m+\u001b[39m set2\n",
      "\u001b[1;31mTypeError\u001b[0m: unsupported operand type(s) for +: 'set' and 'set'"
     ]
    }
   ],
   "source": [
    "set1 + set2"
   ]
  },
  {
   "cell_type": "markdown",
   "id": "5fd8e911-3d09-44a0-8ea6-194ce1bf34ac",
   "metadata": {},
   "source": [
    "### repeatation"
   ]
  },
  {
   "cell_type": "code",
   "execution_count": 11,
   "id": "5cb707f5-8370-4587-add2-440fccd3e756",
   "metadata": {},
   "outputs": [
    {
     "ename": "TypeError",
     "evalue": "unsupported operand type(s) for *: 'set' and 'int'",
     "output_type": "error",
     "traceback": [
      "\u001b[1;31m---------------------------------------------------------------------------\u001b[0m",
      "\u001b[1;31mTypeError\u001b[0m                                 Traceback (most recent call last)",
      "Cell \u001b[1;32mIn[11], line 1\u001b[0m\n\u001b[1;32m----> 1\u001b[0m set1 \u001b[38;5;241m*\u001b[39m\u001b[38;5;241m2\u001b[39m\n",
      "\u001b[1;31mTypeError\u001b[0m: unsupported operand type(s) for *: 'set' and 'int'"
     ]
    }
   ],
   "source": [
    "set1 *2"
   ]
  },
  {
   "cell_type": "markdown",
   "id": "2e6d5607-2dcb-4282-b539-d0c11cae0923",
   "metadata": {},
   "source": [
    "### indexing"
   ]
  },
  {
   "cell_type": "code",
   "execution_count": 13,
   "id": "b26640ef-f82c-4cfe-9705-7ac8f5f5dcc0",
   "metadata": {},
   "outputs": [
    {
     "ename": "TypeError",
     "evalue": "'set' object is not subscriptable",
     "output_type": "error",
     "traceback": [
      "\u001b[1;31m---------------------------------------------------------------------------\u001b[0m",
      "\u001b[1;31mTypeError\u001b[0m                                 Traceback (most recent call last)",
      "Cell \u001b[1;32mIn[13], line 1\u001b[0m\n\u001b[1;32m----> 1\u001b[0m set1[\u001b[38;5;241m2\u001b[39m]\n",
      "\u001b[1;31mTypeError\u001b[0m: 'set' object is not subscriptable"
     ]
    }
   ],
   "source": [
    "set1[2]"
   ]
  },
  {
   "cell_type": "markdown",
   "id": "9294fc58-6c31-4085-972a-4ef8b9dfb74c",
   "metadata": {},
   "source": [
    "### slicing "
   ]
  },
  {
   "cell_type": "code",
   "execution_count": 14,
   "id": "47eee54e-191b-4c49-8e32-a54288b25b30",
   "metadata": {},
   "outputs": [
    {
     "ename": "TypeError",
     "evalue": "'set' object is not subscriptable",
     "output_type": "error",
     "traceback": [
      "\u001b[1;31m---------------------------------------------------------------------------\u001b[0m",
      "\u001b[1;31mTypeError\u001b[0m                                 Traceback (most recent call last)",
      "Cell \u001b[1;32mIn[14], line 1\u001b[0m\n\u001b[1;32m----> 1\u001b[0m set1[:]\n",
      "\u001b[1;31mTypeError\u001b[0m: 'set' object is not subscriptable"
     ]
    }
   ],
   "source": [
    "set1[:]"
   ]
  },
  {
   "cell_type": "markdown",
   "id": "fe497b98-d75c-4556-ba0b-7f0c423db65e",
   "metadata": {},
   "source": [
    "### mutation"
   ]
  },
  {
   "cell_type": "code",
   "execution_count": 16,
   "id": "21aa83dc-c0fd-4c0d-a220-ca7adcd499f1",
   "metadata": {},
   "outputs": [
    {
     "ename": "TypeError",
     "evalue": "'set' object does not support item assignment",
     "output_type": "error",
     "traceback": [
      "\u001b[1;31m---------------------------------------------------------------------------\u001b[0m",
      "\u001b[1;31mTypeError\u001b[0m                                 Traceback (most recent call last)",
      "Cell \u001b[1;32mIn[16], line 1\u001b[0m\n\u001b[1;32m----> 1\u001b[0m set1[\u001b[38;5;241m2\u001b[39m] \u001b[38;5;241m=\u001b[39m \u001b[38;5;241m33\u001b[39m\n",
      "\u001b[1;31mTypeError\u001b[0m: 'set' object does not support item assignment"
     ]
    }
   ],
   "source": [
    "set1[2] = 33"
   ]
  },
  {
   "cell_type": "code",
   "execution_count": 18,
   "id": "de66e3f7-8e14-4418-bb73-66d878958067",
   "metadata": {},
   "outputs": [
    {
     "data": {
      "text/plain": [
       "True"
      ]
     },
     "execution_count": 18,
     "metadata": {},
     "output_type": "execute_result"
    }
   ],
   "source": [
    "3 in set1"
   ]
  },
  {
   "cell_type": "code",
   "execution_count": 19,
   "id": "39c02453-3f92-40dd-9dfd-88787e6f99bb",
   "metadata": {},
   "outputs": [
    {
     "name": "stderr",
     "output_type": "stream",
     "text": [
      "<>:1: SyntaxWarning: \"is\" with a literal. Did you mean \"==\"?\n",
      "<>:1: SyntaxWarning: \"is\" with a literal. Did you mean \"==\"?\n",
      "C:\\Users\\amitm\\AppData\\Local\\Temp\\ipykernel_1100\\1630009485.py:1: SyntaxWarning: \"is\" with a literal. Did you mean \"==\"?\n",
      "  3 is set1\n"
     ]
    },
    {
     "data": {
      "text/plain": [
       "False"
      ]
     },
     "execution_count": 19,
     "metadata": {},
     "output_type": "execute_result"
    }
   ],
   "source": [
    "3 is set1"
   ]
  },
  {
   "cell_type": "code",
   "execution_count": 20,
   "id": "60c68393-755b-49f1-944b-6f97281f9d85",
   "metadata": {},
   "outputs": [
    {
     "data": {
      "text/plain": [
       "['__and__',\n",
       " '__class__',\n",
       " '__class_getitem__',\n",
       " '__contains__',\n",
       " '__delattr__',\n",
       " '__dir__',\n",
       " '__doc__',\n",
       " '__eq__',\n",
       " '__format__',\n",
       " '__ge__',\n",
       " '__getattribute__',\n",
       " '__getstate__',\n",
       " '__gt__',\n",
       " '__hash__',\n",
       " '__iand__',\n",
       " '__init__',\n",
       " '__init_subclass__',\n",
       " '__ior__',\n",
       " '__isub__',\n",
       " '__iter__',\n",
       " '__ixor__',\n",
       " '__le__',\n",
       " '__len__',\n",
       " '__lt__',\n",
       " '__ne__',\n",
       " '__new__',\n",
       " '__or__',\n",
       " '__rand__',\n",
       " '__reduce__',\n",
       " '__reduce_ex__',\n",
       " '__repr__',\n",
       " '__ror__',\n",
       " '__rsub__',\n",
       " '__rxor__',\n",
       " '__setattr__',\n",
       " '__sizeof__',\n",
       " '__str__',\n",
       " '__sub__',\n",
       " '__subclasshook__',\n",
       " '__xor__',\n",
       " 'add',\n",
       " 'clear',\n",
       " 'copy',\n",
       " 'difference',\n",
       " 'difference_update',\n",
       " 'discard',\n",
       " 'intersection',\n",
       " 'intersection_update',\n",
       " 'isdisjoint',\n",
       " 'issubset',\n",
       " 'issuperset',\n",
       " 'pop',\n",
       " 'remove',\n",
       " 'symmetric_difference',\n",
       " 'symmetric_difference_update',\n",
       " 'union',\n",
       " 'update']"
      ]
     },
     "execution_count": 20,
     "metadata": {},
     "output_type": "execute_result"
    }
   ],
   "source": [
    "dir(set)"
   ]
  },
  {
   "cell_type": "code",
   "execution_count": 21,
   "id": "febc2cde-cc8f-4825-82e0-4a31a12da2ca",
   "metadata": {},
   "outputs": [],
   "source": [
    "# updates\n",
    "\n",
    "s1 = {1, 2, 3}\n",
    "s2 = {3, 4, 5}\n",
    "s1.update(s2)  # s1 is now {1, 2, 3, 4, 5}"
   ]
  },
  {
   "cell_type": "code",
   "execution_count": 22,
   "id": "9104c384-48b3-43f0-9e27-707edd1d76c9",
   "metadata": {},
   "outputs": [
    {
     "data": {
      "text/plain": [
       "{1, 2, 3, 4, 5}"
      ]
     },
     "execution_count": 22,
     "metadata": {},
     "output_type": "execute_result"
    }
   ],
   "source": [
    "s1"
   ]
  },
  {
   "cell_type": "code",
   "execution_count": 29,
   "id": "a7c8800a-3239-4604-9303-dca9eda59549",
   "metadata": {},
   "outputs": [
    {
     "ename": "KeyError",
     "evalue": "7",
     "output_type": "error",
     "traceback": [
      "\u001b[1;31m---------------------------------------------------------------------------\u001b[0m",
      "\u001b[1;31mKeyError\u001b[0m                                  Traceback (most recent call last)",
      "Cell \u001b[1;32mIn[29], line 4\u001b[0m\n\u001b[0;32m      1\u001b[0m \u001b[38;5;66;03m# remove\u001b[39;00m\n\u001b[0;32m      3\u001b[0m s \u001b[38;5;241m=\u001b[39m {\u001b[38;5;241m1\u001b[39m, \u001b[38;5;241m2\u001b[39m, \u001b[38;5;241m3\u001b[39m}\n\u001b[1;32m----> 4\u001b[0m s\u001b[38;5;241m.\u001b[39mremove(\u001b[38;5;241m7\u001b[39m)\n",
      "\u001b[1;31mKeyError\u001b[0m: 7"
     ]
    }
   ],
   "source": [
    "# remove\n",
    "\n",
    "s = {1, 2, 3}\n",
    "s.remove(7)  # s is now {1, 3}"
   ]
  },
  {
   "cell_type": "code",
   "execution_count": 24,
   "id": "83fb33b4-449a-4d20-9110-3668d94b77d0",
   "metadata": {},
   "outputs": [
    {
     "data": {
      "text/plain": [
       "{1, 3}"
      ]
     },
     "execution_count": 24,
     "metadata": {},
     "output_type": "execute_result"
    }
   ],
   "source": [
    "s"
   ]
  },
  {
   "cell_type": "code",
   "execution_count": 27,
   "id": "384da12d-acdc-4875-a1e9-5eb18c2e1f58",
   "metadata": {},
   "outputs": [],
   "source": [
    "# discard\n",
    "\n",
    "s = {1, 2, 3}\n",
    "s.discard(7)  # s remains {1, 2, 3}"
   ]
  },
  {
   "cell_type": "code",
   "execution_count": 28,
   "id": "34264a91-4f90-4bb5-b302-b325b7f858d1",
   "metadata": {},
   "outputs": [
    {
     "data": {
      "text/plain": [
       "{1, 2, 3}"
      ]
     },
     "execution_count": 28,
     "metadata": {},
     "output_type": "execute_result"
    }
   ],
   "source": [
    "s"
   ]
  },
  {
   "cell_type": "code",
   "execution_count": 30,
   "id": "d0d89839-055a-4f72-949f-04d9189ab6f8",
   "metadata": {},
   "outputs": [],
   "source": [
    "# pop\n",
    "\n",
    "s = {1, 2, 3}\n",
    "x = s.pop()  # s is now {2, 3}, x is the removed element (e.g., 1)"
   ]
  },
  {
   "cell_type": "code",
   "execution_count": 31,
   "id": "219af387-d5a5-4d28-968a-26e1ceaa96f4",
   "metadata": {},
   "outputs": [
    {
     "data": {
      "text/plain": [
       "1"
      ]
     },
     "execution_count": 31,
     "metadata": {},
     "output_type": "execute_result"
    }
   ],
   "source": [
    "x"
   ]
  },
  {
   "cell_type": "code",
   "execution_count": 32,
   "id": "23c40234-e99a-4e8a-8b28-bf837237315f",
   "metadata": {},
   "outputs": [],
   "source": [
    "# clear\n",
    "\n",
    "s = {1, 2, 3}\n",
    "s.clear()  # s is now an empty set, set()"
   ]
  },
  {
   "cell_type": "code",
   "execution_count": 33,
   "id": "5913068d-11c4-41b3-b41e-224779eefb96",
   "metadata": {},
   "outputs": [
    {
     "data": {
      "text/plain": [
       "set()"
      ]
     },
     "execution_count": 33,
     "metadata": {},
     "output_type": "execute_result"
    }
   ],
   "source": [
    "s"
   ]
  },
  {
   "cell_type": "code",
   "execution_count": 34,
   "id": "f46a60c4-e043-4102-9e11-74b8426ce15c",
   "metadata": {},
   "outputs": [],
   "source": [
    "# union\n",
    "\n",
    "s1 = {1, 2, 3}\n",
    "s2 = {3, 4, 5}\n",
    "s3 = s1.union(s2)  # s3 is {1, 2, 3, 4, 5}"
   ]
  },
  {
   "cell_type": "code",
   "execution_count": 35,
   "id": "53aad4f4-798f-4e3a-a148-2ed805b1b56d",
   "metadata": {},
   "outputs": [
    {
     "data": {
      "text/plain": [
       "{1, 2, 3, 4, 5}"
      ]
     },
     "execution_count": 35,
     "metadata": {},
     "output_type": "execute_result"
    }
   ],
   "source": [
    "s3"
   ]
  },
  {
   "cell_type": "code",
   "execution_count": 39,
   "id": "7b307dd4-b4f7-4354-aa9e-0ee13b5c7993",
   "metadata": {},
   "outputs": [],
   "source": [
    "goa_city = {\"panjim\", \"vascodegama\", \"madgaon\"}\n",
    "maha_city = {\"Mumbai\", \"nagpur\", \"pune\"}\n",
    "westernregion_city = {\"Mumbai\", \"pune\", \"panjim\"}"
   ]
  },
  {
   "cell_type": "code",
   "execution_count": 40,
   "id": "4df731f4-bb1f-4490-beef-fe2cf94dc652",
   "metadata": {},
   "outputs": [
    {
     "data": {
      "text/plain": [
       "{'Mumbai', 'madgaon', 'panjim', 'pune', 'vascodegama'}"
      ]
     },
     "execution_count": 40,
     "metadata": {},
     "output_type": "execute_result"
    }
   ],
   "source": [
    "goa_city.union(westernregion_city)"
   ]
  },
  {
   "cell_type": "code",
   "execution_count": 41,
   "id": "357751f0-cd17-49f6-87e1-f4dacef17e75",
   "metadata": {},
   "outputs": [
    {
     "data": {
      "text/plain": [
       "{'Mumbai', 'nagpur', 'panjim', 'pune'}"
      ]
     },
     "execution_count": 41,
     "metadata": {},
     "output_type": "execute_result"
    }
   ],
   "source": [
    "westernregion_city.union(maha_city)"
   ]
  },
  {
   "cell_type": "code",
   "execution_count": 42,
   "id": "7a7925a7-1283-4328-87de-5c7b189da79d",
   "metadata": {},
   "outputs": [
    {
     "data": {
      "text/plain": [
       "{'Mumbai', 'madgaon', 'nagpur', 'panjim', 'pune', 'vascodegama'}"
      ]
     },
     "execution_count": 42,
     "metadata": {},
     "output_type": "execute_result"
    }
   ],
   "source": [
    "maha_city.union(goa_city)"
   ]
  },
  {
   "cell_type": "code",
   "execution_count": 45,
   "id": "7a99b7f8-30b9-49f9-9608-fbd0d90bb94c",
   "metadata": {},
   "outputs": [],
   "source": [
    "# intersect\n",
    "\n",
    "s1 = {1, 2, 3,4}\n",
    "s2 = {3, 4, 5}\n",
    "s3 = s1.intersection(s2)  # s3 is {3}"
   ]
  },
  {
   "cell_type": "code",
   "execution_count": 46,
   "id": "66a11e12-6522-443d-8382-aef5b87035ec",
   "metadata": {},
   "outputs": [
    {
     "data": {
      "text/plain": [
       "{3, 4}"
      ]
     },
     "execution_count": 46,
     "metadata": {},
     "output_type": "execute_result"
    }
   ],
   "source": [
    "s3"
   ]
  },
  {
   "cell_type": "code",
   "execution_count": 52,
   "id": "7f5136da-bada-4e14-9da1-dceda6a1b2de",
   "metadata": {},
   "outputs": [],
   "source": [
    "# difference\n",
    "\n",
    "s1 = {1, 2, 3}\n",
    "s2 = {3, 4, 5}\n",
    "s3 = s1.difference(s2)  # s3 is {1, 2}"
   ]
  },
  {
   "cell_type": "code",
   "execution_count": 53,
   "id": "4e8a0ffb-9f10-4b72-8042-6ce667c8ee4f",
   "metadata": {},
   "outputs": [
    {
     "data": {
      "text/plain": [
       "{1, 2}"
      ]
     },
     "execution_count": 53,
     "metadata": {},
     "output_type": "execute_result"
    }
   ],
   "source": [
    "s3"
   ]
  },
  {
   "cell_type": "code",
   "execution_count": 49,
   "id": "79a1e722-9d32-4e83-83cc-f034c1a6bfe3",
   "metadata": {},
   "outputs": [
    {
     "data": {
      "text/plain": [
       "{4, 5}"
      ]
     },
     "execution_count": 49,
     "metadata": {},
     "output_type": "execute_result"
    }
   ],
   "source": [
    "s2.difference(s1)"
   ]
  },
  {
   "cell_type": "code",
   "execution_count": 55,
   "id": "e620cf21-e912-43fd-8792-f56a1711dea0",
   "metadata": {},
   "outputs": [
    {
     "data": {
      "text/plain": [
       "{'madgaon', 'vascodegama'}"
      ]
     },
     "execution_count": 55,
     "metadata": {},
     "output_type": "execute_result"
    }
   ],
   "source": [
    "goa_city.difference(westernregion_city)"
   ]
  },
  {
   "cell_type": "code",
   "execution_count": 56,
   "id": "0d5605eb-14a4-4ea2-8c8c-590f49fb915f",
   "metadata": {},
   "outputs": [
    {
     "data": {
      "text/plain": [
       "{'Mumbai', 'pune'}"
      ]
     },
     "execution_count": 56,
     "metadata": {},
     "output_type": "execute_result"
    }
   ],
   "source": [
    "westernregion_city.difference(goa_city)"
   ]
  },
  {
   "cell_type": "code",
   "execution_count": 57,
   "id": "92baea96-02d3-4c34-af8b-6c6978e3b4ca",
   "metadata": {},
   "outputs": [],
   "source": [
    "# symmetric_difference\n",
    "\n",
    "s1 = {1, 2, 3}\n",
    "s2 = {3, 4, 5}\n",
    "s3 = s1.symmetric_difference(s2)  # s3 is {1, 2, 4, 5}"
   ]
  },
  {
   "cell_type": "code",
   "execution_count": 59,
   "id": "a3e6ef38-9c11-4568-aa20-9a22a0eacdb4",
   "metadata": {},
   "outputs": [
    {
     "data": {
      "text/plain": [
       "{1, 2, 4, 5}"
      ]
     },
     "execution_count": 59,
     "metadata": {},
     "output_type": "execute_result"
    }
   ],
   "source": [
    "s3"
   ]
  },
  {
   "cell_type": "code",
   "execution_count": 60,
   "id": "0300163f-978d-4e5a-909d-4c70fd29eb97",
   "metadata": {},
   "outputs": [],
   "source": [
    "# copy\n",
    "\n",
    "s = {1, 2, 3}\n",
    "s_copy = s.copy()"
   ]
  },
  {
   "cell_type": "code",
   "execution_count": 63,
   "id": "10eb1b2a-8d32-4417-aa95-24b3e9b9761f",
   "metadata": {},
   "outputs": [
    {
     "data": {
      "text/plain": [
       "True"
      ]
     },
     "execution_count": 63,
     "metadata": {},
     "output_type": "execute_result"
    }
   ],
   "source": [
    "#issubset\n",
    "\n",
    "s1 = {1, 5}\n",
    "s2 = {1, 2, 3,5}\n",
    "s1.issubset(s2)  # True"
   ]
  },
  {
   "cell_type": "code",
   "execution_count": 66,
   "id": "6d514316-e03b-43da-acb1-608f15e47a96",
   "metadata": {},
   "outputs": [
    {
     "data": {
      "text/plain": [
       "False"
      ]
     },
     "execution_count": 66,
     "metadata": {},
     "output_type": "execute_result"
    }
   ],
   "source": [
    "s1 is s2"
   ]
  },
  {
   "cell_type": "code",
   "execution_count": 68,
   "id": "7b8a9bb8-e7d2-4254-a8d0-ded39cbdbc04",
   "metadata": {},
   "outputs": [
    {
     "data": {
      "text/plain": [
       "False"
      ]
     },
     "execution_count": 68,
     "metadata": {},
     "output_type": "execute_result"
    }
   ],
   "source": [
    "# superset\n",
    "\n",
    "s1 = {1, 2, 3}\n",
    "s2 = {1, 4}\n",
    "s1.issuperset(s2)  # True"
   ]
  },
  {
   "cell_type": "code",
   "execution_count": 70,
   "id": "dabcf2e7-e6ae-44dd-aba9-7af183610ede",
   "metadata": {},
   "outputs": [
    {
     "data": {
      "text/plain": [
       "False"
      ]
     },
     "execution_count": 70,
     "metadata": {},
     "output_type": "execute_result"
    }
   ],
   "source": [
    "# isdisjoin\n",
    "\n",
    "s1 = {1, 2, 3}\n",
    "s2 = {3, 4}\n",
    "s1.isdisjoint(s2)  # True"
   ]
  },
  {
   "cell_type": "code",
   "execution_count": 73,
   "id": "bd91051e-e0df-460f-92f0-14582211e9a0",
   "metadata": {},
   "outputs": [
    {
     "name": "stdout",
     "output_type": "stream",
     "text": [
      "{1, 2, 3, 4}\n"
     ]
    }
   ],
   "source": [
    "# add\n",
    "\n",
    "s = {1, 2, 3}\n",
    "s.add(4)\n",
    "print(s)  # Output: {1, 2, 3, 4}"
   ]
  },
  {
   "cell_type": "code",
   "execution_count": 75,
   "id": "37334f3e-11c1-47a8-8486-1b4483e9e73c",
   "metadata": {},
   "outputs": [],
   "source": [
    "# bCombining Union and Difference:**\n",
    "\n",
    "s1 = {1, 2, 3, 4}\n",
    "s2 = {3, 4, 5, 6}\n"
   ]
  },
  {
   "cell_type": "code",
   "execution_count": 76,
   "id": "f1c45869-0cba-4023-9d30-7151799b21ca",
   "metadata": {},
   "outputs": [
    {
     "name": "stdout",
     "output_type": "stream",
     "text": [
      "{1, 2, 5, 6}\n"
     ]
    }
   ],
   "source": [
    "# Elements present in s1 or s2, but not both\n",
    "result = (s1.union(s2)).difference(s1.intersection(s2))\n",
    "print(result)  # Output: {1, 2, 5, 6}"
   ]
  },
  {
   "cell_type": "code",
   "execution_count": 84,
   "id": "b878d0f8-ccb5-4664-a484-19e65a88dec8",
   "metadata": {},
   "outputs": [],
   "source": [
    "s4 = s1.union(s2)"
   ]
  },
  {
   "cell_type": "code",
   "execution_count": 86,
   "id": "94488eaf-066f-478d-a9b1-6122f39797b1",
   "metadata": {},
   "outputs": [
    {
     "data": {
      "text/plain": [
       "{1, 2, 3, 4, 5, 6}"
      ]
     },
     "execution_count": 86,
     "metadata": {},
     "output_type": "execute_result"
    }
   ],
   "source": [
    "s4"
   ]
  },
  {
   "cell_type": "code",
   "execution_count": 87,
   "id": "9de7620f-0991-4686-94f8-3d6642f73c45",
   "metadata": {},
   "outputs": [
    {
     "data": {
      "text/plain": [
       "{1, 2, 5, 6}"
      ]
     },
     "execution_count": 87,
     "metadata": {},
     "output_type": "execute_result"
    }
   ],
   "source": [
    "s4.difference(s5)"
   ]
  },
  {
   "cell_type": "code",
   "execution_count": 85,
   "id": "87db8c6e-3c34-47a2-96a5-5c8778d25b0b",
   "metadata": {},
   "outputs": [
    {
     "data": {
      "text/plain": [
       "{3, 4}"
      ]
     },
     "execution_count": 85,
     "metadata": {},
     "output_type": "execute_result"
    }
   ],
   "source": [
    "s1.intersection(s2)"
   ]
  },
  {
   "cell_type": "code",
   "execution_count": 88,
   "id": "62f8b6d5-729b-40b8-baa2-58729848c3eb",
   "metadata": {},
   "outputs": [
    {
     "data": {
      "text/plain": [
       "{1, 2, 5, 6}"
      ]
     },
     "execution_count": 88,
     "metadata": {},
     "output_type": "execute_result"
    }
   ],
   "source": [
    "s4-s5"
   ]
  },
  {
   "cell_type": "code",
   "execution_count": 89,
   "id": "528755e2-b4eb-4ff0-984e-d7123e1a35aa",
   "metadata": {},
   "outputs": [
    {
     "data": {
      "text/plain": [
       "{3, 4}"
      ]
     },
     "execution_count": 89,
     "metadata": {},
     "output_type": "execute_result"
    }
   ],
   "source": [
    "s1 & s2"
   ]
  },
  {
   "cell_type": "code",
   "execution_count": 91,
   "id": "be6d8f24-56c4-4d71-988d-bf3e282c8c94",
   "metadata": {},
   "outputs": [
    {
     "data": {
      "text/plain": [
       "{1, 2, 3, 4, 5, 6}"
      ]
     },
     "execution_count": 91,
     "metadata": {},
     "output_type": "execute_result"
    }
   ],
   "source": [
    "s1 | s2"
   ]
  },
  {
   "cell_type": "code",
   "execution_count": 92,
   "id": "28fadae9-ca22-4571-ad98-4f6466dbfe31",
   "metadata": {},
   "outputs": [],
   "source": [
    "data = [\n",
    "    {\"id\": 1, \"name\": \"John\"},\n",
    "    {\"id\": 2, \"name\": \"Alice\"},\n",
    "    {\"id\": 3, \"name\": \"John\"},\n",
    "    {\"id\": 4, \"name\": \"Bob\"},\n",
    "    {\"id\": 5, \"name\": \"Alice\"}\n",
    "]"
   ]
  },
  {
   "cell_type": "code",
   "execution_count": 93,
   "id": "fb0287dd-d498-4107-aa82-6c83e379dc81",
   "metadata": {},
   "outputs": [
    {
     "name": "stdout",
     "output_type": "stream",
     "text": [
      "Common tags: {'python'}\n"
     ]
    }
   ],
   "source": [
    "item1_tags = {\"python\", \"programming\", \"data-science\"}\n",
    "item2_tags = {\"python\", \"machine-learning\"}\n",
    "\n",
    "\n",
    "# Finding common tags between two items\n",
    "common_tags = item1_tags.intersection(item2_tags)\n",
    "print(\"Common tags:\", common_tags)"
   ]
  },
  {
   "cell_type": "code",
   "execution_count": null,
   "id": "f4e76551-2888-40d6-9665-8df08156fe94",
   "metadata": {},
   "outputs": [],
   "source": []
  }
 ],
 "metadata": {
  "kernelspec": {
   "display_name": "Python 3 (ipykernel)",
   "language": "python",
   "name": "python3"
  },
  "language_info": {
   "codemirror_mode": {
    "name": "ipython",
    "version": 3
   },
   "file_extension": ".py",
   "mimetype": "text/x-python",
   "name": "python",
   "nbconvert_exporter": "python",
   "pygments_lexer": "ipython3",
   "version": "3.11.7"
  }
 },
 "nbformat": 4,
 "nbformat_minor": 5
}
