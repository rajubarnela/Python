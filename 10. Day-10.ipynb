{
 "cells": [
  {
   "cell_type": "markdown",
   "id": "7ab2e0cc-16a9-4181-8f12-79b7edaff060",
   "metadata": {},
   "source": [
    "## Dictionaries\n",
    "\n",
    "A dictionary is a collection of unordered, modifiable(mutable) paired (key: value) data type.\n",
    "\n",
    "### Creating a Dictionary\n",
    "\n",
    "To create a dictionary we use curly brackets, {} or the *dict()* built-in function."
   ]
  },
  {
   "cell_type": "code",
   "execution_count": 1,
   "id": "c0da358e-9adb-406f-9c90-04d909e6600f",
   "metadata": {},
   "outputs": [],
   "source": [
    "empty_dict = {}\n",
    "# Dictionary with data values\n",
    "\n",
    "dct = {'key1':'value1', 'key2':'value2', 'key3':'value3', 'key4':'value4'}"
   ]
  },
  {
   "cell_type": "code",
   "execution_count": 2,
   "id": "260d2765-b3b5-4fd0-a1fd-aad6f63bfa6e",
   "metadata": {},
   "outputs": [
    {
     "data": {
      "text/plain": [
       "{'key1': 'value1', 'key2': 'value2', 'key3': 'value3', 'key4': 'value4'}"
      ]
     },
     "execution_count": 2,
     "metadata": {},
     "output_type": "execute_result"
    }
   ],
   "source": [
    "dct"
   ]
  },
  {
   "cell_type": "code",
   "execution_count": 3,
   "id": "9529b414-cd87-49c8-bd20-3afd71425d6b",
   "metadata": {},
   "outputs": [],
   "source": [
    "person = {\n",
    "    'first_name':'Asabeneh',\n",
    "    'last_name':'Yetayeh',\n",
    "    'age':250,\n",
    "    'country':'Finland',\n",
    "    'is_marred':True,\n",
    "    'skills':['JavaScript', 'React', 'Node', 'MongoDB', 'Python'],\n",
    "    'address':{\n",
    "        'street':'Space street',\n",
    "        'zipcode':'02210'\n",
    "    }\n",
    "    }"
   ]
  },
  {
   "cell_type": "code",
   "execution_count": 4,
   "id": "3eafb00a-de4f-42c7-93d2-1062edde340e",
   "metadata": {},
   "outputs": [
    {
     "data": {
      "text/plain": [
       "{'first_name': 'Asabeneh',\n",
       " 'last_name': 'Yetayeh',\n",
       " 'age': 250,\n",
       " 'country': 'Finland',\n",
       " 'is_marred': True,\n",
       " 'skills': ['JavaScript', 'React', 'Node', 'MongoDB', 'Python'],\n",
       " 'address': {'street': 'Space street', 'zipcode': '02210'}}"
      ]
     },
     "execution_count": 4,
     "metadata": {},
     "output_type": "execute_result"
    }
   ],
   "source": [
    "person"
   ]
  },
  {
   "cell_type": "code",
   "execution_count": 5,
   "id": "0beca778-3ded-49ec-879a-e524b4c8c47a",
   "metadata": {},
   "outputs": [
    {
     "name": "stdout",
     "output_type": "stream",
     "text": [
      "4\n"
     ]
    }
   ],
   "source": [
    "dct = {'key1':'value1', 'key2':'value2', 'key3':'value3', 'key4':'value4'}\n",
    "print(len(dct)) # 4"
   ]
  },
  {
   "cell_type": "code",
   "execution_count": 6,
   "id": "fa40a1d9-71af-4760-8706-dc5d89be5bed",
   "metadata": {},
   "outputs": [
    {
     "name": "stdout",
     "output_type": "stream",
     "text": [
      "7\n"
     ]
    }
   ],
   "source": [
    "person = {\n",
    "    'first_name':'Asabeneh',\n",
    "    'last_name':'Yetayeh',\n",
    "    'age':250,\n",
    "    'country':'Finland',\n",
    "    'is_marred':True,\n",
    "    'skills':['JavaScript', 'React', 'Node', 'MongoDB', 'Python'],\n",
    "    'address':{\n",
    "        'street':'Space street',\n",
    "        'zipcode':'02210'\n",
    "    }\n",
    "    }\n",
    "print(len(person)) "
   ]
  },
  {
   "cell_type": "markdown",
   "id": "23e6bf60-6fe6-47aa-af04-3b5e012a382e",
   "metadata": {},
   "source": [
    "### indexing"
   ]
  },
  {
   "cell_type": "code",
   "execution_count": 7,
   "id": "ae37e6d1-6100-4fec-b1d8-2f2e5b6b1eb9",
   "metadata": {},
   "outputs": [],
   "source": [
    "dct = {'key1':'value1', 'key2':'value2', 'key3':'value3', 'key4':'value4'}\n"
   ]
  },
  {
   "cell_type": "code",
   "execution_count": 8,
   "id": "f152dce3-bd2e-4055-9dad-0c666e250678",
   "metadata": {},
   "outputs": [
    {
     "data": {
      "text/plain": [
       "'value2'"
      ]
     },
     "execution_count": 8,
     "metadata": {},
     "output_type": "execute_result"
    }
   ],
   "source": [
    "dct[\"key2\"]"
   ]
  },
  {
   "cell_type": "code",
   "execution_count": 9,
   "id": "903cf8ae-2929-4616-9fca-df6f3e68e194",
   "metadata": {},
   "outputs": [
    {
     "data": {
      "text/plain": [
       "'value3'"
      ]
     },
     "execution_count": 9,
     "metadata": {},
     "output_type": "execute_result"
    }
   ],
   "source": [
    "dct[\"key3\"]"
   ]
  },
  {
   "cell_type": "code",
   "execution_count": 20,
   "id": "bae481ed-0ee8-4925-9762-3b087b2fb877",
   "metadata": {},
   "outputs": [
    {
     "data": {
      "text/plain": [
       "'Space street'"
      ]
     },
     "execution_count": 20,
     "metadata": {},
     "output_type": "execute_result"
    }
   ],
   "source": [
    "person[\"address\"][\"street\"]"
   ]
  },
  {
   "cell_type": "code",
   "execution_count": 18,
   "id": "04adf125-781a-47c3-aa92-2f2c9be32f9f",
   "metadata": {},
   "outputs": [
    {
     "data": {
      "text/plain": [
       "'MongoDB'"
      ]
     },
     "execution_count": 18,
     "metadata": {},
     "output_type": "execute_result"
    }
   ],
   "source": [
    "person[\"skills\"][3]"
   ]
  },
  {
   "cell_type": "code",
   "execution_count": 24,
   "id": "886c9fd3-2a3d-4c1d-bc95-61106ec2110a",
   "metadata": {},
   "outputs": [],
   "source": [
    "person = {\n",
    "    'first_name':'Asabeneh',\n",
    "    'last_name':'Yetayeh',\n",
    "    'age':25,\n",
    "    'country': ('Finland',\"sweden\"),\n",
    "    'is_marred':True,\n",
    "    'skills':['JavaScript', 'React', 'Node', {\"structure\": \"SQL\", \"Unstructured\" : \"Nosql\"}, 'Python'],\n",
    "    'address':{\n",
    "        'street':'Space street',\n",
    "        'zipcode':'02210'\n",
    "    }\n",
    "    }"
   ]
  },
  {
   "cell_type": "code",
   "execution_count": 25,
   "id": "2de5936d-6289-4cae-885d-31c0f402c60b",
   "metadata": {},
   "outputs": [
    {
     "data": {
      "text/plain": [
       "'SQL'"
      ]
     },
     "execution_count": 25,
     "metadata": {},
     "output_type": "execute_result"
    }
   ],
   "source": [
    "person[\"skills\"][3][\"structure\"]"
   ]
  },
  {
   "cell_type": "code",
   "execution_count": 26,
   "id": "bae77868-5ca1-44c5-949a-8e780bb4fab5",
   "metadata": {},
   "outputs": [
    {
     "name": "stdout",
     "output_type": "stream",
     "text": [
      "Asabeneh\n",
      "('Finland', 'sweden')\n",
      "['JavaScript', 'React', 'Node', {'structure': 'SQL', 'Unstructured': 'Nosql'}, 'Python']\n",
      "JavaScript\n",
      "Space street\n"
     ]
    },
    {
     "ename": "KeyError",
     "evalue": "'city'",
     "output_type": "error",
     "traceback": [
      "\u001b[1;31m---------------------------------------------------------------------------\u001b[0m",
      "\u001b[1;31mKeyError\u001b[0m                                  Traceback (most recent call last)",
      "Cell \u001b[1;32mIn[26], line 6\u001b[0m\n\u001b[0;32m      4\u001b[0m \u001b[38;5;28mprint\u001b[39m(person[\u001b[38;5;124m'\u001b[39m\u001b[38;5;124mskills\u001b[39m\u001b[38;5;124m'\u001b[39m][\u001b[38;5;241m0\u001b[39m])  \u001b[38;5;66;03m# JavaScript\u001b[39;00m\n\u001b[0;32m      5\u001b[0m \u001b[38;5;28mprint\u001b[39m(person[\u001b[38;5;124m'\u001b[39m\u001b[38;5;124maddress\u001b[39m\u001b[38;5;124m'\u001b[39m][\u001b[38;5;124m'\u001b[39m\u001b[38;5;124mstreet\u001b[39m\u001b[38;5;124m'\u001b[39m]) \u001b[38;5;66;03m# Space street\u001b[39;00m\n\u001b[1;32m----> 6\u001b[0m \u001b[38;5;28mprint\u001b[39m(person[\u001b[38;5;124m'\u001b[39m\u001b[38;5;124mcity\u001b[39m\u001b[38;5;124m'\u001b[39m])\n",
      "\u001b[1;31mKeyError\u001b[0m: 'city'"
     ]
    }
   ],
   "source": [
    "print(person['first_name']) # Asabeneh\n",
    "print(person['country'])    # Finland\n",
    "print(person['skills'])     # ['JavaScript', 'React', 'Node', 'MongoDB', 'Python']\n",
    "print(person['skills'][0])  # JavaScript\n",
    "print(person['address']['street']) # Space street\n",
    "print(person['city'])       # Error"
   ]
  },
  {
   "cell_type": "code",
   "execution_count": 27,
   "id": "f0f9995e-b694-4576-9fbd-a5a9338c7cf4",
   "metadata": {},
   "outputs": [
    {
     "name": "stdout",
     "output_type": "stream",
     "text": [
      "Asabeneh\n",
      "Finland\n",
      "['JavaScript', 'React', 'Node', 'MongoDB', 'Python']\n",
      "None\n"
     ]
    }
   ],
   "source": [
    "person = {\n",
    "    'first_name':'Asabeneh',\n",
    "    'last_name':'Yetayeh',\n",
    "    'age':250,\n",
    "    'country':'Finland',\n",
    "    'is_marred':True,\n",
    "    'skills':['JavaScript', 'React', 'Node', 'MongoDB', 'Python'],\n",
    "    'address':{\n",
    "        'street':'Space street',\n",
    "        'zipcode':'02210'\n",
    "    }\n",
    "    }\n",
    "print(person.get('first_name')) # Asabeneh\n",
    "print(person.get('country'))    # Finland\n",
    "print(person.get('skills')) #['HTML','CSS','JavaScript', 'React', 'Node', 'MongoDB', 'Python']\n",
    "print(person.get('city'))   # None"
   ]
  },
  {
   "cell_type": "code",
   "execution_count": 28,
   "id": "ecbfbe00-6f4a-4a97-829d-931a0a2f25b9",
   "metadata": {},
   "outputs": [],
   "source": [
    "person.get(\"name\")"
   ]
  },
  {
   "cell_type": "code",
   "execution_count": 29,
   "id": "f762d0b0-617c-4f25-9303-473e5019eae2",
   "metadata": {},
   "outputs": [
    {
     "ename": "KeyError",
     "evalue": "'name'",
     "output_type": "error",
     "traceback": [
      "\u001b[1;31m---------------------------------------------------------------------------\u001b[0m",
      "\u001b[1;31mKeyError\u001b[0m                                  Traceback (most recent call last)",
      "Cell \u001b[1;32mIn[29], line 1\u001b[0m\n\u001b[1;32m----> 1\u001b[0m person[\u001b[38;5;124m\"\u001b[39m\u001b[38;5;124mname\u001b[39m\u001b[38;5;124m\"\u001b[39m]\n",
      "\u001b[1;31mKeyError\u001b[0m: 'name'"
     ]
    }
   ],
   "source": [
    "person[\"name\"]"
   ]
  },
  {
   "cell_type": "code",
   "execution_count": 30,
   "id": "a432ac55-66e3-4a3e-ad98-6ab1cf3294d6",
   "metadata": {},
   "outputs": [],
   "source": [
    "dct = {'key1':'value1', 'key2':'value2', 'key3':'value3', 'key4':'value4'}\n",
    "dct['key5'] = 'value5'"
   ]
  },
  {
   "cell_type": "code",
   "execution_count": 31,
   "id": "b3fd4a4a-b707-417c-b4eb-ae6b1b3d9830",
   "metadata": {},
   "outputs": [
    {
     "data": {
      "text/plain": [
       "{'key1': 'value1',\n",
       " 'key2': 'value2',\n",
       " 'key3': 'value3',\n",
       " 'key4': 'value4',\n",
       " 'key5': 'value5'}"
      ]
     },
     "execution_count": 31,
     "metadata": {},
     "output_type": "execute_result"
    }
   ],
   "source": [
    "dct"
   ]
  },
  {
   "cell_type": "code",
   "execution_count": 32,
   "id": "8bb5074e-fb44-4847-90cc-20d386233283",
   "metadata": {},
   "outputs": [],
   "source": [
    "dct[\"key5\"] = \"value6\""
   ]
  },
  {
   "cell_type": "code",
   "execution_count": 33,
   "id": "dd86aea7-aa63-4daf-b92a-4d3f820c37b0",
   "metadata": {},
   "outputs": [
    {
     "data": {
      "text/plain": [
       "{'key1': 'value1',\n",
       " 'key2': 'value2',\n",
       " 'key3': 'value3',\n",
       " 'key4': 'value4',\n",
       " 'key5': 'value6'}"
      ]
     },
     "execution_count": 33,
     "metadata": {},
     "output_type": "execute_result"
    }
   ],
   "source": [
    "dct"
   ]
  },
  {
   "cell_type": "code",
   "execution_count": 34,
   "id": "b4ccb89e-72b8-4a2d-afa2-a52288831985",
   "metadata": {},
   "outputs": [
    {
     "name": "stdout",
     "output_type": "stream",
     "text": [
      "{'first_name': 'Asabeneh', 'last_name': 'Yetayeh', 'age': 250, 'country': 'Finland', 'is_marred': True, 'skills': ['JavaScript', 'React', 'Node', 'MongoDB', 'Python', 'HTML'], 'address': {'street': 'Space street', 'zipcode': '02210'}, 'job_title': 'Instructor'}\n"
     ]
    }
   ],
   "source": [
    "person = {\n",
    "    'first_name':'Asabeneh',\n",
    "    'last_name':'Yetayeh',\n",
    "    'age':250,\n",
    "    'country':'Finland',\n",
    "    'is_marred':True,\n",
    "    'skills':['JavaScript', 'React', 'Node', 'MongoDB', 'Python'],\n",
    "    'address':{\n",
    "        'street':'Space street',\n",
    "        'zipcode':'02210'\n",
    "        }\n",
    "}\n",
    "person['job_title'] = 'Instructor'\n",
    "\n",
    "person['skills'].append('HTML')\n",
    "\n",
    "print(person)"
   ]
  },
  {
   "cell_type": "code",
   "execution_count": 35,
   "id": "7d4b7da1-859f-4f76-8f9e-3ef59add6151",
   "metadata": {},
   "outputs": [
    {
     "data": {
      "text/plain": [
       "['__class__',\n",
       " '__class_getitem__',\n",
       " '__contains__',\n",
       " '__delattr__',\n",
       " '__delitem__',\n",
       " '__dir__',\n",
       " '__doc__',\n",
       " '__eq__',\n",
       " '__format__',\n",
       " '__ge__',\n",
       " '__getattribute__',\n",
       " '__getitem__',\n",
       " '__getstate__',\n",
       " '__gt__',\n",
       " '__hash__',\n",
       " '__init__',\n",
       " '__init_subclass__',\n",
       " '__ior__',\n",
       " '__iter__',\n",
       " '__le__',\n",
       " '__len__',\n",
       " '__lt__',\n",
       " '__ne__',\n",
       " '__new__',\n",
       " '__or__',\n",
       " '__reduce__',\n",
       " '__reduce_ex__',\n",
       " '__repr__',\n",
       " '__reversed__',\n",
       " '__ror__',\n",
       " '__setattr__',\n",
       " '__setitem__',\n",
       " '__sizeof__',\n",
       " '__str__',\n",
       " '__subclasshook__',\n",
       " 'clear',\n",
       " 'copy',\n",
       " 'fromkeys',\n",
       " 'get',\n",
       " 'items',\n",
       " 'keys',\n",
       " 'pop',\n",
       " 'popitem',\n",
       " 'setdefault',\n",
       " 'update',\n",
       " 'values']"
      ]
     },
     "execution_count": 35,
     "metadata": {},
     "output_type": "execute_result"
    }
   ],
   "source": [
    "dir(dict)"
   ]
  },
  {
   "cell_type": "code",
   "execution_count": 36,
   "id": "7c9064ed-e75c-4078-929c-a445b6216486",
   "metadata": {},
   "outputs": [],
   "source": [
    "dct = {'key1':'value1', 'key2':'value2', 'key3':'value3', 'key4':'value4'}\n",
    "dct['key1'] = 'value-one'"
   ]
  },
  {
   "cell_type": "code",
   "execution_count": 37,
   "id": "0cf0af61-6766-4e96-a2e6-71127f041baa",
   "metadata": {},
   "outputs": [
    {
     "data": {
      "text/plain": [
       "{'key1': 'value-one', 'key2': 'value2', 'key3': 'value3', 'key4': 'value4'}"
      ]
     },
     "execution_count": 37,
     "metadata": {},
     "output_type": "execute_result"
    }
   ],
   "source": [
    "dct"
   ]
  },
  {
   "cell_type": "code",
   "execution_count": 38,
   "id": "e137ee10-15d7-4df0-acc3-af46934c54a5",
   "metadata": {},
   "outputs": [
    {
     "name": "stdout",
     "output_type": "stream",
     "text": [
      "True\n",
      "False\n"
     ]
    }
   ],
   "source": [
    "dct = {'key1':'value1', 'key2':'value2', 'key3':'value3', 'key4':'value4'}\n",
    "print('key2' in dct) # True\n",
    "print('key5' in dct) # False"
   ]
  },
  {
   "cell_type": "code",
   "execution_count": 39,
   "id": "9ae11ad0-4ab1-49be-83a3-62e96c37c0d9",
   "metadata": {},
   "outputs": [
    {
     "data": {
      "text/plain": [
       "'value1'"
      ]
     },
     "execution_count": 39,
     "metadata": {},
     "output_type": "execute_result"
    }
   ],
   "source": [
    "#_pop(key)_: removes the item with the specified key name:\n",
    "# _popitem()_: removes the last item\n",
    "# _del_: removes an item with specified key name\n",
    "\n",
    "\n",
    "# syntax\n",
    "dct = {'key1':'value1', 'key2':'value2', 'key3':'value3', 'key4':'value4'}\n",
    "dct.pop('key1') # removes key1 item"
   ]
  },
  {
   "cell_type": "code",
   "execution_count": 40,
   "id": "b87befe2-4e08-436e-962d-33d76d3860c8",
   "metadata": {},
   "outputs": [
    {
     "data": {
      "text/plain": [
       "{'key2': 'value2', 'key3': 'value3', 'key4': 'value4'}"
      ]
     },
     "execution_count": 40,
     "metadata": {},
     "output_type": "execute_result"
    }
   ],
   "source": [
    "dct"
   ]
  },
  {
   "cell_type": "code",
   "execution_count": 41,
   "id": "1d2a2085-ecfd-44bf-90ff-8826c1aa2541",
   "metadata": {},
   "outputs": [
    {
     "data": {
      "text/plain": [
       "('key4', 'value4')"
      ]
     },
     "execution_count": 41,
     "metadata": {},
     "output_type": "execute_result"
    }
   ],
   "source": [
    "dct = {'key1':'value1', 'key2':'value2', 'key3':'value3', 'key4':'value4'}\n",
    "dct.popitem() # removes the last item"
   ]
  },
  {
   "cell_type": "code",
   "execution_count": null,
   "id": "61f819f6-6f79-4875-acd0-e9df630ac93e",
   "metadata": {},
   "outputs": [],
   "source": []
  },
  {
   "cell_type": "code",
   "execution_count": 42,
   "id": "32b0b309-1ad5-4c35-9dd0-65ad20a87b96",
   "metadata": {},
   "outputs": [],
   "source": [
    "del dct['key2'] # removes key2 item"
   ]
  },
  {
   "cell_type": "code",
   "execution_count": 43,
   "id": "82cad42e-276c-43b1-aef3-9e83dcc09f9a",
   "metadata": {},
   "outputs": [
    {
     "data": {
      "text/plain": [
       "{'key1': 'value1', 'key3': 'value3'}"
      ]
     },
     "execution_count": 43,
     "metadata": {},
     "output_type": "execute_result"
    }
   ],
   "source": [
    "dct"
   ]
  },
  {
   "cell_type": "code",
   "execution_count": 44,
   "id": "d581d994-e900-4163-b8bc-f4518a672c81",
   "metadata": {},
   "outputs": [],
   "source": [
    "del dct"
   ]
  },
  {
   "cell_type": "code",
   "execution_count": 45,
   "id": "243cc2d7-4964-4ea3-8093-3d66131d41b9",
   "metadata": {},
   "outputs": [
    {
     "ename": "NameError",
     "evalue": "name 'dct' is not defined",
     "output_type": "error",
     "traceback": [
      "\u001b[1;31m---------------------------------------------------------------------------\u001b[0m",
      "\u001b[1;31mNameError\u001b[0m                                 Traceback (most recent call last)",
      "Cell \u001b[1;32mIn[45], line 1\u001b[0m\n\u001b[1;32m----> 1\u001b[0m dct\n",
      "\u001b[1;31mNameError\u001b[0m: name 'dct' is not defined"
     ]
    }
   ],
   "source": [
    "dct"
   ]
  },
  {
   "cell_type": "code",
   "execution_count": 46,
   "id": "fc35f5e3-77a0-43e0-90b1-3ffa9e25188c",
   "metadata": {},
   "outputs": [
    {
     "name": "stdout",
     "output_type": "stream",
     "text": [
      "dict_items([('key1', 'value1'), ('key2', 'value2'), ('key3', 'value3'), ('key4', 'value4')])\n"
     ]
    }
   ],
   "source": [
    "dct = {'key1':'value1', 'key2':'value2', 'key3':'value3', 'key4':'value4'}\n",
    "\n",
    "print(dct.items()) # dict_items([('key1', 'value1'), ('key2', 'value2'), ('key3', 'value3'), ('key4', 'value4')])"
   ]
  },
  {
   "cell_type": "code",
   "execution_count": 47,
   "id": "adbdf017-80bd-40d7-a42c-ae5f909b3cdd",
   "metadata": {},
   "outputs": [
    {
     "data": {
      "text/plain": [
       "dict_keys(['key1', 'key2', 'key3', 'key4'])"
      ]
     },
     "execution_count": 47,
     "metadata": {},
     "output_type": "execute_result"
    }
   ],
   "source": [
    "dct.keys()"
   ]
  },
  {
   "cell_type": "code",
   "execution_count": 48,
   "id": "3df05b4e-692b-43cb-bfac-489c9a776c53",
   "metadata": {},
   "outputs": [
    {
     "data": {
      "text/plain": [
       "dict_values(['value1', 'value2', 'value3', 'value4'])"
      ]
     },
     "execution_count": 48,
     "metadata": {},
     "output_type": "execute_result"
    }
   ],
   "source": [
    "dct.values()"
   ]
  },
  {
   "cell_type": "code",
   "execution_count": 49,
   "id": "b5ba4baa-cf95-4a21-8c02-1d7284111627",
   "metadata": {},
   "outputs": [
    {
     "name": "stdout",
     "output_type": "stream",
     "text": [
      "None\n"
     ]
    }
   ],
   "source": [
    "dct = {'key1':'value1', 'key2':'value2', 'key3':'value3', 'key4':'value4'}\n",
    "print(dct.clear()) # None"
   ]
  },
  {
   "cell_type": "code",
   "execution_count": 50,
   "id": "a0a81866-fce9-4c86-82d6-ba6f3c67429b",
   "metadata": {},
   "outputs": [],
   "source": [
    "dct = {'key1':'value1', 'key2':'value2', 'key3':'value3', 'key4':'value4'}\n",
    "dct_copy = dct.copy() # {'key1':'value1', 'key2':'value2', 'key3':'value3', 'key4':'value4'}"
   ]
  },
  {
   "cell_type": "code",
   "execution_count": 51,
   "id": "9eb92fc0-6912-42e2-90c8-534d8a8cb7cc",
   "metadata": {},
   "outputs": [
    {
     "data": {
      "text/plain": [
       "{'key1': 'value1', 'key2': 'value2', 'key3': 'value3', 'key4': 'value4'}"
      ]
     },
     "execution_count": 51,
     "metadata": {},
     "output_type": "execute_result"
    }
   ],
   "source": [
    "dct_copy"
   ]
  },
  {
   "cell_type": "code",
   "execution_count": 53,
   "id": "32a292a0-824e-484b-878a-d03b68fd0ae9",
   "metadata": {},
   "outputs": [
    {
     "data": {
      "text/plain": [
       "{'first_name': 'Asabeneh',\n",
       " 'last_name': 'Yetayeh',\n",
       " 'age': 250,\n",
       " 'country': 'Finland',\n",
       " 'is_marred': True,\n",
       " 'skills': ['JavaScript', 'React', 'Node', 'MongoDB', 'Python', 'HTML'],\n",
       " 'address': {'street': 'Space street', 'zipcode': '02210'},\n",
       " 'job_title': 'Instructor'}"
      ]
     },
     "execution_count": 53,
     "metadata": {},
     "output_type": "execute_result"
    }
   ],
   "source": [
    "person"
   ]
  },
  {
   "cell_type": "code",
   "execution_count": 57,
   "id": "3ce05ef7-bf2c-47ab-a217-b5e80219d013",
   "metadata": {},
   "outputs": [
    {
     "data": {
      "text/plain": [
       "{'s': None, 'k': None, 'i': None, 'l': None}"
      ]
     },
     "execution_count": 57,
     "metadata": {},
     "output_type": "execute_result"
    }
   ],
   "source": [
    "person.fromkeys(\"skills\")"
   ]
  },
  {
   "cell_type": "code",
   "execution_count": 59,
   "id": "5803ee27-c7de-4dbe-85ad-6915a98fd0f8",
   "metadata": {},
   "outputs": [],
   "source": [
    "person.setdefault(\"salary\")"
   ]
  },
  {
   "cell_type": "code",
   "execution_count": 60,
   "id": "426451d7-6f3b-43e0-8c09-e9a7542d24a1",
   "metadata": {},
   "outputs": [
    {
     "data": {
      "text/plain": [
       "{'first_name': 'Asabeneh',\n",
       " 'last_name': 'Yetayeh',\n",
       " 'age': 250,\n",
       " 'country': 'Finland',\n",
       " 'is_marred': True,\n",
       " 'skills': ['JavaScript', 'React', 'Node', 'MongoDB', 'Python', 'HTML'],\n",
       " 'address': {'street': 'Space street', 'zipcode': '02210'},\n",
       " 'job_title': 'Instructor',\n",
       " 'salary': None}"
      ]
     },
     "execution_count": 60,
     "metadata": {},
     "output_type": "execute_result"
    }
   ],
   "source": [
    "person"
   ]
  },
  {
   "cell_type": "code",
   "execution_count": 61,
   "id": "30980539-1504-4941-bbfa-a6fde04c600f",
   "metadata": {},
   "outputs": [],
   "source": [
    "person[\"salary\"] = 56000"
   ]
  },
  {
   "cell_type": "code",
   "execution_count": 62,
   "id": "cf86adfd-3fa9-4668-86f4-d1b7c5b11dd3",
   "metadata": {},
   "outputs": [
    {
     "data": {
      "text/plain": [
       "{'first_name': 'Asabeneh',\n",
       " 'last_name': 'Yetayeh',\n",
       " 'age': 250,\n",
       " 'country': 'Finland',\n",
       " 'is_marred': True,\n",
       " 'skills': ['JavaScript', 'React', 'Node', 'MongoDB', 'Python', 'HTML'],\n",
       " 'address': {'street': 'Space street', 'zipcode': '02210'},\n",
       " 'job_title': 'Instructor',\n",
       " 'salary': 56000}"
      ]
     },
     "execution_count": 62,
     "metadata": {},
     "output_type": "execute_result"
    }
   ],
   "source": [
    "person"
   ]
  },
  {
   "cell_type": "code",
   "execution_count": 63,
   "id": "27a30abd-dd91-447a-b36e-1db192e37e79",
   "metadata": {},
   "outputs": [
    {
     "data": {
      "text/plain": [
       "<function dict.update>"
      ]
     },
     "execution_count": 63,
     "metadata": {},
     "output_type": "execute_result"
    }
   ],
   "source": [
    "person.update"
   ]
  },
  {
   "cell_type": "code",
   "execution_count": 64,
   "id": "10c4d7f9-60a2-4d27-9534-32f1b36efada",
   "metadata": {},
   "outputs": [
    {
     "name": "stdout",
     "output_type": "stream",
     "text": [
      "dark\n"
     ]
    }
   ],
   "source": [
    "### 1. **Web Development**\n",
    "\n",
    "#In web development, dictionaries are often used to represent and manipulate structured data such as user profiles,\n",
    "# settings, and configurations. For instance:\n",
    "\n",
    "\n",
    "user_profile = {\n",
    "    'username': 'john_doe',\n",
    "    'email': 'john.doe@example.com',\n",
    "    'full_name': 'John Doe',\n",
    "    'age': 30,\n",
    "    'is_active': True,\n",
    "    'preferences': {\n",
    "        'theme': 'dark',\n",
    "        'notifications': True,\n",
    "        'language': 'en_US'\n",
    "    }\n",
    "}\n",
    "\n",
    "# Accessing user preferences\n",
    "print(user_profile['preferences']['theme'])  # Output: 'dark'"
   ]
  },
  {
   "cell_type": "code",
   "execution_count": 65,
   "id": "d3108e7c-f8c5-450b-ad4b-e3d50ee5d8e8",
   "metadata": {},
   "outputs": [
    {
     "name": "stdout",
     "output_type": "stream",
     "text": [
      "income\n"
     ]
    }
   ],
   "source": [
    "### 2. **Data Science**\n",
    "\n",
    "#In data science and machine learning, dictionaries are used to manage datasets, feature mappings, and configurations:\n",
    " \n",
    "# Feature mapping dictionary\n",
    "feature_mapping = {\n",
    "    'feature1': 'age',\n",
    "    'feature2': 'income',\n",
    "    'feature3': 'education_level'\n",
    "}\n",
    "\n",
    "# Accessing feature names\n",
    "print(feature_mapping['feature2'])  # Output: 'income'"
   ]
  },
  {
   "cell_type": "code",
   "execution_count": null,
   "id": "e1f175f3-d545-48de-b9f4-db089575873f",
   "metadata": {},
   "outputs": [],
   "source": []
  }
 ],
 "metadata": {
  "kernelspec": {
   "display_name": "Python 3 (ipykernel)",
   "language": "python",
   "name": "python3"
  },
  "language_info": {
   "codemirror_mode": {
    "name": "ipython",
    "version": 3
   },
   "file_extension": ".py",
   "mimetype": "text/x-python",
   "name": "python",
   "nbconvert_exporter": "python",
   "pygments_lexer": "ipython3",
   "version": "3.11.7"
  }
 },
 "nbformat": 4,
 "nbformat_minor": 5
}
