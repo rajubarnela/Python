{
 "cells": [
  {
   "cell_type": "markdown",
   "id": "c124a1bc-69a5-432b-8451-44c82d66b36b",
   "metadata": {},
   "source": [
    "# Logical operators:-\n",
    "\n",
    "Logical operators in Python are used to combine multiple conditions or Boolean expressions. They allow you to create more complex conditions by combining simpler conditions together. Python supports three main logical operators: `and`, `or`, and `not`. Let's explore each of these in detail:"
   ]
  },
  {
   "cell_type": "code",
   "execution_count": 1,
   "id": "1491c643-5196-41b6-91d6-e7c35187c21e",
   "metadata": {},
   "outputs": [
    {
     "name": "stdout",
     "output_type": "stream",
     "text": [
      "True\n",
      "False\n",
      "False\n"
     ]
    }
   ],
   "source": [
    "### 1. `and` Operator\n",
    "\n",
    "#The `and` operator returns `True` if both operands are `True`, otherwise it returns `False`.\n",
    "\n",
    "# Example with 'and' operator\n",
    "x = 5\t\n",
    "y = 10\n",
    "\n",
    "result = (x > 0) and (y < 20)  # True because both conditions are True\n",
    "print(result)  # Output: True\n",
    "\n",
    "result = (x > 0) and (y > 20)  # False because y > 20 is False\n",
    "print(result)  # Output: False\n",
    "\n",
    "# Example with boolean variables\n",
    "is_adult = True\n",
    "has_license = False\n",
    "\n",
    "can_drive = is_adult and has_license\n",
    "print(can_drive)  # Output: False because has_license is False"
   ]
  },
  {
   "cell_type": "code",
   "execution_count": 2,
   "id": "db7b3caf-742c-4f0c-9816-a93471aef03b",
   "metadata": {},
   "outputs": [
    {
     "name": "stdout",
     "output_type": "stream",
     "text": [
      "True\n",
      "False\n",
      "True\n"
     ]
    }
   ],
   "source": [
    "### 2. `or` Operator\n",
    "\n",
    "#The `or` operator returns `True` if at least one of the operands is `True`, otherwise it returns `False`.\n",
    "# Example with 'or' operator\n",
    "x = 5\n",
    "y = 10\n",
    "\n",
    "result = (x > 0) or (y < 20)  # True because x > 0 is True\n",
    "print(result)  # Output: True\n",
    "\n",
    "result = (x < 0) or (y > 20)  # False because both conditions are False\n",
    "print(result)  # Output: False\n",
    "\n",
    "# Example with boolean variables\n",
    "is_student = True\n",
    "is_employee = False\n",
    "\n",
    "is_workday = is_student or is_employee\n",
    "print(is_workday)  # Output: True because is_student is True"
   ]
  },
  {
   "cell_type": "code",
   "execution_count": 3,
   "id": "adf3ae32-d716-4eac-90b0-cd4a828025bb",
   "metadata": {},
   "outputs": [
    {
     "name": "stdout",
     "output_type": "stream",
     "text": [
      "False\n",
      "False\n",
      "True\n"
     ]
    }
   ],
   "source": [
    "### 3. `not` Operator\n",
    "\n",
    "#The `not` operator is used to negate a Boolean expression. It returns `True` if the expression is `False`, and `False` if the expression is `True`.\n",
    "\n",
    "# Example with 'not' operator\n",
    "x = 5\n",
    "y = 10\n",
    "\n",
    "result = not (x > 0)  # False because x > 0 is True\n",
    "print(result)  # Output: False\n",
    "result = not (y < 20)  # False because y < 20 is True\n",
    "print(result)  # Output: False\n",
    "\n",
    "# Example with boolean variable\n",
    "is_adult = False\n",
    "\n",
    "is_minor = not is_adult\n",
    "print(is_minor)  # Output: True because is_adult is False"
   ]
  },
  {
   "cell_type": "code",
   "execution_count": 4,
   "id": "27d49845-927f-474d-af1c-955401333984",
   "metadata": {},
   "outputs": [
    {
     "name": "stdout",
     "output_type": "stream",
     "text": [
      "True\n"
     ]
    }
   ],
   "source": [
    "### Operator Precedence\n",
    "\n",
    "#Logical operators have a precedence in Python, similar to arithmetic operators. `not` has the highest precedence, followed by `and`, and then `or`. Parentheses `()` can be used to control the order of evaluation if needed.\n",
    "\n",
    "# Example of precedence\n",
    "x = 5\n",
    "y = 10\n",
    "z = 15\n",
    "\n",
    "result = x > 0 and y < 20 or z == 15  # True because (x > 0 and y < 20) is True\n",
    "print(result)  # Output: True"
   ]
  },
  {
   "cell_type": "code",
   "execution_count": 5,
   "id": "8bdacf89-b5c2-41f5-b693-4dcc09b8bc86",
   "metadata": {},
   "outputs": [
    {
     "name": "stdout",
     "output_type": "stream",
     "text": [
      "True\n"
     ]
    }
   ],
   "source": [
    "### Short-Circuit Evaluation\n",
    "\n",
    "#Python uses short-circuit evaluation for `and` and `or` operators:\n",
    "#- `and` operator: If the first operand evaluates to `False`, the second operand is not evaluated because the overall result will be `False` regardless.\n",
    "#- `or` operator: If the first operand evaluates to `True`, the second operand is not evaluated because the overall result will be `True` regardless.\n",
    "\n",
    "# Example of short-circuit evaluation\n",
    "x = 5\n",
    "y = 10\n",
    "\n",
    "result = (x > 0) and (y < 20)  # Second operand (y < 20) is not evaluated\n",
    "print(result)  # Output: True"
   ]
  },
  {
   "cell_type": "code",
   "execution_count": 7,
   "id": "1ae8f3ad-cad5-4ef7-afbf-943c35dc8a62",
   "metadata": {},
   "outputs": [
    {
     "data": {
      "text/plain": [
       "True"
      ]
     },
     "execution_count": 7,
     "metadata": {},
     "output_type": "execute_result"
    }
   ],
   "source": [
    "x > 0 and y < 20 or z == 16 "
   ]
  },
  {
   "cell_type": "code",
   "execution_count": 8,
   "id": "9117ecaf-fe9a-408e-aee2-d47a2e389e86",
   "metadata": {},
   "outputs": [
    {
     "data": {
      "text/plain": [
       "True"
      ]
     },
     "execution_count": 8,
     "metadata": {},
     "output_type": "execute_result"
    }
   ],
   "source": [
    "x > 0 and y > 20 or z == 15"
   ]
  },
  {
   "cell_type": "code",
   "execution_count": 9,
   "id": "7ffccb33-db10-4db8-a8fb-198e86421c79",
   "metadata": {},
   "outputs": [
    {
     "data": {
      "text/plain": [
       "False"
      ]
     },
     "execution_count": 9,
     "metadata": {},
     "output_type": "execute_result"
    }
   ],
   "source": [
    "x > 0 and y > 20 and z == 15"
   ]
  },
  {
   "cell_type": "code",
   "execution_count": 10,
   "id": "86b12625-314c-448e-8eec-c5ac12c3f58b",
   "metadata": {},
   "outputs": [
    {
     "name": "stdout",
     "output_type": "stream",
     "text": [
      "True\n",
      "False\n"
     ]
    }
   ],
   "source": [
    "### 1. `is` Operator\n",
    "\n",
    "#The `is` operator is used to test object identity. It checks if two variables point to the same object in memory.\n",
    "\n",
    "a = [1, 2, 3]\n",
    "b = a  # b is assigned to the same object as a\n",
    "\n",
    "print(a is b)  # Output: True\n",
    "\n",
    "c = [1, 2, 3]\n",
    "print(a is c)  # Output: False, because c is a different object than a"
   ]
  },
  {
   "cell_type": "code",
   "execution_count": 11,
   "id": "1f56405c-4f28-4127-b877-50ef84b28edc",
   "metadata": {},
   "outputs": [
    {
     "name": "stdout",
     "output_type": "stream",
     "text": [
      "True\n",
      "False\n",
      "True\n",
      "False\n"
     ]
    }
   ],
   "source": [
    "### 2. `in` Operator\n",
    "\n",
    "#The `in` operator is used to test membership within sequences such as lists, tuples, or strings. It returns `True` if a specified value is found within the sequence.\n",
    "\n",
    "list_example = [1, 2, 3, 4, 5]\n",
    "\n",
    "print(2 in list_example)  # Output: True\n",
    "print(6 in list_example)  # Output: False\n",
    "\n",
    "string_example = \"Hello, World!\"\n",
    "\n",
    "print(\"Hello\" in string_example)  # Output: True\n",
    "print(\"Python\" in string_example)  # Output: False"
   ]
  },
  {
   "cell_type": "code",
   "execution_count": 12,
   "id": "924ee1d2-bc7d-4418-a05f-c21cacf10455",
   "metadata": {},
   "outputs": [
    {
     "name": "stdout",
     "output_type": "stream",
     "text": [
      "False\n"
     ]
    }
   ],
   "source": [
    "print(2 not in list_example)"
   ]
  },
  {
   "cell_type": "code",
   "execution_count": 13,
   "id": "dfd3eeed-a3f8-464a-8c56-0b32addc7a37",
   "metadata": {},
   "outputs": [
    {
     "name": "stdout",
     "output_type": "stream",
     "text": [
      "True\n"
     ]
    }
   ],
   "source": [
    "print(6 not in list_example) "
   ]
  },
  {
   "cell_type": "code",
   "execution_count": 14,
   "id": "8fdb8078-e62a-4d24-b75a-6d80703277e8",
   "metadata": {},
   "outputs": [
    {
     "name": "stdout",
     "output_type": "stream",
     "text": [
      "True\n",
      "False\n",
      "True\n",
      "False\n"
     ]
    }
   ],
   "source": [
    "### 3. `not in` Operator\n",
    "\n",
    "#The `not in` operator is the negation of the `in` operator. It returns `True` if a specified value is not found within the sequence.\n",
    "\n",
    "list_example = [1, 2, 3, 4, 5]\n",
    "\n",
    "print(6 not in list_example)  # Output: True\n",
    "print(2 not in list_example)  # Output: False\n",
    "\n",
    "string_example = \"Hello, World!\"\n",
    "\n",
    "print(\"Python\" not in string_example)  # Output: True\n",
    "print(\"Hello\" not in string_example)  # Output: False"
   ]
  },
  {
   "cell_type": "markdown",
   "id": "a310be9b-1a0b-4c72-9560-99c482dcdb50",
   "metadata": {},
   "source": [
    "## Python variables:-"
   ]
  },
  {
   "cell_type": "markdown",
   "id": "f953e427-98ed-4393-85e6-654e6a21271a",
   "metadata": {},
   "source": [
    "In Python, variables are used to store data values. They are placeholders or containers that hold references to memory locations where actual data is stored. Variables play a crucial role in programming as they allow us to manipulate and work with data dynamically. Here’s a detailed overview of variables in Python:\n",
    "\n",
    "### 1. Variable Naming Rules\n",
    "\n",
    "- Variables in Python must follow these naming rules:\n",
    "- Must start with a letter (a-z, A-Z) or underscore (`_`).\n",
    "- Can contain letters, digits (0-9), and underscores (`_`).\n",
    "- Case-sensitive (`age`, `Age`, and `AGE` are different variables).\n",
    "- Cannot be a reserved keyword (e.g., `if`, `for`, `while`, etc.)."
   ]
  },
  {
   "cell_type": "code",
   "execution_count": 16,
   "id": "230603c9-5cd2-418a-aca5-6c41b65fe328",
   "metadata": {},
   "outputs": [],
   "source": [
    "### 2. Variable Assignment\n",
    "\n",
    "#Variables in Python are dynamically typed, meaning you don't need to declare the type of a variable explicitly.\n",
    "#You can assign a value to a variable using the assignment operator (`=`).\n",
    "\n",
    "# Example of variable assignment\n",
    "age = 25\n",
    "name = \"Alice\"\n",
    "is_student = True"
   ]
  },
  {
   "cell_type": "code",
   "execution_count": 17,
   "id": "ace17b05-cb58-4ab9-ab56-75ce8604690b",
   "metadata": {},
   "outputs": [
    {
     "data": {
      "text/plain": [
       "int"
      ]
     },
     "execution_count": 17,
     "metadata": {},
     "output_type": "execute_result"
    }
   ],
   "source": [
    "type(age)"
   ]
  },
  {
   "cell_type": "code",
   "execution_count": 18,
   "id": "867ab404-7049-4607-ad9f-3ac53e3483de",
   "metadata": {},
   "outputs": [
    {
     "data": {
      "text/plain": [
       "str"
      ]
     },
     "execution_count": 18,
     "metadata": {},
     "output_type": "execute_result"
    }
   ],
   "source": [
    "type(name)"
   ]
  },
  {
   "cell_type": "code",
   "execution_count": 19,
   "id": "3e889426-d8c3-4552-bb7e-b3778d0af8cd",
   "metadata": {},
   "outputs": [
    {
     "data": {
      "text/plain": [
       "bool"
      ]
     },
     "execution_count": 19,
     "metadata": {},
     "output_type": "execute_result"
    }
   ],
   "source": [
    "type(is_adult)"
   ]
  },
  {
   "cell_type": "code",
   "execution_count": 20,
   "id": "50d81ae6-c091-4f07-a7fb-e8fc25ad0784",
   "metadata": {},
   "outputs": [
    {
     "ename": "SyntaxError",
     "evalue": "invalid decimal literal (3928191300.py, line 1)",
     "output_type": "error",
     "traceback": [
      "\u001b[1;36m  Cell \u001b[1;32mIn[20], line 1\u001b[1;36m\u001b[0m\n\u001b[1;33m    1name = \"amit\"\u001b[0m\n\u001b[1;37m    ^\u001b[0m\n\u001b[1;31mSyntaxError\u001b[0m\u001b[1;31m:\u001b[0m invalid decimal literal\n"
     ]
    }
   ],
   "source": [
    "1name = \"amit\""
   ]
  },
  {
   "cell_type": "code",
   "execution_count": 22,
   "id": "de4e8681-dfae-4ec4-8f92-e1fc19a92993",
   "metadata": {},
   "outputs": [],
   "source": [
    "name1 = \"amit\""
   ]
  },
  {
   "cell_type": "code",
   "execution_count": 23,
   "id": "23f38606-7c75-4596-9c48-b6bde747dd4d",
   "metadata": {},
   "outputs": [],
   "source": [
    "_ = 6577"
   ]
  },
  {
   "cell_type": "code",
   "execution_count": 24,
   "id": "33fac568-5499-48cd-91e9-a9dd43b5a35c",
   "metadata": {},
   "outputs": [
    {
     "data": {
      "text/plain": [
       "6577"
      ]
     },
     "execution_count": 24,
     "metadata": {},
     "output_type": "execute_result"
    }
   ],
   "source": [
    "_"
   ]
  },
  {
   "cell_type": "code",
   "execution_count": 29,
   "id": "0850ed2f-5ab6-48bb-b4b6-fbea9e5ccbb3",
   "metadata": {},
   "outputs": [
    {
     "ename": "SyntaxError",
     "evalue": "leading zeros in decimal integer literals are not permitted; use an 0o prefix for octal integers (3218864438.py, line 1)",
     "output_type": "error",
     "traceback": [
      "\u001b[1;36m  Cell \u001b[1;32mIn[29], line 1\u001b[1;36m\u001b[0m\n\u001b[1;33m    _1 = 099\u001b[0m\n\u001b[1;37m         ^\u001b[0m\n\u001b[1;31mSyntaxError\u001b[0m\u001b[1;31m:\u001b[0m leading zeros in decimal integer literals are not permitted; use an 0o prefix for octal integers\n"
     ]
    }
   ],
   "source": [
    "_1 = 099"
   ]
  },
  {
   "cell_type": "code",
   "execution_count": 38,
   "id": "3c8a4752-9921-473c-a220-853d0388fc6f",
   "metadata": {},
   "outputs": [],
   "source": [
    "_2 = 0.99"
   ]
  },
  {
   "cell_type": "code",
   "execution_count": 30,
   "id": "1b790f43-44e2-4b5f-981a-bebdd1b8be9b",
   "metadata": {},
   "outputs": [],
   "source": [
    "first_name = \"amit\""
   ]
  },
  {
   "cell_type": "code",
   "execution_count": 31,
   "id": "c84cd2bd-2b5c-4cdf-8a8a-2ba4c0c0f154",
   "metadata": {},
   "outputs": [
    {
     "ename": "SyntaxError",
     "evalue": "invalid decimal literal (1208425443.py, line 1)",
     "output_type": "error",
     "traceback": [
      "\u001b[1;36m  Cell \u001b[1;32mIn[31], line 1\u001b[1;36m\u001b[0m\n\u001b[1;33m    1_name =\"amit\"\u001b[0m\n\u001b[1;37m     ^\u001b[0m\n\u001b[1;31mSyntaxError\u001b[0m\u001b[1;31m:\u001b[0m invalid decimal literal\n"
     ]
    }
   ],
   "source": [
    "1_name =\"amit\""
   ]
  },
  {
   "cell_type": "code",
   "execution_count": 32,
   "id": "0c6d748f-9cc0-417e-816e-8d40fb9cac8a",
   "metadata": {},
   "outputs": [],
   "source": [
    "_name =\"amit\""
   ]
  },
  {
   "cell_type": "code",
   "execution_count": 33,
   "id": "8fce5ac6-69ac-4ee3-bb48-361c26958f66",
   "metadata": {},
   "outputs": [],
   "source": [
    "_ = \"amit\""
   ]
  },
  {
   "cell_type": "code",
   "execution_count": 34,
   "id": "cd35643d-e2ab-48e1-b818-d2ce3693a715",
   "metadata": {},
   "outputs": [],
   "source": [
    "_1 = \"amit\""
   ]
  },
  {
   "cell_type": "code",
   "execution_count": 36,
   "id": "df093526-417f-4519-bf49-4132f5592684",
   "metadata": {},
   "outputs": [
    {
     "data": {
      "text/plain": [
       "'amit'"
      ]
     },
     "execution_count": 36,
     "metadata": {},
     "output_type": "execute_result"
    }
   ],
   "source": [
    "_1"
   ]
  },
  {
   "cell_type": "code",
   "execution_count": 39,
   "id": "7eb2de60-d5d8-442a-a548-c36bbe0de592",
   "metadata": {},
   "outputs": [],
   "source": [
    "a, b, c = 30,20,10"
   ]
  },
  {
   "cell_type": "code",
   "execution_count": 40,
   "id": "50b47512-97db-45ee-921d-525509b9209a",
   "metadata": {},
   "outputs": [
    {
     "data": {
      "text/plain": [
       "10"
      ]
     },
     "execution_count": 40,
     "metadata": {},
     "output_type": "execute_result"
    }
   ],
   "source": [
    "c"
   ]
  },
  {
   "cell_type": "code",
   "execution_count": 41,
   "id": "e94a8d30-74b7-4499-8bef-0e5c36982032",
   "metadata": {},
   "outputs": [
    {
     "data": {
      "text/plain": [
       "20"
      ]
     },
     "execution_count": 41,
     "metadata": {},
     "output_type": "execute_result"
    }
   ],
   "source": [
    "b"
   ]
  },
  {
   "cell_type": "code",
   "execution_count": 43,
   "id": "d3466f5f-4bf4-4f4c-a8f8-1259d2f8111c",
   "metadata": {},
   "outputs": [],
   "source": [
    "last_name = \"kumar\""
   ]
  },
  {
   "cell_type": "markdown",
   "id": "b399768d-5f58-457a-b671-3d6fa35c0241",
   "metadata": {},
   "source": [
    "# DataType Casting:-\t"
   ]
  },
  {
   "cell_type": "markdown",
   "id": "a3563287-fbf4-4521-b40e-fd0a1d3681d0",
   "metadata": {},
   "source": [
    "In Python, data type casting (or type conversion) refers to the process of converting a value from one data type to another. Python provides several built-in functions to facilitate type casting. Here are the common ways to perform type casting in Python:"
   ]
  },
  {
   "cell_type": "code",
   "execution_count": 44,
   "id": "2aab8c38-18b0-4f72-8b00-e7c52ffa0714",
   "metadata": {},
   "outputs": [
    {
     "name": "stdout",
     "output_type": "stream",
     "text": [
      "15.5\n"
     ]
    }
   ],
   "source": [
    "### 1. Implicit Type Conversion\n",
    "\n",
    "#Python automatically performs some type conversions implicitly when it makes sense, such as adding an integer to a float, or converting between numeric types to preserve precision.\n",
    "\n",
    "# Implicit conversion (no explicit function needed)\n",
    "x = 10  # int\n",
    "y = 5.5  # float\n",
    "\n",
    "result = x + y  # float (implicit conversion)\n",
    "print(result)  # Output: 15.5"
   ]
  },
  {
   "cell_type": "code",
   "execution_count": 45,
   "id": "ec4b5db2-4cca-42f5-8420-a2227a0de508",
   "metadata": {},
   "outputs": [
    {
     "name": "stdout",
     "output_type": "stream",
     "text": [
      "10\n"
     ]
    }
   ],
   "source": [
    "### 2. Explicit Type Conversion\n",
    "\n",
    "#You can explicitly convert between data types using built-in functions. Here are the commonly used functions for explicit type casting:\n",
    "\n",
    "# **`int()`**: Converts a value to an integer. Truncates towards zero.\n",
    "\n",
    "num_str = \"10\"\n",
    "num_int = int(num_str)\n",
    "print(num_int)  # Output: 10"
   ]
  },
  {
   "cell_type": "code",
   "execution_count": 46,
   "id": "ee837716-065d-473f-9fe3-b45dd3b091d6",
   "metadata": {},
   "outputs": [],
   "source": [
    "a = 5.66"
   ]
  },
  {
   "cell_type": "code",
   "execution_count": 47,
   "id": "79aef248-ee0b-4846-a90d-241afd8d3f5d",
   "metadata": {},
   "outputs": [
    {
     "data": {
      "text/plain": [
       "5"
      ]
     },
     "execution_count": 47,
     "metadata": {},
     "output_type": "execute_result"
    }
   ],
   "source": [
    "int(a)"
   ]
  },
  {
   "cell_type": "code",
   "execution_count": 48,
   "id": "b52c20da-a018-46e7-a0de-8e8001673c73",
   "metadata": {},
   "outputs": [
    {
     "name": "stdout",
     "output_type": "stream",
     "text": [
      "10.0\n"
     ]
    }
   ],
   "source": [
    "#**`float()`**: Converts a value to a floating-point number.\n",
    "\n",
    "num_int = 10\n",
    "num_float = float(num_int)\n",
    "print(num_float)  # Output: 10.0"
   ]
  },
  {
   "cell_type": "code",
   "execution_count": 49,
   "id": "915cdf28-6616-405b-8008-d3a21de4a04e",
   "metadata": {},
   "outputs": [
    {
     "name": "stdout",
     "output_type": "stream",
     "text": [
      "10\n"
     ]
    }
   ],
   "source": [
    "#**`str()`**: Converts a value to a string.\n",
    "\n",
    "value = 10\n",
    "value_str = str(value)\n",
    "print(value_str)  # Output: \"10\""
   ]
  },
  {
   "cell_type": "code",
   "execution_count": 53,
   "id": "febf4ace-8826-4eac-bd1c-11de2365fb2b",
   "metadata": {},
   "outputs": [],
   "source": [
    "strr = \"100\""
   ]
  },
  {
   "cell_type": "code",
   "execution_count": 51,
   "id": "73e88cef-d4d0-46f5-aeb2-a1435af60cc7",
   "metadata": {},
   "outputs": [
    {
     "data": {
      "text/plain": [
       "str"
      ]
     },
     "execution_count": 51,
     "metadata": {},
     "output_type": "execute_result"
    }
   ],
   "source": [
    "type(strr)"
   ]
  },
  {
   "cell_type": "code",
   "execution_count": 52,
   "id": "3988322c-826e-4c25-92f3-1b8b138fcb2e",
   "metadata": {},
   "outputs": [
    {
     "data": {
      "text/plain": [
       "100"
      ]
     },
     "execution_count": 52,
     "metadata": {},
     "output_type": "execute_result"
    }
   ],
   "source": [
    "int(strr)"
   ]
  },
  {
   "cell_type": "code",
   "execution_count": 54,
   "id": "43ac8388-c168-4399-8347-788e61ffad35",
   "metadata": {},
   "outputs": [
    {
     "data": {
      "text/plain": [
       "100.0"
      ]
     },
     "execution_count": 54,
     "metadata": {},
     "output_type": "execute_result"
    }
   ],
   "source": [
    "float(strr)"
   ]
  },
  {
   "cell_type": "code",
   "execution_count": 55,
   "id": "43b1de1a-32c2-4f46-b128-c192f4e7fcbe",
   "metadata": {},
   "outputs": [],
   "source": [
    "lag = \"py\""
   ]
  },
  {
   "cell_type": "code",
   "execution_count": 56,
   "id": "3e9c785b-fb56-4e0b-be52-4743d9a34052",
   "metadata": {},
   "outputs": [
    {
     "ename": "ValueError",
     "evalue": "invalid literal for int() with base 10: 'py'",
     "output_type": "error",
     "traceback": [
      "\u001b[1;31m---------------------------------------------------------------------------\u001b[0m",
      "\u001b[1;31mValueError\u001b[0m                                Traceback (most recent call last)",
      "Cell \u001b[1;32mIn[56], line 1\u001b[0m\n\u001b[1;32m----> 1\u001b[0m \u001b[38;5;28mint\u001b[39m(lag)\n",
      "\u001b[1;31mValueError\u001b[0m: invalid literal for int() with base 10: 'py'"
     ]
    }
   ],
   "source": [
    "int(lag)"
   ]
  },
  {
   "cell_type": "code",
   "execution_count": 57,
   "id": "f656f26d-34c0-4c58-add4-338306f0b2fc",
   "metadata": {},
   "outputs": [
    {
     "name": "stdout",
     "output_type": "stream",
     "text": [
      "(1, 2, 3, 2, 3, 1)\n",
      "{1, 2, 3}\n"
     ]
    }
   ],
   "source": [
    "#**`list()`**, **`tuple()`**, **`set()`**: Converts an iterable (like a list or tuple) to the corresponding type.\n",
    "\n",
    "numbers = [1, 2, 3,2,3,1]\n",
    "tuple_numbers = tuple(numbers)\n",
    "print(tuple_numbers)  # Output: (1, 2, 3)\n",
    "\n",
    "set_numbers = set(numbers)\n",
    "print(set_numbers)  # Output: {1, 2, 3}"
   ]
  },
  {
   "cell_type": "code",
   "execution_count": 58,
   "id": "17966091-cd27-47f4-a39d-f6fcd1b33681",
   "metadata": {},
   "outputs": [
    {
     "name": "stdout",
     "output_type": "stream",
     "text": [
      "(3+0j)\n"
     ]
    }
   ],
   "source": [
    "num_int = 3\n",
    "num_complex = complex(num_int)\n",
    "print(num_complex)  # Output: (3+0j) (complex number with imaginary part 0)"
   ]
  },
  {
   "cell_type": "markdown",
   "id": "389a877a-3ace-42ce-879d-48ed4209cd7e",
   "metadata": {},
   "source": [
    "# Built-in Function"
   ]
  },
  {
   "cell_type": "code",
   "execution_count": 59,
   "id": "92d2d6c2-81c3-46e0-b20d-33ba3682e8c5",
   "metadata": {},
   "outputs": [
    {
     "name": "stdout",
     "output_type": "stream",
     "text": [
      "5.66\n"
     ]
    }
   ],
   "source": [
    "print(a)"
   ]
  },
  {
   "cell_type": "code",
   "execution_count": 60,
   "id": "e7b580d4-a50d-477a-a035-6017f5be2adf",
   "metadata": {},
   "outputs": [
    {
     "name": "stdout",
     "output_type": "stream",
     "text": [
      "[6, 89, 0]\n"
     ]
    }
   ],
   "source": [
    "print([6,89,0])"
   ]
  },
  {
   "cell_type": "code",
   "execution_count": 61,
   "id": "dc1f0d61-e5c2-4ddd-98ee-29995609ec8a",
   "metadata": {},
   "outputs": [
    {
     "name": "stdin",
     "output_type": "stream",
     "text": [
      " py\n"
     ]
    },
    {
     "data": {
      "text/plain": [
       "'py'"
      ]
     },
     "execution_count": 61,
     "metadata": {},
     "output_type": "execute_result"
    }
   ],
   "source": [
    "input()"
   ]
  },
  {
   "cell_type": "code",
   "execution_count": null,
   "id": "75ed9908-dd5e-4827-b80e-059c2d0bd15d",
   "metadata": {},
   "outputs": [],
   "source": [
    "nput()"
   ]
  },
  {
   "cell_type": "code",
   "execution_count": 2,
   "id": "06fb56e6-b2a2-4a79-93df-3ad7d02ad39f",
   "metadata": {},
   "outputs": [
    {
     "name": "stdin",
     "output_type": "stream",
     "text": [
      " 77\n"
     ]
    }
   ],
   "source": [
    "arr =input()"
   ]
  },
  {
   "cell_type": "code",
   "execution_count": 4,
   "id": "5b92d8fd-b018-4718-8bdd-028fd56bbfcf",
   "metadata": {},
   "outputs": [
    {
     "data": {
      "text/plain": [
       "str"
      ]
     },
     "execution_count": 4,
     "metadata": {},
     "output_type": "execute_result"
    }
   ],
   "source": [
    "type(arr)"
   ]
  },
  {
   "cell_type": "code",
   "execution_count": 5,
   "id": "ccbda299-f72c-42c6-9c02-696418fd2dda",
   "metadata": {},
   "outputs": [
    {
     "name": "stdin",
     "output_type": "stream",
     "text": [
      "enter your age 34\n"
     ]
    }
   ],
   "source": [
    "age = input(\"enter your age\")"
   ]
  },
  {
   "cell_type": "code",
   "execution_count": 6,
   "id": "601b45cc-0b3a-4448-916e-124dabff3050",
   "metadata": {},
   "outputs": [
    {
     "data": {
      "text/plain": [
       "str"
      ]
     },
     "execution_count": 6,
     "metadata": {},
     "output_type": "execute_result"
    }
   ],
   "source": [
    "type(age)"
   ]
  },
  {
   "cell_type": "code",
   "execution_count": 7,
   "id": "98059fe9-f14a-438a-adc0-de00f2374c98",
   "metadata": {},
   "outputs": [
    {
     "name": "stdin",
     "output_type": "stream",
     "text": [
      "enter your age 45\n"
     ]
    }
   ],
   "source": [
    "age = int(input(\"enter your age\"))"
   ]
  },
  {
   "cell_type": "code",
   "execution_count": 8,
   "id": "e712c7e1-873a-4517-bc92-9e00ad4c668b",
   "metadata": {},
   "outputs": [
    {
     "data": {
      "text/plain": [
       "int"
      ]
     },
     "execution_count": 8,
     "metadata": {},
     "output_type": "execute_result"
    }
   ],
   "source": [
    "type(age)"
   ]
  },
  {
   "cell_type": "code",
   "execution_count": 9,
   "id": "97603e27-85ca-453e-959c-6fd24a144627",
   "metadata": {},
   "outputs": [
    {
     "name": "stdin",
     "output_type": "stream",
     "text": [
      "enter your age 45 years\n"
     ]
    },
    {
     "ename": "ValueError",
     "evalue": "invalid literal for int() with base 10: '45 years'",
     "output_type": "error",
     "traceback": [
      "\u001b[1;31m---------------------------------------------------------------------------\u001b[0m",
      "\u001b[1;31mValueError\u001b[0m                                Traceback (most recent call last)",
      "Cell \u001b[1;32mIn[9], line 1\u001b[0m\n\u001b[1;32m----> 1\u001b[0m age \u001b[38;5;241m=\u001b[39m \u001b[38;5;28mint\u001b[39m(\u001b[38;5;28minput\u001b[39m(\u001b[38;5;124m\"\u001b[39m\u001b[38;5;124menter your age\u001b[39m\u001b[38;5;124m\"\u001b[39m))\n",
      "\u001b[1;31mValueError\u001b[0m: invalid literal for int() with base 10: '45 years'"
     ]
    }
   ],
   "source": [
    "age = int(input(\"enter your age\"))"
   ]
  },
  {
   "cell_type": "code",
   "execution_count": 10,
   "id": "9f6eb74d-9d4d-4470-bb17-bcf662c87275",
   "metadata": {},
   "outputs": [
    {
     "name": "stdin",
     "output_type": "stream",
     "text": [
      " [3,4,5,9]\n"
     ]
    }
   ],
   "source": [
    "tup = tuple(input())"
   ]
  },
  {
   "cell_type": "code",
   "execution_count": 11,
   "id": "7f0a1a80-311a-4603-9aeb-e1b31221cdab",
   "metadata": {},
   "outputs": [
    {
     "data": {
      "text/plain": [
       "('[', '3', ',', '4', ',', '5', ',', '9', ']')"
      ]
     },
     "execution_count": 11,
     "metadata": {},
     "output_type": "execute_result"
    }
   ],
   "source": [
    "tup"
   ]
  },
  {
   "cell_type": "code",
   "execution_count": 12,
   "id": "e2c1f502-eaff-436a-9966-72823d2e3c37",
   "metadata": {},
   "outputs": [
    {
     "name": "stdout",
     "output_type": "stream",
     "text": [
      "True\n"
     ]
    }
   ],
   "source": [
    "# any()\n",
    "#Description: Returns True if any element of an iterable is true. If the iterable is empty, it returns False.\n",
    "list1 = [11, True, False, False, \"name\"]\n",
    "result = any(list1)\n",
    "print(result)  # Output: True"
   ]
  },
  {
   "cell_type": "markdown",
   "id": "ad239f31-6dda-4638-889d-a63ea8558c00",
   "metadata": {},
   "source": [
    "### Iterable"
   ]
  },
  {
   "cell_type": "code",
   "execution_count": null,
   "id": "9265187a-2d55-4a7b-bbc0-f92744eb1c43",
   "metadata": {},
   "outputs": [],
   "source": [
    "str, list, tuple, set, dict"
   ]
  },
  {
   "cell_type": "code",
   "execution_count": 13,
   "id": "1744680d-5fb7-4319-aebb-740dc4282cfb",
   "metadata": {},
   "outputs": [
    {
     "name": "stdout",
     "output_type": "stream",
     "text": [
      "'\\xe4\\xf6\\xfc'\n"
     ]
    }
   ],
   "source": [
    "# ascii()\n",
    "\n",
    "#Description: Returns a string containing a printable representation of an object. Non-ASCII characters are escaped using \\x, \\u or \\U notation.\n",
    "s = \"äöü\"\n",
    "ascii_s = ascii(s)\n",
    "print(ascii_s)  # Output: '\\xe4\\xf6\\xfc'"
   ]
  },
  {
   "cell_type": "code",
   "execution_count": 15,
   "id": "5023303c-9ece-4f7d-8978-ea4cb81b37e7",
   "metadata": {},
   "outputs": [
    {
     "name": "stdout",
     "output_type": "stream",
     "text": [
      "0b10000100100\n"
     ]
    }
   ],
   "source": [
    "# bin()\n",
    "\n",
    "#Description: Converts an integer number to a binary string prefixed with \"0b\".\n",
    "num = 1060\n",
    "binary_num = bin(num)\n",
    "print(binary_num)  # Output: '0b1010'"
   ]
  },
  {
   "cell_type": "code",
   "execution_count": null,
   "id": "41b09ff8-286d-407b-a5a3-a952e5641770",
   "metadata": {},
   "outputs": [],
   "source": []
  }
 ],
 "metadata": {
  "kernelspec": {
   "display_name": "Python 3 (ipykernel)",
   "language": "python",
   "name": "python3"
  },
  "language_info": {
   "codemirror_mode": {
    "name": "ipython",
    "version": 3
   },
   "file_extension": ".py",
   "mimetype": "text/x-python",
   "name": "python",
   "nbconvert_exporter": "python",
   "pygments_lexer": "ipython3",
   "version": "3.11.7"
  }
 },
 "nbformat": 4,
 "nbformat_minor": 5
}
