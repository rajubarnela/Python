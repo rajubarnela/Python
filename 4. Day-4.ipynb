{
 "cells": [
  {
   "cell_type": "code",
   "execution_count": 4,
   "id": "f535d5c4-e909-45da-8333-eab2d8f54cc9",
   "metadata": {},
   "outputs": [
    {
     "name": "stdout",
     "output_type": "stream",
     "text": [
      "[3, 2, 1]\n"
     ]
    }
   ],
   "source": [
    "# reversed()\n",
    "\n",
    "#Description: Returns a reverse iterator.\n",
    "\t\t \n",
    "rev_iter = reversed([1, 2, 3])\n",
    "\n",
    "print(list(rev_iter))  # Output: [3, 2, 1]"
   ]
  },
  {
   "cell_type": "code",
   "execution_count": 7,
   "id": "73fe196d-6477-4824-971f-ebca2269821d",
   "metadata": {},
   "outputs": [
    {
     "name": "stdout",
     "output_type": "stream",
     "text": [
      "3.0\n"
     ]
    }
   ],
   "source": [
    "# round()\n",
    "\n",
    "#Description: Rounds a number to a specified precision in decimal digits.\n",
    "\t\t \n",
    "num = 3.14159\n",
    "rounded_num = round(num, 0)\n",
    "print(rounded_num)  # Output: 3.14"
   ]
  },
  {
   "cell_type": "code",
   "execution_count": 8,
   "id": "b1b81b2a-8cdb-451c-83a1-0a1d7a1296f6",
   "metadata": {},
   "outputs": [
    {
     "name": "stdout",
     "output_type": "stream",
     "text": [
      "[1, 2, 3]\n"
     ]
    }
   ],
   "source": [
    "# sorted()\n",
    "\n",
    "#Description: Returns a sorted list from the items in an iterable.\n",
    " \n",
    "lst = [3, 1, 2]\n",
    "\n",
    "sorted_lst = sorted(lst)\n",
    "print(sorted_lst)  # Output: [1, 2, 3]"
   ]
  },
  {
   "cell_type": "code",
   "execution_count": 9,
   "id": "b27bbfea-40e8-4f74-bd42-4b1de6b858eb",
   "metadata": {},
   "outputs": [
    {
     "data": {
      "text/plain": [
       "[1, 2, 3]"
      ]
     },
     "execution_count": 9,
     "metadata": {},
     "output_type": "execute_result"
    }
   ],
   "source": [
    "sorted([1, 2, 3], reverse=False)"
   ]
  },
  {
   "cell_type": "code",
   "execution_count": 13,
   "id": "fdc8831d-b6af-4b1f-bd85-611c2275f775",
   "metadata": {},
   "outputs": [
    {
     "name": "stdout",
     "output_type": "stream",
     "text": [
      "6648\n"
     ]
    }
   ],
   "source": [
    "# str()\n",
    "\n",
    "#Description: Returns a string object.\n",
    "\t\t \n",
    "str_obj = str(\"6648\")\n",
    "print(str_obj)  # Output: '123'"
   ]
  },
  {
   "cell_type": "code",
   "execution_count": 14,
   "id": "e3c13f05-3f36-4381-8522-0c23966988a3",
   "metadata": {},
   "outputs": [
    {
     "name": "stdout",
     "output_type": "stream",
     "text": [
      "6\n"
     ]
    }
   ],
   "source": [
    "# sum()\n",
    "\n",
    "#Description: Sums the items of an iterable.\n",
    "\t\t \n",
    "lst = [1, 2, 3]\n",
    "sum_lst = sum(lst)\n",
    "print(sum_lst)  # Output: 6"
   ]
  },
  {
   "cell_type": "code",
   "execution_count": 15,
   "id": "eff70d70-5f1d-4f29-b26e-f96232da7888",
   "metadata": {},
   "outputs": [
    {
     "name": "stdout",
     "output_type": "stream",
     "text": [
      "(1, 2, 3)\n"
     ]
    }
   ],
   "source": [
    "# tuple()\n",
    "\n",
    "#Description: Returns a tuple object.\n",
    "\t\t \n",
    "tpl = tuple([1, 2, 3])\n",
    "print(tpl)  # Output: (1, 2, 3)"
   ]
  },
  {
   "cell_type": "code",
   "execution_count": 16,
   "id": "c85a11bf-8ddb-47bd-9ae0-94e75155071c",
   "metadata": {},
   "outputs": [
    {
     "name": "stdout",
     "output_type": "stream",
     "text": [
      "<class 'int'>\n"
     ]
    }
   ],
   "source": [
    "# type()\n",
    "\n",
    "#Description: Returns the type of an object or creates a new type object.\n",
    "\t\t \n",
    "x = 5\n",
    "print(type(x))  # Output: <class 'int'>"
   ]
  },
  {
   "cell_type": "code",
   "execution_count": 17,
   "id": "d8494a5c-4eed-400d-9ccc-e61015e0c0db",
   "metadata": {},
   "outputs": [
    {
     "name": "stdout",
     "output_type": "stream",
     "text": [
      "[(1, 'a'), (2, 'b'), (3, 'c')]\n"
     ]
    }
   ],
   "source": [
    "# zip()\n",
    "\n",
    "#Description: Returns an iterator of tuples, where the i-th tuple contains the i-th element from each of the argument sequences or iterables.\n",
    "\t\t \n",
    "lst1 = [1, 2, 3]\n",
    "lst2 = ['a', 'b', 'c']\n",
    "\n",
    "zipped = zip(lst1, lst2)\n",
    "print(list(zipped))  # Output: [(1, 'a'), (2, 'b'), (3, 'c')]"
   ]
  },
  {
   "cell_type": "code",
   "execution_count": null,
   "id": "3e682f7c-1d7a-4fa2-88e7-14bee9ecd49e",
   "metadata": {},
   "outputs": [],
   "source": []
  }
 ],
 "metadata": {
  "kernelspec": {
   "display_name": "Python 3 (ipykernel)",
   "language": "python",
   "name": "python3"
  },
  "language_info": {
   "codemirror_mode": {
    "name": "ipython",
    "version": 3
   },
   "file_extension": ".py",
   "mimetype": "text/x-python",
   "name": "python",
   "nbconvert_exporter": "python",
   "pygments_lexer": "ipython3",
   "version": "3.11.7"
  }
 },
 "nbformat": 4,
 "nbformat_minor": 5
}
