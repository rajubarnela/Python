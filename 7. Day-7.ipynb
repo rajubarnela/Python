{
 "cells": [
  {
   "cell_type": "code",
   "execution_count": 5,
   "id": "cdfd448a-57fc-47b1-a824-f47df27ce357",
   "metadata": {},
   "outputs": [
    {
     "name": "stdout",
     "output_type": "stream",
     "text": [
      "('hello wor', 'l', 'd')\n"
     ]
    }
   ],
   "source": [
    "# plits the string into a tuple (head, sep, tail) where sep is the last occurrence of sep.\n",
    "\n",
    "s = \"hello world\"\n",
    "print(s.rpartition('l'))  # Output: (\"hello\", \" \", \"world\")"
   ]
  },
  {
   "cell_type": "code",
   "execution_count": 7,
   "id": "3239c398-e23e-420c-9bf8-a09fe11ba30a",
   "metadata": {},
   "outputs": [
    {
     "name": "stdout",
     "output_type": "stream",
     "text": [
      "['hello', 'world', 'python']\n"
     ]
    }
   ],
   "source": [
    "#Splits the string into a list of words using sep as the delimiter, starting from the right.\n",
    "\n",
    "s = \"hello world python\"\n",
    "print(s.rsplit())  # Output: ['hello', 'world']"
   ]
  },
  {
   "cell_type": "code",
   "execution_count": 8,
   "id": "cc7c9cd8-2f4f-4926-b7d2-52e104ff0cdb",
   "metadata": {},
   "outputs": [
    {
     "name": "stdout",
     "output_type": "stream",
     "text": [
      "   hello\n"
     ]
    }
   ],
   "source": [
    "#Removes trailing whitespace or characters specified in chars.\n",
    " \n",
    "s = \"   hello   \"\n",
    "print(s.rstrip())  # Output: \"   hello\""
   ]
  },
  {
   "cell_type": "code",
   "execution_count": 10,
   "id": "c9c60f67-b5e2-45b0-976a-ea4592054523",
   "metadata": {},
   "outputs": [
    {
     "name": "stdout",
     "output_type": "stream",
     "text": [
      "['hello', 'world']\n"
     ]
    }
   ],
   "source": [
    "#Splits the string into a list of words using sep as the delimiter.\n",
    "\n",
    "s = \"hello world\"\n",
    "print(s.split())  # Output: ['hello', 'world']"
   ]
  },
  {
   "cell_type": "code",
   "execution_count": 11,
   "id": "1d5a39f0-9d8f-4a70-910b-5856969e73fe",
   "metadata": {},
   "outputs": [
    {
     "name": "stdout",
     "output_type": "stream",
     "text": [
      "['hello', 'world']\n"
     ]
    }
   ],
   "source": [
    "#Splits the string at line breaks and returns a list of lines.\n",
    "\n",
    "s = \"hello\\nworld\"\n",
    "print(s.splitlines())  # Output: ['hello', 'world']"
   ]
  },
  {
   "cell_type": "code",
   "execution_count": 13,
   "id": "eec331aa-a95b-4f8a-ba4f-c08da3eca3f2",
   "metadata": {},
   "outputs": [
    {
     "name": "stdout",
     "output_type": "stream",
     "text": [
      "False\n"
     ]
    }
   ],
   "source": [
    "#Checks if the string starts with the specified prefix.\n",
    " \n",
    "s = \"hello world\"\n",
    "print(s.startswith('ello'))  # Output: True"
   ]
  },
  {
   "cell_type": "code",
   "execution_count": 14,
   "id": "4ef45e26-2786-4885-83ec-cf4661822e39",
   "metadata": {},
   "outputs": [
    {
     "name": "stdout",
     "output_type": "stream",
     "text": [
      "hello\n"
     ]
    }
   ],
   "source": [
    "#Removes leading and trailing whitespace or characters specified in chars.\n",
    "\n",
    "s = \"   hello   \"\n",
    "print(s.strip())  # Output: \"hello\""
   ]
  },
  {
   "cell_type": "code",
   "execution_count": 21,
   "id": "5a8c4f11-0eb1-4c17-b61f-b110637723b2",
   "metadata": {},
   "outputs": [
    {
     "name": "stdout",
     "output_type": "stream",
     "text": [
      "Hello\n"
     ]
    }
   ],
   "source": [
    "s = \"Hello@@@@##$\"\n",
    "print(s.strip(\"@#$\"))  # Output: \"hello\""
   ]
  },
  {
   "cell_type": "code",
   "execution_count": 22,
   "id": "602f588b-0e27-4c28-a9f6-16f177eab8d4",
   "metadata": {},
   "outputs": [
    {
     "name": "stdout",
     "output_type": "stream",
     "text": [
      "hELLO wORLD\n"
     ]
    }
   ],
   "source": [
    "#Swaps case of all characters in the string (lower to upper and vice versa).\n",
    "\n",
    "s = \"Hello World\"\n",
    "print(s.swapcase())  # Output: \"hELLO wORLD\""
   ]
  },
  {
   "cell_type": "code",
   "execution_count": 23,
   "id": "4073b3c2-23a3-44d9-8b2e-516ca935d3a9",
   "metadata": {},
   "outputs": [
    {
     "name": "stdout",
     "output_type": "stream",
     "text": [
      "Hello World\n"
     ]
    }
   ],
   "source": [
    "#title()\n",
    "\n",
    "#Returns a titlecased version of the string (first character of each word is uppercase, others are lowercase).\n",
    "\n",
    "s = \"hello world\"\n",
    "print(s.title())  # Output: \"Hello World\""
   ]
  },
  {
   "cell_type": "code",
   "execution_count": 30,
   "id": "0b03f3a8-bef1-4d02-b4f7-0e5c15dc5ce9",
   "metadata": {},
   "outputs": [
    {
     "name": "stdout",
     "output_type": "stream",
     "text": [
      "42\n"
     ]
    }
   ],
   "source": [
    "#zfill(width)\n",
    "\n",
    "#Returns a copy of the string padded with zeros on the left to make a string of length width.\n",
    "\n",
    "s = \"42\"\n",
    "print(s.zfill(2))  # Output: \"00042\""
   ]
  },
  {
   "cell_type": "markdown",
   "id": "b2f4b167-3a45-4ddc-8563-eec75dc94f2f",
   "metadata": {},
   "source": [
    "## Concatination"
   ]
  },
  {
   "cell_type": "code",
   "execution_count": 31,
   "id": "2ddc630f-1e33-47ae-aab5-2196b12e2986",
   "metadata": {},
   "outputs": [],
   "source": [
    "var1 = \"Python\"\n",
    "var2 = \"java\""
   ]
  },
  {
   "cell_type": "code",
   "execution_count": 32,
   "id": "84310de8-73a3-4e23-b443-beedc51dc8a2",
   "metadata": {},
   "outputs": [
    {
     "data": {
      "text/plain": [
       "'Pythonjava'"
      ]
     },
     "execution_count": 32,
     "metadata": {},
     "output_type": "execute_result"
    }
   ],
   "source": [
    "var1+var2"
   ]
  },
  {
   "cell_type": "code",
   "execution_count": 33,
   "id": "3ffdb724-a928-44b1-95cb-219702bef9d6",
   "metadata": {},
   "outputs": [
    {
     "data": {
      "text/plain": [
       "'Python java'"
      ]
     },
     "execution_count": 33,
     "metadata": {},
     "output_type": "execute_result"
    }
   ],
   "source": [
    "var1+\" \"+var2"
   ]
  },
  {
   "cell_type": "markdown",
   "id": "df7e4682-0afc-4dc9-be66-9a0fe97112a6",
   "metadata": {},
   "source": [
    "## Reapetation"
   ]
  },
  {
   "cell_type": "code",
   "execution_count": 39,
   "id": "b887ae5c-c0fa-4447-a683-f0a5fa125b1e",
   "metadata": {},
   "outputs": [
    {
     "data": {
      "text/plain": [
       "'Python Python Python Python Python '"
      ]
     },
     "execution_count": 39,
     "metadata": {},
     "output_type": "execute_result"
    }
   ],
   "source": [
    "(var1 + \" \")*5"
   ]
  },
  {
   "cell_type": "code",
   "execution_count": null,
   "id": "ea86f5cf-def6-47e8-abdf-06cdf0e6391b",
   "metadata": {},
   "outputs": [],
   "source": []
  },
  {
   "cell_type": "code",
   "execution_count": null,
   "id": "d577fb23-a3d9-4f30-9086-7d7ec075827e",
   "metadata": {},
   "outputs": [],
   "source": []
  },
  {
   "cell_type": "markdown",
   "id": "acb876bc-8c4f-4de8-b375-f8450540662b",
   "metadata": {},
   "source": [
    "# List"
   ]
  },
  {
   "cell_type": "markdown",
   "id": "27f73a5e-d811-4c03-abf4-0504a1373eff",
   "metadata": {},
   "source": [
    "### Accessing and Sclicing"
   ]
  },
  {
   "cell_type": "code",
   "execution_count": 40,
   "id": "8be637e2-c2d7-4d7f-9c0d-09e641e5a98b",
   "metadata": {},
   "outputs": [],
   "source": [
    "# Creating a list of integers\n",
    "my_list = [1, 2, 3, 4, 5]\n",
    "\n",
    "# Creating a list of strings\n",
    "fruits = ['apple', 'banana', 'cherry']"
   ]
  },
  {
   "cell_type": "code",
   "execution_count": 41,
   "id": "9aa2f6c6-2d77-490f-a8dc-e3b532fc30b8",
   "metadata": {},
   "outputs": [],
   "source": [
    "# Creating a list of mixed data types\n",
    "mixed_list = [1, 'two', 3.0, True]\n",
    "\n",
    "#Accessing elements:\n",
    "#You can access elements of a list using square bracket indexing. Indexing starts from 0."
   ]
  },
  {
   "cell_type": "code",
   "execution_count": 42,
   "id": "e29064f9-2eb1-4b70-b235-1a9d6fb07705",
   "metadata": {},
   "outputs": [
    {
     "name": "stdout",
     "output_type": "stream",
     "text": [
      "1\n",
      "3\n",
      "5\n"
     ]
    }
   ],
   "source": [
    "my_list = [1, 2, 3, 4, 5]\n",
    "\n",
    "print(my_list[0])  # Output: 1 (first element)\n",
    "print(my_list[2])  # Output: 3 (third element)\n",
    "print(my_list[-1])  # Output: 5 (last element)"
   ]
  },
  {
   "cell_type": "code",
   "execution_count": 44,
   "id": "b1737bf9-e741-499c-89bf-1b19fa0d8606",
   "metadata": {},
   "outputs": [
    {
     "name": "stdout",
     "output_type": "stream",
     "text": [
      "[2, 3, 4]\n",
      "[1, 2, 3]\n",
      "[3, 4, 5, 6, 7, 8, 9, 10, 11, 12, 13, 14, 15, 16, 17, 18, 19, 20]\n"
     ]
    }
   ],
   "source": [
    "#Slicing:\n",
    "#Slicing allows you to access a portion of the list by specifying a range of indices.\n",
    "\n",
    "my_list = [1, 2, 3, 4, 5,6,7,8,9,10,11,12,13,14,15,16,17,18,19,20]\n",
    "\n",
    "print(my_list[1:4])  # Output: [2, 3, 4] (elements from index 1 to 3)\n",
    "print(my_list[:3])   # Output: [1, 2, 3] (first three elements)\n",
    "print(my_list[2:])   # Output: [3, 4, 5] (elements from index 2 to end)"
   ]
  },
  {
   "cell_type": "code",
   "execution_count": 45,
   "id": "8798cf39-c3d3-44c2-977c-92a208a10b0d",
   "metadata": {},
   "outputs": [
    {
     "data": {
      "text/plain": [
       "[4, 5, 6, 7, 8, 9]"
      ]
     },
     "execution_count": 45,
     "metadata": {},
     "output_type": "execute_result"
    }
   ],
   "source": [
    "my_list[3:9]"
   ]
  },
  {
   "cell_type": "code",
   "execution_count": 47,
   "id": "71260c12-ea68-4a66-9527-3df264136b07",
   "metadata": {},
   "outputs": [
    {
     "data": {
      "text/plain": [
       "[4, 6, 8]"
      ]
     },
     "execution_count": 47,
     "metadata": {},
     "output_type": "execute_result"
    }
   ],
   "source": [
    "my_list[3:9:2]"
   ]
  },
  {
   "cell_type": "code",
   "execution_count": 48,
   "id": "4bb22926-e3f1-4d71-9a13-21b5515a21f0",
   "metadata": {},
   "outputs": [
    {
     "data": {
      "text/plain": [
       "[]"
      ]
     },
     "execution_count": 48,
     "metadata": {},
     "output_type": "execute_result"
    }
   ],
   "source": [
    "my_list[-3:-9]"
   ]
  },
  {
   "cell_type": "code",
   "execution_count": 49,
   "id": "b133e557-472a-45d7-a44f-9ad290514f9b",
   "metadata": {},
   "outputs": [
    {
     "data": {
      "text/plain": [
       "[12, 13, 14, 15, 16, 17]"
      ]
     },
     "execution_count": 49,
     "metadata": {},
     "output_type": "execute_result"
    }
   ],
   "source": [
    "my_list[-9:-3]"
   ]
  },
  {
   "cell_type": "code",
   "execution_count": 50,
   "id": "a9a8916c-7558-467f-8707-433148309465",
   "metadata": {},
   "outputs": [
    {
     "data": {
      "text/plain": [
       "[20, 19, 18, 17, 16, 15, 14, 13, 12, 11, 10, 9, 8, 7, 6, 5, 4, 3, 2, 1]"
      ]
     },
     "execution_count": 50,
     "metadata": {},
     "output_type": "execute_result"
    }
   ],
   "source": [
    "my_list[::-1]"
   ]
  },
  {
   "cell_type": "code",
   "execution_count": 51,
   "id": "a5ce655b-e7dd-4cbe-ab70-24e15a621bfa",
   "metadata": {},
   "outputs": [
    {
     "data": {
      "text/plain": [
       "[20, 19, 18, 17, 16, 15, 14, 13, 12, 11, 10, 9, 8, 7, 6, 5, 4, 3]"
      ]
     },
     "execution_count": 51,
     "metadata": {},
     "output_type": "execute_result"
    }
   ],
   "source": [
    "my_list[20:1:-1]"
   ]
  },
  {
   "cell_type": "markdown",
   "id": "8760c492-deb1-4082-a16a-e6c088c9d78d",
   "metadata": {},
   "source": [
    "### Concatination"
   ]
  },
  {
   "cell_type": "code",
   "execution_count": 53,
   "id": "5bca4061-ae76-462a-b368-2faba5a5c1b7",
   "metadata": {},
   "outputs": [
    {
     "data": {
      "text/plain": [
       "[1, 'two', 3.0, True, 'apple', 'banana', 'cherry']"
      ]
     },
     "execution_count": 53,
     "metadata": {},
     "output_type": "execute_result"
    }
   ],
   "source": [
    "mixed_list + fruits"
   ]
  },
  {
   "cell_type": "markdown",
   "id": "9e6623d2-f63b-43ab-9628-1220fc4dc981",
   "metadata": {},
   "source": [
    "### Repeatation"
   ]
  },
  {
   "cell_type": "code",
   "execution_count": 54,
   "id": "25776675-cbb4-456a-9ce1-5b9eea96eccf",
   "metadata": {},
   "outputs": [
    {
     "data": {
      "text/plain": [
       "[1, 'two', 3.0, True, 1, 'two', 3.0, True]"
      ]
     },
     "execution_count": 54,
     "metadata": {},
     "output_type": "execute_result"
    }
   ],
   "source": [
    "mixed_list*2"
   ]
  },
  {
   "cell_type": "markdown",
   "id": "d162a827-d698-4769-adc1-6328d86a6832",
   "metadata": {},
   "source": [
    "### Mutability"
   ]
  },
  {
   "cell_type": "code",
   "execution_count": 56,
   "id": "18425f20-340d-4d98-bca8-17b29ba3eab1",
   "metadata": {},
   "outputs": [],
   "source": [
    "fruits[2] = \"orange\""
   ]
  },
  {
   "cell_type": "code",
   "execution_count": 57,
   "id": "17cb4867-dc43-492d-8409-3235b543bc5d",
   "metadata": {},
   "outputs": [
    {
     "data": {
      "text/plain": [
       "['apple', 'banana', 'orange']"
      ]
     },
     "execution_count": 57,
     "metadata": {},
     "output_type": "execute_result"
    }
   ],
   "source": [
    "fruits"
   ]
  },
  {
   "cell_type": "code",
   "execution_count": 59,
   "id": "13101f96-a8de-4c15-94d1-c0b4e9390ded",
   "metadata": {},
   "outputs": [
    {
     "data": {
      "text/plain": [
       "False"
      ]
     },
     "execution_count": 59,
     "metadata": {},
     "output_type": "execute_result"
    }
   ],
   "source": [
    "22 in my_list"
   ]
  },
  {
   "cell_type": "code",
   "execution_count": 60,
   "id": "63fa9517-bd55-4ad0-a5eb-ecfde9d3b970",
   "metadata": {},
   "outputs": [
    {
     "data": {
      "text/plain": [
       "True"
      ]
     },
     "execution_count": 60,
     "metadata": {},
     "output_type": "execute_result"
    }
   ],
   "source": [
    "20 in my_list"
   ]
  },
  {
   "cell_type": "code",
   "execution_count": null,
   "id": "b3f80bb4-5798-4bf0-9cad-51bb07146cea",
   "metadata": {},
   "outputs": [],
   "source": []
  },
  {
   "cell_type": "markdown",
   "id": "ab3188ba-cacb-4270-9941-eaa3bb08504f",
   "metadata": {},
   "source": [
    "## List Function"
   ]
  },
  {
   "cell_type": "code",
   "execution_count": 80,
   "id": "44d292e0-5955-42b1-956b-4d59bb3d6544",
   "metadata": {},
   "outputs": [
    {
     "name": "stdout",
     "output_type": "stream",
     "text": [
      "[1, 2, 3, [4, 4, 4]]\n"
     ]
    }
   ],
   "source": [
    "### 1. `append()`\n",
    "#The `append()` method adds an element to the end of the list.\n",
    "\n",
    "my_list = [1, 2, 3]\n",
    "\n",
    "my_list.append([4,4,4])\n",
    "\n",
    "print(my_list)  # Output: [1, 2, 3, 4]   "
   ]
  },
  {
   "cell_type": "code",
   "execution_count": 65,
   "id": "46931fa2-e064-4964-bc5d-041e8a15f7a8",
   "metadata": {},
   "outputs": [],
   "source": [
    "my_list.append(4)"
   ]
  },
  {
   "cell_type": "code",
   "execution_count": 66,
   "id": "003f5d47-bc63-4bbf-aab4-a63fbb558333",
   "metadata": {},
   "outputs": [
    {
     "data": {
      "text/plain": [
       "[1, 2, 3, 4, 4, 4]"
      ]
     },
     "execution_count": 66,
     "metadata": {},
     "output_type": "execute_result"
    }
   ],
   "source": [
    "my_list"
   ]
  },
  {
   "cell_type": "code",
   "execution_count": 67,
   "id": "916bd281-eb37-41d9-8404-46e3b3a056c5",
   "metadata": {},
   "outputs": [
    {
     "name": "stdout",
     "output_type": "stream",
     "text": [
      "[]\n"
     ]
    }
   ],
   "source": [
    "### 2. `clear()`\n",
    "#The `clear()` method removes all elements from the list.\n",
    "\n",
    "my_list = [1, 2, 3]\n",
    "my_list.clear()\n",
    "\n",
    "print(my_list)  # Output: []"
   ]
  },
  {
   "cell_type": "code",
   "execution_count": 68,
   "id": "74342d0d-79ad-401d-b3dd-511708272ee5",
   "metadata": {},
   "outputs": [
    {
     "name": "stdout",
     "output_type": "stream",
     "text": [
      "[1, 2, 3]\n"
     ]
    }
   ],
   "source": [
    "### 3. `copy()`\n",
    "#The `copy()` method returns a shallow copy of the list.\n",
    "\n",
    "my_list = [1, 2, 3]\n",
    "new_list = my_list.copy()\n",
    "print(new_list)  # Output: [1, 2, 3]"
   ]
  },
  {
   "cell_type": "code",
   "execution_count": 69,
   "id": "4cd2b443-ee32-4eb5-81e1-51330d2b4592",
   "metadata": {},
   "outputs": [
    {
     "data": {
      "text/plain": [
       "[1, 2, 3]"
      ]
     },
     "execution_count": 69,
     "metadata": {},
     "output_type": "execute_result"
    }
   ],
   "source": [
    "my_list"
   ]
  },
  {
   "cell_type": "code",
   "execution_count": 70,
   "id": "6b3cb3a8-1192-4804-b3e3-2ee672414442",
   "metadata": {},
   "outputs": [
    {
     "data": {
      "text/plain": [
       "[1, 2, 3]"
      ]
     },
     "execution_count": 70,
     "metadata": {},
     "output_type": "execute_result"
    }
   ],
   "source": [
    "new_list"
   ]
  },
  {
   "cell_type": "code",
   "execution_count": 72,
   "id": "0acab2dd-4ddd-4465-bf3b-b58ad057c869",
   "metadata": {},
   "outputs": [
    {
     "name": "stdout",
     "output_type": "stream",
     "text": [
      "1\n"
     ]
    }
   ],
   "source": [
    "### 4. `count()`\n",
    "#The `count()` method returns the number of occurrences of a specified element in the list.\n",
    "\n",
    "my_list = [1, 2, 2, 3, 2]\n",
    "count_of_twos = my_list.count(3)\n",
    "\n",
    "\n",
    "print(count_of_twos)  # Output: 3"
   ]
  },
  {
   "cell_type": "code",
   "execution_count": 76,
   "id": "d0ec8494-88cb-4fcc-971a-e2839a179674",
   "metadata": {},
   "outputs": [
    {
     "name": "stdout",
     "output_type": "stream",
     "text": [
      "[1, 2, 3, 8, 8, 8]\n"
     ]
    }
   ],
   "source": [
    "### 5. `extend()`\n",
    "#The `extend()` method extends the list by appending elements from an iterable.\n",
    "\n",
    "my_list = [1, 2, 3]\n",
    "my_list.extend([8,8,8])\n",
    "\n",
    "print(my_list)  # Output: [1, 2, 3, 4, 5, 6]  "
   ]
  },
  {
   "cell_type": "code",
   "execution_count": 81,
   "id": "c3381402-fe86-4e21-9151-acbacc59aa07",
   "metadata": {},
   "outputs": [
    {
     "name": "stdout",
     "output_type": "stream",
     "text": [
      "1\n"
     ]
    }
   ],
   "source": [
    "### 6. `index()`\n",
    "#The `index()` method returns the index of the first occurrence of a specified value.\n",
    "\n",
    "my_list = [1, 2, 3, 4, 2]\n",
    "index_of_two = my_list.index(2)\n",
    "print(index_of_two)  # Output: 1 (index of the first occurrence of 2)"
   ]
  },
  {
   "cell_type": "code",
   "execution_count": 83,
   "id": "4c144556-e1b9-4be9-90d4-666349984ba2",
   "metadata": {},
   "outputs": [
    {
     "name": "stdout",
     "output_type": "stream",
     "text": [
      "[1, 2, 3, 'a']\n"
     ]
    }
   ],
   "source": [
    "### 7. `insert()`\n",
    "#The `insert()` method inserts an element at a specified position.\n",
    "\n",
    "my_list = [1, 2, 3]\n",
    "my_list.insert(4, 'a')\n",
    "print(my_list)  # Output: [1, 'a', 2, 3]"
   ]
  },
  {
   "cell_type": "code",
   "execution_count": 91,
   "id": "575a5fe9-2a2a-4ec4-a56e-92c90b4822da",
   "metadata": {},
   "outputs": [
    {
     "name": "stdout",
     "output_type": "stream",
     "text": [
      "5\n",
      "[1, 2, 3, 4]\n"
     ]
    }
   ],
   "source": [
    "### 8. `pop()`\n",
    "#The `pop()` method removes and returns the element at the specified position (default is the last element).\n",
    "\n",
    "my_list = [1, 2, 3,4,5]\n",
    "popped_element = my_list.pop()\n",
    "print(popped_element)  # Output: 3\n",
    "print(my_list)  # Output: [1, 2]"
   ]
  },
  {
   "cell_type": "code",
   "execution_count": 92,
   "id": "ecac7871-7fce-4365-8b1f-afaeb3a920b2",
   "metadata": {},
   "outputs": [
    {
     "data": {
      "text/plain": [
       "3"
      ]
     },
     "execution_count": 92,
     "metadata": {},
     "output_type": "execute_result"
    }
   ],
   "source": [
    "my_list.pop(2)"
   ]
  },
  {
   "cell_type": "code",
   "execution_count": 93,
   "id": "3802711b-8b83-4651-9dea-4f6623386fc8",
   "metadata": {},
   "outputs": [
    {
     "data": {
      "text/plain": [
       "[1, 2, 4]"
      ]
     },
     "execution_count": 93,
     "metadata": {},
     "output_type": "execute_result"
    }
   ],
   "source": [
    "my_list"
   ]
  },
  {
   "cell_type": "code",
   "execution_count": 94,
   "id": "47f18142-3211-497b-999c-c1d9443b84f9",
   "metadata": {},
   "outputs": [
    {
     "name": "stdout",
     "output_type": "stream",
     "text": [
      "[1, 3, 2]\n"
     ]
    }
   ],
   "source": [
    "### 9. `remove()`\n",
    "#The `remove()` method removes the first occurrence of a specified value.\n",
    "\n",
    "my_list = [1, 2, 3, 2]\n",
    "my_list.remove(2)\n",
    "print(my_list)  # Output: [1, 3, 2]"
   ]
  },
  {
   "cell_type": "code",
   "execution_count": 95,
   "id": "a5c7f8aa-58b9-4e01-9d80-b91ca73230fc",
   "metadata": {},
   "outputs": [],
   "source": [
    "my_list.remove(2)"
   ]
  },
  {
   "cell_type": "code",
   "execution_count": 96,
   "id": "e9963213-bc90-45ad-804e-40f733e9719d",
   "metadata": {},
   "outputs": [
    {
     "data": {
      "text/plain": [
       "[1, 3]"
      ]
     },
     "execution_count": 96,
     "metadata": {},
     "output_type": "execute_result"
    }
   ],
   "source": [
    "my_list"
   ]
  },
  {
   "cell_type": "code",
   "execution_count": 97,
   "id": "f4f5ded2-91c2-4caa-898a-840a727e0449",
   "metadata": {},
   "outputs": [
    {
     "name": "stdout",
     "output_type": "stream",
     "text": [
      "[3, 2, 1]\n"
     ]
    }
   ],
   "source": [
    "### 10. `reverse()`\n",
    "#The `reverse()` method reverses the order of the elements in the list.\n",
    " \n",
    "my_list = [1, 2, 3]\n",
    "my_list.reverse()\n",
    "print(my_list)  # Output: [3, 2, 1]"
   ]
  },
  {
   "cell_type": "code",
   "execution_count": 100,
   "id": "8d48bcfa-8089-49d2-a6dd-e9e12a5cb4c4",
   "metadata": {},
   "outputs": [
    {
     "name": "stdout",
     "output_type": "stream",
     "text": [
      "[1, 2, 3]\n"
     ]
    }
   ],
   "source": [
    "### 11. `sort()`\n",
    "#The `sort()` method sorts the elements of the list in place.\n",
    "\n",
    "my_list = [3, 1, 2]\n",
    "my_list.sort()\n",
    "print(my_list)  # Output: [1, 2, 3]"
   ]
  },
  {
   "cell_type": "code",
   "execution_count": 101,
   "id": "188daa46-e567-49e3-bad2-4add2122c495",
   "metadata": {},
   "outputs": [
    {
     "data": {
      "text/plain": [
       "['__add__',\n",
       " '__class__',\n",
       " '__class_getitem__',\n",
       " '__contains__',\n",
       " '__delattr__',\n",
       " '__delitem__',\n",
       " '__dir__',\n",
       " '__doc__',\n",
       " '__eq__',\n",
       " '__format__',\n",
       " '__ge__',\n",
       " '__getattribute__',\n",
       " '__getitem__',\n",
       " '__getstate__',\n",
       " '__gt__',\n",
       " '__hash__',\n",
       " '__iadd__',\n",
       " '__imul__',\n",
       " '__init__',\n",
       " '__init_subclass__',\n",
       " '__iter__',\n",
       " '__le__',\n",
       " '__len__',\n",
       " '__lt__',\n",
       " '__mul__',\n",
       " '__ne__',\n",
       " '__new__',\n",
       " '__reduce__',\n",
       " '__reduce_ex__',\n",
       " '__repr__',\n",
       " '__reversed__',\n",
       " '__rmul__',\n",
       " '__setattr__',\n",
       " '__setitem__',\n",
       " '__sizeof__',\n",
       " '__str__',\n",
       " '__subclasshook__',\n",
       " 'append',\n",
       " 'clear',\n",
       " 'copy',\n",
       " 'count',\n",
       " 'extend',\n",
       " 'index',\n",
       " 'insert',\n",
       " 'pop',\n",
       " 'remove',\n",
       " 'reverse',\n",
       " 'sort']"
      ]
     },
     "execution_count": 101,
     "metadata": {},
     "output_type": "execute_result"
    }
   ],
   "source": [
    "dir(list)"
   ]
  },
  {
   "cell_type": "code",
   "execution_count": null,
   "id": "0c0954a3-4873-4b5e-b0a0-cc3224cfae9a",
   "metadata": {},
   "outputs": [],
   "source": []
  }
 ],
 "metadata": {
  "kernelspec": {
   "display_name": "Python 3 (ipykernel)",
   "language": "python",
   "name": "python3"
  },
  "language_info": {
   "codemirror_mode": {
    "name": "ipython",
    "version": 3
   },
   "file_extension": ".py",
   "mimetype": "text/x-python",
   "name": "python",
   "nbconvert_exporter": "python",
   "pygments_lexer": "ipython3",
   "version": "3.11.7"
  }
 },
 "nbformat": 4,
 "nbformat_minor": 5
}
