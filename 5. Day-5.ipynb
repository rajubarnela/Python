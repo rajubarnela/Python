{
 "cells": [
  {
   "cell_type": "code",
   "execution_count": 1,
   "id": "bee19ec2-8148-4f7f-be79-ae9bc67efb6e",
   "metadata": {},
   "outputs": [],
   "source": [
    "# Special Character "
   ]
  },
  {
   "cell_type": "code",
   "execution_count": 2,
   "id": "e2f425a4-67ea-4748-b973-47f0fb36aa88",
   "metadata": {},
   "outputs": [
    {
     "name": "stdout",
     "output_type": "stream",
     "text": [
      "Hello\n",
      "World\n"
     ]
    }
   ],
   "source": [
    "# \\n new line\n",
    "print(\"Hello\\nWorld\")"
   ]
  },
  {
   "cell_type": "code",
   "execution_count": 3,
   "id": "cca20c37-bc56-4b07-86b1-439aa2d18bc0",
   "metadata": {},
   "outputs": [
    {
     "name": "stdout",
     "output_type": "stream",
     "text": [
      "Name:\tAlice\n"
     ]
    }
   ],
   "source": [
    "# \\t tab space\n",
    "print(\"Name:\\tAlice\")"
   ]
  },
  {
   "cell_type": "code",
   "execution_count": 4,
   "id": "a394a59c-7941-4886-bf69-bd79b09630fb",
   "metadata": {},
   "outputs": [
    {
     "name": "stdout",
     "output_type": "stream",
     "text": [
      "C:\\Users\\John\\Documents\n"
     ]
    }
   ],
   "source": [
    "# \\\\ (Backslash)\n",
    "\n",
    "path = \"C:\\\\Users\\\\John\\\\Documents\"\n",
    "print(path)"
   ]
  },
  {
   "cell_type": "code",
   "execution_count": 5,
   "id": "5ba01cda-a6d6-431f-92ab-f449b38cf80b",
   "metadata": {},
   "outputs": [
    {
     "name": "stdout",
     "output_type": "stream",
     "text": [
      "C:/Users/John/Documents\n"
     ]
    }
   ],
   "source": [
    "# \\\\ (Backslash)\n",
    "\n",
    "path = \"C:/Users/John/Documents\"\n",
    "print(path)"
   ]
  },
  {
   "cell_type": "code",
   "execution_count": 6,
   "id": "8740600f-f7e4-4d35-8686-8e8bf58c9ade",
   "metadata": {},
   "outputs": [
    {
     "name": "stdout",
     "output_type": "stream",
     "text": [
      "He said, 'Hello!'\n",
      "She said, \"Hi!\"\n"
     ]
    }
   ],
   "source": [
    "# \\' and \\\" (Single and Double Quotes)\n",
    "\n",
    "# Using \\' to include a single quote inside a string\n",
    "\n",
    "message = 'He said, \\'Hello!\\''\n",
    "print(message)\n",
    "\n",
    "# Using \\\" to include a double quote inside a string\n",
    "quote = \"She said, \\\"Hi!\\\"\"\n",
    "print(quote)"
   ]
  },
  {
   "cell_type": "code",
   "execution_count": 7,
   "id": "0f8cdc3f-2573-46a6-a900-6e5060a369b2",
   "metadata": {},
   "outputs": [],
   "source": [
    "name = \"'amit'\""
   ]
  },
  {
   "cell_type": "code",
   "execution_count": 8,
   "id": "5093417c-2840-4d0e-a550-3d94b82739a9",
   "metadata": {},
   "outputs": [
    {
     "data": {
      "text/plain": [
       "\"'amit'\""
      ]
     },
     "execution_count": 8,
     "metadata": {},
     "output_type": "execute_result"
    }
   ],
   "source": [
    "name"
   ]
  },
  {
   "cell_type": "code",
   "execution_count": 10,
   "id": "16fdcc09-5d1a-4d17-a0c5-9e394482c6e3",
   "metadata": {},
   "outputs": [
    {
     "name": "stdout",
     "output_type": "stream",
     "text": [
      "Hello World\n"
     ]
    }
   ],
   "source": [
    "# \\b (Backspace):\n",
    "\n",
    "print(\"Hello @\\bWorld\")"
   ]
  },
  {
   "cell_type": "code",
   "execution_count": 12,
   "id": "c9d00b3f-9563-4dd4-8e3f-c70b18a0c345",
   "metadata": {},
   "outputs": [
    {
     "name": "stdout",
     "output_type": "stream",
     "text": [
      "python\n"
     ]
    }
   ],
   "source": [
    "# \\r (Carriage Return)\n",
    "\n",
    "print(\"Hello \\r World \\r python\")"
   ]
  },
  {
   "cell_type": "markdown",
   "id": "fddac623-5af1-48c0-9e09-2dc7e078900f",
   "metadata": {},
   "source": [
    "### String Formating:-\n",
    "\t\n",
    "Old-Style String Formatting (% Formatting)\n",
    "Old-style formatting uses the % operator to insert values into a string template. It's less recommended for new code due to its limitations compared to str.format() and f-strings."
   ]
  },
  {
   "cell_type": "code",
   "execution_count": 20,
   "id": "b055445a-164c-4942-b87b-0659570fcd43",
   "metadata": {},
   "outputs": [],
   "source": [
    "# 1.Basic Syntax: Use % followed by a tuple of values or a single value (if only one placeholder) to substitute into the string.\n",
    "name = \"Alice\"\n",
    "lastname = \"david\"\n",
    "age = 30\n",
    "formatted_string = \"My name is %s %s and I am %d years old.\" % (lastname, name, age)\n",
    "\n",
    "\n",
    "#print(formatted_string)  # Output: 'My name is Alice and I am 30 years old.'"
   ]
  },
  {
   "cell_type": "code",
   "execution_count": 21,
   "id": "9b1bf702-d26f-444d-9df9-79df5c36a467",
   "metadata": {},
   "outputs": [
    {
     "data": {
      "text/plain": [
       "'My name is david Alice and I am 30 years old.'"
      ]
     },
     "execution_count": 21,
     "metadata": {},
     "output_type": "execute_result"
    }
   ],
   "source": [
    "formatted_string"
   ]
  },
  {
   "cell_type": "code",
   "execution_count": 25,
   "id": "bd711258-c5ea-402a-952b-f0d8f7eb0372",
   "metadata": {},
   "outputs": [
    {
     "name": "stdout",
     "output_type": "stream",
     "text": [
      "The value of pi is approximately 3.14\n"
     ]
    }
   ],
   "source": [
    "#Formatting Options:\n",
    "# %s for strings\n",
    "# %d for integers\n",
    "# %.f for floating-point numbers\n",
    "# %x, %o, %e, %g for hexadecimal, octal, exponential, and general floating-point formats respectively.\n",
    "\n",
    "number = 3.14159\n",
    "formatted_number = \"The value of pi is approximately %.2f\" % number\n",
    "print(formatted_number)  # Output: 'The value of pi is approximately 3.14'"
   ]
  },
  {
   "cell_type": "code",
   "execution_count": 27,
   "id": "eb41e5ec-47b4-4862-b116-bea2a8dbbb53",
   "metadata": {},
   "outputs": [
    {
     "name": "stdout",
     "output_type": "stream",
     "text": [
      "My name is 25 and I am Bob years old.\n"
     ]
    }
   ],
   "source": [
    "#2. str.format() Method\n",
    "#Introduced in Python 2.7, str.format() provides more flexibility and readability compared to % formatting. It allows for positional arguments, keyword arguments, and more control over formatting.\n",
    "\n",
    "#Basic Syntax: Use {} placeholders inside the string and call .format() with arguments.\n",
    "\t\t \n",
    "name = \"Bob\"\n",
    "age = 25\n",
    "formatted_string = \"My name is {} and I am {} years old.\".format(age, name)\n",
    "print(formatted_string)  # Output: 'My name is Bob and I am 25 years old.'"
   ]
  },
  {
   "cell_type": "code",
   "execution_count": 30,
   "id": "5b1a597f-1a60-4751-ba43-cc66e775ceb5",
   "metadata": {},
   "outputs": [
    {
     "data": {
      "text/plain": [
       "'First: B, Second: A'"
      ]
     },
     "execution_count": 30,
     "metadata": {},
     "output_type": "execute_result"
    }
   ],
   "source": [
    "#Positional and Keyword Arguments:\n",
    "\n",
    "#Positional arguments:\n",
    "\n",
    "formatted_string = \"First: {1}, Second: {0}\".format(\"A\", \"B\")\n",
    "formatted_string"
   ]
  },
  {
   "cell_type": "code",
   "execution_count": 31,
   "id": "8c24c851-18ec-4a83-bdc1-41d10dab4d1b",
   "metadata": {},
   "outputs": [
    {
     "data": {
      "text/plain": [
       "'Name: Alice, Age: 30'"
      ]
     },
     "execution_count": 31,
     "metadata": {},
     "output_type": "execute_result"
    }
   ],
   "source": [
    "#Keyword arguments:\n",
    "\n",
    "formatted_string = \"Name: {name}, Age: {age}\".format(name=\"Alice\", age=30)\n",
    "formatted_string"
   ]
  },
  {
   "cell_type": "code",
   "execution_count": 32,
   "id": "dfbb2cb6-29ae-4507-b555-315e58ae7a38",
   "metadata": {},
   "outputs": [
    {
     "name": "stdout",
     "output_type": "stream",
     "text": [
      "The value of pi is approximately 3.14\n"
     ]
    }
   ],
   "source": [
    "#Formatting Options:\n",
    "\n",
    "# {} for positional arguments\n",
    "# {name} for keyword arguments\n",
    "# {index:format_spec} for specifying formatting options (:format_spec is optional).\n",
    "\n",
    "pi = 3.14159\n",
    "formatted_number = \"The value of pi is approximately {:.2f}\".format(pi)\n",
    "\n",
    "print(formatted_number)  # Output: 'The value of pi is approximately 3.14'"
   ]
  },
  {
   "cell_type": "markdown",
   "id": "aa10f935-e075-4b35-83aa-ce963963214b",
   "metadata": {},
   "source": [
    "### Comparison and Recommendations\n",
    "#Readability: F-strings offer the most readable syntax.\n",
    "#Flexibility: F-strings support complex expressions and function calls directly inside {}.\n",
    "#Performance: F-strings are generally faster than both % formatting and str.format()."
   ]
  },
  {
   "cell_type": "code",
   "execution_count": 33,
   "id": "0da890c2-ebf5-46fd-b2c0-f604c1b0f7e3",
   "metadata": {},
   "outputs": [
    {
     "name": "stdout",
     "output_type": "stream",
     "text": [
      "My name is Alice, I am 30 years old, and I work as an engineer.\n"
     ]
    }
   ],
   "source": [
    "# f-string\n",
    "\n",
    "name = \"Alice\"\n",
    "age = 30\n",
    "occupation = \"engineer\"\n",
    "\n",
    "# Using f-string to format the output\n",
    "\n",
    "sentence = f\"My name is {name}, I am {age} years old, and I work as an {occupation}.\"\n",
    "print(sentence)"
   ]
  },
  {
   "cell_type": "code",
   "execution_count": 34,
   "id": "198413bf-b69d-4ca9-ad97-ed1d32755ebb",
   "metadata": {},
   "outputs": [
    {
     "data": {
      "text/plain": [
       "('My name is',\n",
       " 'Alice',\n",
       " 'I am',\n",
       " 30,\n",
       " 'years old, and I work as an ',\n",
       " 'engineer',\n",
       " '.')"
      ]
     },
     "execution_count": 34,
     "metadata": {},
     "output_type": "execute_result"
    }
   ],
   "source": [
    "\"My name is\", name, \"I am\", age, \"years old, and I work as an \", occupation,\".\""
   ]
  },
  {
   "cell_type": "code",
   "execution_count": 38,
   "id": "2750ed28-7869-4304-b67f-f52637b3f863",
   "metadata": {},
   "outputs": [],
   "source": [
    "var = \" %x, %o, %e, %g for hexadecimal, \\n octal, exponential, and\\n general floating-point formats respectively.\""
   ]
  },
  {
   "cell_type": "code",
   "execution_count": 47,
   "id": "6df6678e-9efc-4e19-a272-19eb18e8529a",
   "metadata": {},
   "outputs": [
    {
     "name": "stdout",
     "output_type": "stream",
     "text": [
      " %x, %o, %e, %g for hexadecimal, \n",
      " octal, exponential, and\n",
      " general floating-point formats respectively.\n"
     ]
    }
   ],
   "source": [
    "print(var)"
   ]
  },
  {
   "cell_type": "code",
   "execution_count": 50,
   "id": "f7c2ab60-bb9e-4b9b-9f05-1f685c9cda6d",
   "metadata": {},
   "outputs": [],
   "source": [
    "a= \"%s for strings\"\n",
    "b =\"%d for integers\"\n",
    "c = \"%.f for floating-point numbers\""
   ]
  },
  {
   "cell_type": "code",
   "execution_count": 51,
   "id": "a846f5a0-31f1-4d17-97de-0f54e80f8b9f",
   "metadata": {},
   "outputs": [
    {
     "data": {
      "text/plain": [
       "'%s for strings'"
      ]
     },
     "execution_count": 51,
     "metadata": {},
     "output_type": "execute_result"
    }
   ],
   "source": [
    "a"
   ]
  },
  {
   "cell_type": "code",
   "execution_count": 52,
   "id": "74e4ca03-0ad6-4884-afb4-f1e14b42274c",
   "metadata": {},
   "outputs": [
    {
     "data": {
      "text/plain": [
       "'%d for integers'"
      ]
     },
     "execution_count": 52,
     "metadata": {},
     "output_type": "execute_result"
    }
   ],
   "source": [
    "b"
   ]
  },
  {
   "cell_type": "code",
   "execution_count": 53,
   "id": "51913f94-5b40-4c78-ae41-e73a9d663a33",
   "metadata": {},
   "outputs": [
    {
     "data": {
      "text/plain": [
       "'%.f for floating-point numbers'"
      ]
     },
     "execution_count": 53,
     "metadata": {},
     "output_type": "execute_result"
    }
   ],
   "source": [
    "c"
   ]
  },
  {
   "cell_type": "code",
   "execution_count": 62,
   "id": "8ce939e7-bbd9-4129-a5ae-2f26bb5e4bc4",
   "metadata": {},
   "outputs": [
    {
     "name": "stdout",
     "output_type": "stream",
     "text": [
      "%s for strings %d for integers     %.f for floating-point numbers\n"
     ]
    }
   ],
   "source": [
    "print(a,  b,\"   \",c )"
   ]
  },
  {
   "cell_type": "code",
   "execution_count": 56,
   "id": "4adfbfe2-893d-47ee-a37c-ceeb0f8bb181",
   "metadata": {},
   "outputs": [
    {
     "name": "stdout",
     "output_type": "stream",
     "text": [
      "%s for strings\n",
      "%d for integers\n",
      "%.f for floating-point numbers\n"
     ]
    }
   ],
   "source": [
    "print(a)\n",
    "print(b)\n",
    "print(c)"
   ]
  },
  {
   "cell_type": "code",
   "execution_count": 60,
   "id": "d5726b4d-ed01-4a6a-955f-a13f3adaee1f",
   "metadata": {},
   "outputs": [
    {
     "name": "stdout",
     "output_type": "stream",
     "text": [
      "%s for strings   @%d for integers   @ %.f for floating-point numbers\n"
     ]
    }
   ],
   "source": [
    "print(a, end = \" \")\n",
    "print(b , end = \" \")\n",
    "print(c)"
   ]
  },
  {
   "cell_type": "code",
   "execution_count": 63,
   "id": "973de797-dd78-4b85-9ae4-35ecbf2929e9",
   "metadata": {},
   "outputs": [],
   "source": [
    "sttr = \"%s for strings\""
   ]
  },
  {
   "cell_type": "code",
   "execution_count": 66,
   "id": "ca76b289-b36e-4744-b63d-a791278cbe98",
   "metadata": {},
   "outputs": [],
   "source": [
    "sttr1 = \"\"\"#Readability: F-strings offer the most readable syntax. #Flexibility: \n",
    "F-strings support complex expressions and function calls directly inside {}.\n",
    "Performance: F-strings are generally faster than both % formatting and str.format().\"\"\""
   ]
  },
  {
   "cell_type": "code",
   "execution_count": 67,
   "id": "1ae439df-ca53-4a7e-98cb-9bf3561e2278",
   "metadata": {},
   "outputs": [
    {
     "data": {
      "text/plain": [
       "'#Readability: F-strings offer the most readable syntax. #Flexibility: \\nF-strings support complex expressions and function calls directly inside {}.\\nPerformance: F-strings are generally faster than both % formatting and str.format().'"
      ]
     },
     "execution_count": 67,
     "metadata": {},
     "output_type": "execute_result"
    }
   ],
   "source": [
    "sttr1"
   ]
  },
  {
   "cell_type": "code",
   "execution_count": 70,
   "id": "0080e652-41c8-4dbc-9a07-ecc3161b620c",
   "metadata": {},
   "outputs": [],
   "source": [
    "def squre(num):\n",
    "    \"\"\"this square function\n",
    "    used to square number\"\"\"\n",
    "    return num**2"
   ]
  },
  {
   "cell_type": "code",
   "execution_count": 71,
   "id": "fa2a7f08-453e-46dd-9965-ddfc545d4904",
   "metadata": {},
   "outputs": [
    {
     "data": {
      "text/plain": [
       "25"
      ]
     },
     "execution_count": 71,
     "metadata": {},
     "output_type": "execute_result"
    }
   ],
   "source": [
    "squre(5)"
   ]
  },
  {
   "cell_type": "code",
   "execution_count": 72,
   "id": "353a30c8-1c7d-4eb5-92aa-c6d812f6523d",
   "metadata": {},
   "outputs": [
    {
     "ename": "TypeError",
     "evalue": "squre() missing 1 required positional argument: 'num'",
     "output_type": "error",
     "traceback": [
      "\u001b[1;31m---------------------------------------------------------------------------\u001b[0m",
      "\u001b[1;31mTypeError\u001b[0m                                 Traceback (most recent call last)",
      "Cell \u001b[1;32mIn[72], line 1\u001b[0m\n\u001b[1;32m----> 1\u001b[0m squre()\n",
      "\u001b[1;31mTypeError\u001b[0m: squre() missing 1 required positional argument: 'num'"
     ]
    }
   ],
   "source": [
    "squre()"
   ]
  },
  {
   "cell_type": "code",
   "execution_count": null,
   "id": "f43dafd6-c06f-4acc-9d0d-36abc53b22d8",
   "metadata": {},
   "outputs": [],
   "source": [
    "int = 8\n",
    "float = 8.9\n",
    "bool = True/ False\n",
    "tuple = ( )\n",
    "list  = [ ]\n",
    "set  = {}\n",
    "dict = {key : value }\n",
    "complex = 55 +6j"
   ]
  },
  {
   "cell_type": "code",
   "execution_count": null,
   "id": "b3212969-34d6-4924-b81d-6312b5b03d1d",
   "metadata": {},
   "outputs": [],
   "source": [
    "+ \n",
    "-\n",
    "*\n",
    "/\n",
    "%\n",
    "//"
   ]
  },
  {
   "cell_type": "code",
   "execution_count": 73,
   "id": "a0cbb44a-4a39-41a0-8100-461706e6d407",
   "metadata": {},
   "outputs": [
    {
     "data": {
      "text/plain": [
       "1"
      ]
     },
     "execution_count": 73,
     "metadata": {},
     "output_type": "execute_result"
    }
   ],
   "source": [
    "5%2"
   ]
  },
  {
   "cell_type": "code",
   "execution_count": 74,
   "id": "e3b7e707-0d65-4eeb-b33c-a7ae7fe92be1",
   "metadata": {},
   "outputs": [
    {
     "data": {
      "text/plain": [
       "2.5"
      ]
     },
     "execution_count": 74,
     "metadata": {},
     "output_type": "execute_result"
    }
   ],
   "source": [
    "5/2"
   ]
  },
  {
   "cell_type": "code",
   "execution_count": 75,
   "id": "ac0d506c-03ab-4727-a912-13688b8280f2",
   "metadata": {},
   "outputs": [
    {
     "data": {
      "text/plain": [
       "2"
      ]
     },
     "execution_count": 75,
     "metadata": {},
     "output_type": "execute_result"
    }
   ],
   "source": [
    "5//2"
   ]
  },
  {
   "cell_type": "code",
   "execution_count": null,
   "id": "346e5f01-679d-446b-a16d-bd7ebbd8c816",
   "metadata": {},
   "outputs": [],
   "source": [
    "and\n",
    "or\n",
    "not"
   ]
  },
  {
   "cell_type": "code",
   "execution_count": null,
   "id": "2029be55-8825-4bdb-b477-fccc7da0c016",
   "metadata": {},
   "outputs": [],
   "source": [
    "in\n",
    "is\n",
    "is not\n",
    "not in"
   ]
  },
  {
   "cell_type": "code",
   "execution_count": null,
   "id": "70ae170f-1420-4d3f-a285-f4b3a92c5397",
   "metadata": {},
   "outputs": [],
   "source": [
    "==\n",
    ">\n",
    "<\n",
    ">=\n",
    "<=\n",
    "!="
   ]
  },
  {
   "cell_type": "code",
   "execution_count": null,
   "id": "73907a29-a612-4c21-af77-935936850d2e",
   "metadata": {},
   "outputs": [],
   "source": [
    "a = 10\n",
    "1a = 10\n",
    "a1 = 10\n",
    "a 1 = 10\n",
    "a_1 = 10\n",
    "_ = 10\n",
    "_1 = 10\n",
    "a, b, c  = 10, 20, 30 "
   ]
  },
  {
   "cell_type": "code",
   "execution_count": 76,
   "id": "07f1643b-b1ef-4d52-b593-a7793709fa40",
   "metadata": {},
   "outputs": [],
   "source": [
    "a= 10"
   ]
  },
  {
   "cell_type": "code",
   "execution_count": 77,
   "id": "7b7aeacf-376f-4523-8a1f-54f0df0b5476",
   "metadata": {},
   "outputs": [
    {
     "data": {
      "text/plain": [
       "int"
      ]
     },
     "execution_count": 77,
     "metadata": {},
     "output_type": "execute_result"
    }
   ],
   "source": [
    "type(a)"
   ]
  },
  {
   "cell_type": "code",
   "execution_count": 79,
   "id": "c5099b07-5818-44ef-ac23-0eec3e73dc36",
   "metadata": {},
   "outputs": [],
   "source": [
    "b = str(a)"
   ]
  },
  {
   "cell_type": "code",
   "execution_count": 80,
   "id": "62e3f4dc-7fde-481b-879d-2a5cc9cd3585",
   "metadata": {},
   "outputs": [
    {
     "data": {
      "text/plain": [
       "str"
      ]
     },
     "execution_count": 80,
     "metadata": {},
     "output_type": "execute_result"
    }
   ],
   "source": [
    "type(b)"
   ]
  },
  {
   "cell_type": "code",
   "execution_count": 81,
   "id": "791543ca-cec6-4e54-b1cc-c71f8e3f3aec",
   "metadata": {},
   "outputs": [],
   "source": [
    "c = \"py\""
   ]
  },
  {
   "cell_type": "code",
   "execution_count": 82,
   "id": "ecdbdcb4-aa35-4344-a9f5-73e1adfbd808",
   "metadata": {},
   "outputs": [
    {
     "ename": "ValueError",
     "evalue": "invalid literal for int() with base 10: 'py'",
     "output_type": "error",
     "traceback": [
      "\u001b[1;31m---------------------------------------------------------------------------\u001b[0m",
      "\u001b[1;31mValueError\u001b[0m                                Traceback (most recent call last)",
      "Cell \u001b[1;32mIn[82], line 1\u001b[0m\n\u001b[1;32m----> 1\u001b[0m \u001b[38;5;28mint\u001b[39m(c)\n",
      "\u001b[1;31mValueError\u001b[0m: invalid literal for int() with base 10: 'py'"
     ]
    }
   ],
   "source": [
    "int(c)"
   ]
  },
  {
   "cell_type": "code",
   "execution_count": 84,
   "id": "f0810716-eb47-4d83-9b1c-3174bc67778a",
   "metadata": {},
   "outputs": [],
   "source": [
    "l = [1,2,3,4,4]"
   ]
  },
  {
   "cell_type": "code",
   "execution_count": 85,
   "id": "caa2b473-913c-42c9-9114-630cda25ff1e",
   "metadata": {},
   "outputs": [
    {
     "data": {
      "text/plain": [
       "'[1, 2, 3, 4, 4]'"
      ]
     },
     "execution_count": 85,
     "metadata": {},
     "output_type": "execute_result"
    }
   ],
   "source": [
    "str(l)"
   ]
  },
  {
   "cell_type": "code",
   "execution_count": 86,
   "id": "0b8d94d3-36c2-447d-be33-ff2eb5073f5f",
   "metadata": {},
   "outputs": [
    {
     "data": {
      "text/plain": [
       "{1, 2, 3, 4}"
      ]
     },
     "execution_count": 86,
     "metadata": {},
     "output_type": "execute_result"
    }
   ],
   "source": [
    "set(l)"
   ]
  },
  {
   "cell_type": "code",
   "execution_count": 91,
   "id": "ae7f42d0-0c01-4cab-9158-b7d6520c52c5",
   "metadata": {},
   "outputs": [],
   "source": [
    "l[1] = 23"
   ]
  },
  {
   "cell_type": "code",
   "execution_count": 92,
   "id": "93ac485a-cd15-4653-9715-d544ed7bdd2f",
   "metadata": {},
   "outputs": [
    {
     "data": {
      "text/plain": [
       "[22, 23, 3, 4, 4]"
      ]
     },
     "execution_count": 92,
     "metadata": {},
     "output_type": "execute_result"
    }
   ],
   "source": [
    "l"
   ]
  },
  {
   "cell_type": "code",
   "execution_count": 93,
   "id": "487891f8-1920-4c9b-8bf5-23bf966212dc",
   "metadata": {},
   "outputs": [],
   "source": [
    "st = \"python\""
   ]
  },
  {
   "cell_type": "code",
   "execution_count": 95,
   "id": "1f35d2a9-d8ce-40dd-9ad7-2a51031d9cd7",
   "metadata": {},
   "outputs": [
    {
     "ename": "TypeError",
     "evalue": "'str' object does not support item assignment",
     "output_type": "error",
     "traceback": [
      "\u001b[1;31m---------------------------------------------------------------------------\u001b[0m",
      "\u001b[1;31mTypeError\u001b[0m                                 Traceback (most recent call last)",
      "Cell \u001b[1;32mIn[95], line 1\u001b[0m\n\u001b[1;32m----> 1\u001b[0m st[\u001b[38;5;241m0\u001b[39m] \u001b[38;5;241m=\u001b[39m \u001b[38;5;124m\"\u001b[39m\u001b[38;5;124mQ\u001b[39m\u001b[38;5;124m\"\u001b[39m\n",
      "\u001b[1;31mTypeError\u001b[0m: 'str' object does not support item assignment"
     ]
    }
   ],
   "source": [
    "st[0] = \"Q\""
   ]
  },
  {
   "cell_type": "code",
   "execution_count": null,
   "id": "2f242e32-4d9e-40cc-997e-ff3037cb8a72",
   "metadata": {},
   "outputs": [],
   "source": [
    "list = [ ]"
   ]
  },
  {
   "cell_type": "code",
   "execution_count": null,
   "id": "c0dc1b93-e522-48f2-ab04-1f6b2dea167b",
   "metadata": {},
   "outputs": [],
   "source": [
    "list()  "
   ]
  },
  {
   "cell_type": "code",
   "execution_count": null,
   "id": "28c070a5-7932-468c-8c7e-128865ac8955",
   "metadata": {},
   "outputs": [],
   "source": [
    "\\n\n",
    "\\t\n",
    "\\\\\n",
    "\\b\n",
    "\\r"
   ]
  },
  {
   "cell_type": "code",
   "execution_count": null,
   "id": "37beed10-ab44-4ced-85b4-69e8da12bc78",
   "metadata": {},
   "outputs": [],
   "source": [
    "%s, %d, %.f"
   ]
  },
  {
   "cell_type": "code",
   "execution_count": null,
   "id": "a9825442-1f39-48b5-99af-a732a3864feb",
   "metadata": {},
   "outputs": [],
   "source": [
    ".formate()"
   ]
  },
  {
   "cell_type": "code",
   "execution_count": null,
   "id": "5b14299b-c138-45ca-ab59-7204af216847",
   "metadata": {},
   "outputs": [],
   "source": [
    "f\"\""
   ]
  }
 ],
 "metadata": {
  "kernelspec": {
   "display_name": "Python 3 (ipykernel)",
   "language": "python",
   "name": "python3"
  },
  "language_info": {
   "codemirror_mode": {
    "name": "ipython",
    "version": 3
   },
   "file_extension": ".py",
   "mimetype": "text/x-python",
   "name": "python",
   "nbconvert_exporter": "python",
   "pygments_lexer": "ipython3",
   "version": "3.11.7"
  }
 },
 "nbformat": 4,
 "nbformat_minor": 5
}
