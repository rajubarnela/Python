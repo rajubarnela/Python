{
 "cells": [
  {
   "cell_type": "markdown",
   "id": "5d9c8997-dd90-409c-b5b7-06721715a452",
   "metadata": {},
   "source": [
    "## String"
   ]
  },
  {
   "cell_type": "markdown",
   "id": "a0768594-4753-42dd-8ddf-bdbf2d3aa3de",
   "metadata": {},
   "source": [
    "#### Mutation"
   ]
  },
  {
   "cell_type": "code",
   "execution_count": 1,
   "id": "ddc19077-15b2-4a95-a23d-5081cc934991",
   "metadata": {},
   "outputs": [],
   "source": [
    "s = \"hello\""
   ]
  },
  {
   "cell_type": "code",
   "execution_count": 2,
   "id": "229af5fb-a1b9-4673-966b-b6350cb207ba",
   "metadata": {},
   "outputs": [
    {
     "ename": "TypeError",
     "evalue": "'str' object does not support item assignment",
     "output_type": "error",
     "traceback": [
      "\u001b[1;31m---------------------------------------------------------------------------\u001b[0m",
      "\u001b[1;31mTypeError\u001b[0m                                 Traceback (most recent call last)",
      "Cell \u001b[1;32mIn[2], line 1\u001b[0m\n\u001b[1;32m----> 1\u001b[0m s[\u001b[38;5;241m1\u001b[39m] \u001b[38;5;241m=\u001b[39m \u001b[38;5;124m\"\u001b[39m\u001b[38;5;124ma\u001b[39m\u001b[38;5;124m\"\u001b[39m\n",
      "\u001b[1;31mTypeError\u001b[0m: 'str' object does not support item assignment"
     ]
    }
   ],
   "source": [
    "s[1] = \"a\""
   ]
  },
  {
   "cell_type": "markdown",
   "id": "59236033-2f7a-458a-8ca4-101302e1624b",
   "metadata": {},
   "source": [
    "#### Indexing"
   ]
  },
  {
   "cell_type": "code",
   "execution_count": 6,
   "id": "327a4cef-423d-4d5c-aefb-3b16d5710849",
   "metadata": {},
   "outputs": [],
   "source": [
    "s = \"hello python\""
   ]
  },
  {
   "cell_type": "code",
   "execution_count": 7,
   "id": "a7415598-6bf0-4e04-941a-6c87289e5b61",
   "metadata": {},
   "outputs": [
    {
     "name": "stdout",
     "output_type": "stream",
     "text": [
      "h\n",
      "e\n",
      "n\n"
     ]
    }
   ],
   "source": [
    "print(s[0])   # Output: \"h\"\n",
    "print(s[1])   # Output: \"e\"\n",
    "print(s[-1])  # Output: \"o\" (negative index counts from the end)"
   ]
  },
  {
   "cell_type": "code",
   "execution_count": null,
   "id": "be61c052-4b7f-473b-b2ce-dd95d4c9ae5c",
   "metadata": {},
   "outputs": [],
   "source": [
    "-3 -2 -1 0 1 2 3"
   ]
  },
  {
   "cell_type": "code",
   "execution_count": 17,
   "id": "16be3fd5-1a53-4724-9741-ed55d1eb212a",
   "metadata": {},
   "outputs": [],
   "source": [
    "s_var = \"object does@ not support item assignment\""
   ]
  },
  {
   "cell_type": "code",
   "execution_count": 16,
   "id": "28023c0a-7b95-461e-98ed-df29d00ed476",
   "metadata": {},
   "outputs": [
    {
     "data": {
      "text/plain": [
       "'@'"
      ]
     },
     "execution_count": 16,
     "metadata": {},
     "output_type": "execute_result"
    }
   ],
   "source": [
    "s_var[11]"
   ]
  },
  {
   "cell_type": "code",
   "execution_count": 18,
   "id": "3c3d4971-1901-44c9-949d-0b8948b4514d",
   "metadata": {},
   "outputs": [
    {
     "data": {
      "text/plain": [
       "'m'"
      ]
     },
     "execution_count": 18,
     "metadata": {},
     "output_type": "execute_result"
    }
   ],
   "source": [
    "s_var[-4]"
   ]
  },
  {
   "cell_type": "markdown",
   "id": "9d43c372-cbf1-46db-bca6-bf2ec3b5a9bb",
   "metadata": {},
   "source": [
    "#### Slicing"
   ]
  },
  {
   "cell_type": "code",
   "execution_count": 19,
   "id": "20beeded-bbff-4b76-ab97-4de724e0dbb7",
   "metadata": {},
   "outputs": [],
   "source": [
    "s_var = \"object does@ not support item assignment\""
   ]
  },
  {
   "cell_type": "code",
   "execution_count": 24,
   "id": "c6475885-4e5f-4732-8993-4af360b32418",
   "metadata": {},
   "outputs": [
    {
     "data": {
      "text/plain": [
       "'es@ not support item assignment'"
      ]
     },
     "execution_count": 24,
     "metadata": {},
     "output_type": "execute_result"
    }
   ],
   "source": [
    "s_var[9:]"
   ]
  },
  {
   "cell_type": "code",
   "execution_count": 26,
   "id": "904b1a20-d22d-42f2-82f5-87e97c6111c3",
   "metadata": {},
   "outputs": [
    {
     "data": {
      "text/plain": [
       "'jc os o upr '"
      ]
     },
     "execution_count": 26,
     "metadata": {},
     "output_type": "execute_result"
    }
   ],
   "source": [
    "s_var[2:25:2]"
   ]
  },
  {
   "cell_type": "code",
   "execution_count": 27,
   "id": "ea2223b7-279e-4509-b08d-e7e72ea29d3e",
   "metadata": {},
   "outputs": [
    {
     "data": {
      "text/plain": [
       "''"
      ]
     },
     "execution_count": 27,
     "metadata": {},
     "output_type": "execute_result"
    }
   ],
   "source": [
    "s_var[-1:-20]"
   ]
  },
  {
   "cell_type": "code",
   "execution_count": 28,
   "id": "9b04de91-328b-4ac5-962f-20d0fb6933c6",
   "metadata": {},
   "outputs": [
    {
     "data": {
      "text/plain": [
       "'port item assignmen'"
      ]
     },
     "execution_count": 28,
     "metadata": {},
     "output_type": "execute_result"
    }
   ],
   "source": [
    "s_var[-20:-1]"
   ]
  },
  {
   "cell_type": "code",
   "execution_count": 29,
   "id": "fe236676-229b-4751-ae4a-22bd2ffc72d6",
   "metadata": {},
   "outputs": [
    {
     "data": {
      "text/plain": [
       "'bject does@ not support item assignmen'"
      ]
     },
     "execution_count": 29,
     "metadata": {},
     "output_type": "execute_result"
    }
   ],
   "source": [
    "s_var[1:-1]"
   ]
  },
  {
   "cell_type": "code",
   "execution_count": 30,
   "id": "c8f42575-1670-4f6c-abc6-8fdf045834ce",
   "metadata": {},
   "outputs": [
    {
     "data": {
      "text/plain": [
       "''"
      ]
     },
     "execution_count": 30,
     "metadata": {},
     "output_type": "execute_result"
    }
   ],
   "source": [
    "s_var[-20:20]"
   ]
  },
  {
   "cell_type": "code",
   "execution_count": 36,
   "id": "3e297a5c-acb4-452f-b009-d6789e756b87",
   "metadata": {},
   "outputs": [
    {
     "data": {
      "text/plain": [
       "'port item assignmen'"
      ]
     },
     "execution_count": 36,
     "metadata": {},
     "output_type": "execute_result"
    }
   ],
   "source": [
    "s_var[-20:-1:1]"
   ]
  },
  {
   "cell_type": "code",
   "execution_count": 38,
   "id": "06df2e6e-6eed-499d-912f-268e4870562d",
   "metadata": {},
   "outputs": [
    {
     "data": {
      "text/plain": [
       "'tnemngissa meti troppus ton @seod tcejbo'"
      ]
     },
     "execution_count": 38,
     "metadata": {},
     "output_type": "execute_result"
    }
   ],
   "source": [
    "s_var[::-1]"
   ]
  },
  {
   "cell_type": "code",
   "execution_count": 40,
   "id": "0b196d1b-c819-4dd7-8ff3-64801363cc33",
   "metadata": {},
   "outputs": [
    {
     "data": {
      "text/plain": [
       "'object does@ not support item assignme'"
      ]
     },
     "execution_count": 40,
     "metadata": {},
     "output_type": "execute_result"
    }
   ],
   "source": [
    "s_var[::-2]"
   ]
  },
  {
   "cell_type": "code",
   "execution_count": null,
   "id": "7ab5994a-bcb7-4072-8559-36f5f59b1fc9",
   "metadata": {},
   "outputs": [],
   "source": [
    "s_var[ : : ]"
   ]
  },
  {
   "cell_type": "code",
   "execution_count": 41,
   "id": "d29d7599-c6dc-453f-b054-8c37593297cf",
   "metadata": {},
   "outputs": [
    {
     "name": "stdout",
     "output_type": "stream",
     "text": [
      "example.com\n"
     ]
    }
   ],
   "source": [
    "email = \"user@example.com\"\n",
    "domain = email[email.index('@') + 1:]\n",
    "print(domain)  # Output: \"example.com\""
   ]
  },
  {
   "cell_type": "code",
   "execution_count": 42,
   "id": "f73d2646-3453-4b3e-a921-89d5a4869adf",
   "metadata": {},
   "outputs": [
    {
     "data": {
      "text/plain": [
       "4"
      ]
     },
     "execution_count": 42,
     "metadata": {},
     "output_type": "execute_result"
    }
   ],
   "source": [
    "email.index('@')"
   ]
  },
  {
   "cell_type": "code",
   "execution_count": 48,
   "id": "7149bb9c-a3a5-46fa-9b43-dde986859a1e",
   "metadata": {},
   "outputs": [
    {
     "name": "stdout",
     "output_type": "stream",
     "text": [
      "123@ 456@ 7890\n"
     ]
    }
   ],
   "source": [
    "phone_number = \"1234567890\"\n",
    "\n",
    "\n",
    "formatted_number = phone_number[:3] + '@ ' + phone_number[3:6] + '@ ' + phone_number[6:]\n",
    "\n",
    "\n",
    "print(formatted_number)  # Output: \"123-456-7890\""
   ]
  },
  {
   "cell_type": "code",
   "execution_count": 44,
   "id": "dff9823f-1947-4d10-bba6-a05ef395f452",
   "metadata": {},
   "outputs": [
    {
     "data": {
      "text/plain": [
       "'123'"
      ]
     },
     "execution_count": 44,
     "metadata": {},
     "output_type": "execute_result"
    }
   ],
   "source": [
    "phone_number[:3] "
   ]
  },
  {
   "cell_type": "code",
   "execution_count": 45,
   "id": "87bbeb62-7167-4d86-afae-4351d5406ac7",
   "metadata": {},
   "outputs": [
    {
     "data": {
      "text/plain": [
       "'456'"
      ]
     },
     "execution_count": 45,
     "metadata": {},
     "output_type": "execute_result"
    }
   ],
   "source": [
    "phone_number[3:6] "
   ]
  },
  {
   "cell_type": "code",
   "execution_count": 46,
   "id": "a0e7d0bd-b55d-48d4-980c-792257bb5b12",
   "metadata": {},
   "outputs": [
    {
     "data": {
      "text/plain": [
       "'7890'"
      ]
     },
     "execution_count": 46,
     "metadata": {},
     "output_type": "execute_result"
    }
   ],
   "source": [
    "phone_number[6:]"
   ]
  },
  {
   "cell_type": "markdown",
   "id": "218335ff-6e20-4493-8fcc-ed60f38778e2",
   "metadata": {},
   "source": [
    "## String Methods"
   ]
  },
  {
   "cell_type": "code",
   "execution_count": 49,
   "id": "29c8fdc4-26cd-4ee3-a91f-e9d5210e9ff8",
   "metadata": {},
   "outputs": [
    {
     "data": {
      "text/plain": [
       "['__add__',\n",
       " '__class__',\n",
       " '__contains__',\n",
       " '__delattr__',\n",
       " '__dir__',\n",
       " '__doc__',\n",
       " '__eq__',\n",
       " '__format__',\n",
       " '__ge__',\n",
       " '__getattribute__',\n",
       " '__getitem__',\n",
       " '__getnewargs__',\n",
       " '__getstate__',\n",
       " '__gt__',\n",
       " '__hash__',\n",
       " '__init__',\n",
       " '__init_subclass__',\n",
       " '__iter__',\n",
       " '__le__',\n",
       " '__len__',\n",
       " '__lt__',\n",
       " '__mod__',\n",
       " '__mul__',\n",
       " '__ne__',\n",
       " '__new__',\n",
       " '__reduce__',\n",
       " '__reduce_ex__',\n",
       " '__repr__',\n",
       " '__rmod__',\n",
       " '__rmul__',\n",
       " '__setattr__',\n",
       " '__sizeof__',\n",
       " '__str__',\n",
       " '__subclasshook__',\n",
       " 'capitalize',\n",
       " 'casefold',\n",
       " 'center',\n",
       " 'count',\n",
       " 'encode',\n",
       " 'endswith',\n",
       " 'expandtabs',\n",
       " 'find',\n",
       " 'format',\n",
       " 'format_map',\n",
       " 'index',\n",
       " 'isalnum',\n",
       " 'isalpha',\n",
       " 'isascii',\n",
       " 'isdecimal',\n",
       " 'isdigit',\n",
       " 'isidentifier',\n",
       " 'islower',\n",
       " 'isnumeric',\n",
       " 'isprintable',\n",
       " 'isspace',\n",
       " 'istitle',\n",
       " 'isupper',\n",
       " 'join',\n",
       " 'ljust',\n",
       " 'lower',\n",
       " 'lstrip',\n",
       " 'maketrans',\n",
       " 'partition',\n",
       " 'removeprefix',\n",
       " 'removesuffix',\n",
       " 'replace',\n",
       " 'rfind',\n",
       " 'rindex',\n",
       " 'rjust',\n",
       " 'rpartition',\n",
       " 'rsplit',\n",
       " 'rstrip',\n",
       " 'split',\n",
       " 'splitlines',\n",
       " 'startswith',\n",
       " 'strip',\n",
       " 'swapcase',\n",
       " 'title',\n",
       " 'translate',\n",
       " 'upper',\n",
       " 'zfill']"
      ]
     },
     "execution_count": 49,
     "metadata": {},
     "output_type": "execute_result"
    }
   ],
   "source": [
    "dir(str)"
   ]
  },
  {
   "cell_type": "code",
   "execution_count": 50,
   "id": "d2ced516-9836-494a-bb7b-7898c7dc559e",
   "metadata": {},
   "outputs": [
    {
     "name": "stdout",
     "output_type": "stream",
     "text": [
      "Hello world\n"
     ]
    }
   ],
   "source": [
    "#capitalize()\n",
    "\n",
    "#Converts the first character of the string to uppercase and the rest to lowercase.\n",
    "\n",
    "s = \"hello world\"\n",
    "print(s.capitalize())  # Output: \"Hello world\""
   ]
  },
  {
   "cell_type": "code",
   "execution_count": 51,
   "id": "c54fba99-6d09-47a6-9a6f-e2fbdbe0d008",
   "metadata": {},
   "outputs": [
    {
     "name": "stdout",
     "output_type": "stream",
     "text": [
      "hello world\n"
     ]
    }
   ],
   "source": [
    "#casefold()\n",
    "\n",
    "#Similar to lower(), but more aggressive; removes all case distinctions.\n",
    "\n",
    "    \n",
    "s = \"HELLO World\"\n",
    "print(s.casefold())  # Output: \"hello world\""
   ]
  },
  {
   "cell_type": "code",
   "execution_count": 53,
   "id": "3cc727a0-39c6-4b60-bed3-de8f314e1968",
   "metadata": {},
   "outputs": [
    {
     "name": "stdout",
     "output_type": "stream",
     "text": [
      "-------hello--------\n"
     ]
    }
   ],
   "source": [
    "#center(width[, fillchar])\n",
    "\n",
    "#Returns a centered string of specified width with optional fill character.\n",
    "\n",
    "s = \"hello\"\n",
    "print(s.center(20, '-'))  # Output: \"--hello---\""
   ]
  },
  {
   "cell_type": "code",
   "execution_count": 57,
   "id": "26f3b6cd-8a5f-4a06-9c82-3ff601469689",
   "metadata": {},
   "outputs": [
    {
     "name": "stdout",
     "output_type": "stream",
     "text": [
      "6\n"
     ]
    }
   ],
   "source": [
    "#count(sub[, start[, end]])\n",
    "\n",
    "#Returns the number of occurrences of substring sub in the string.\n",
    "\n",
    "s = \"hello hello hello\"\n",
    "print(s.count('l'))  # Output: 3"
   ]
  },
  {
   "cell_type": "code",
   "execution_count": 58,
   "id": "daf36aa4-45be-4f33-ba2c-e7ce5e02f625",
   "metadata": {},
   "outputs": [
    {
     "name": "stdout",
     "output_type": "stream",
     "text": [
      "b'hello'\n"
     ]
    }
   ],
   "source": [
    "#encode(encoding=\"utf-8\", errors=\"strict\")\n",
    "\n",
    "#Returns the encoded version of the string as bytes object.\n",
    "\n",
    "s = \"hello\"\n",
    "encoded = s.encode('utf-8')\n",
    "print(encoded)  # Output: b'hello'"
   ]
  },
  {
   "cell_type": "code",
   "execution_count": 61,
   "id": "8959043b-6936-4547-8bd8-0de8293a9d36",
   "metadata": {},
   "outputs": [
    {
     "name": "stdout",
     "output_type": "stream",
     "text": [
      "True\n"
     ]
    }
   ],
   "source": [
    "#endswith(suffix[, start[, end]])\n",
    "\n",
    "#Checks if the string ends with the specified suffix.\n",
    "\n",
    "s = \"hello world\"\n",
    "print(s.endswith(\"world\"))  # Output: True"
   ]
  },
  {
   "cell_type": "code",
   "execution_count": 64,
   "id": "517634fd-97ba-479b-be1b-d817cacfb372",
   "metadata": {},
   "outputs": [
    {
     "name": "stdout",
     "output_type": "stream",
     "text": [
      "hello   world\n"
     ]
    }
   ],
   "source": [
    "#expandtabs(tabsize=8)\n",
    "\n",
    "#Expands tabs in the string to multiple spaces.\n",
    "\n",
    "s = \"hello\\tworld\"\n",
    "print(s.expandtabs())  # Output: \"hello   world\""
   ]
  },
  {
   "cell_type": "code",
   "execution_count": 67,
   "id": "5820da8b-644b-4a1a-b1be-14f693236c72",
   "metadata": {},
   "outputs": [
    {
     "name": "stdout",
     "output_type": "stream",
     "text": [
      "6\n"
     ]
    }
   ],
   "source": [
    "#find(sub[, start[, end]])\n",
    "\n",
    "#Returns the lowest index in the string where substring sub is found, or -1 if not found.\n",
    "\n",
    "s = \"hello world\"\n",
    "print(s.find('world'))  # Output: 6"
   ]
  },
  {
   "cell_type": "code",
   "execution_count": 68,
   "id": "6bcf26a8-9766-46b2-9388-fb404823255d",
   "metadata": {},
   "outputs": [
    {
     "name": "stdout",
     "output_type": "stream",
     "text": [
      "My name is Alice and I am 30 years old.\n"
     ]
    }
   ],
   "source": [
    "#format(*args, **kwargs)\n",
    "\n",
    "#Formats the string into a nicer output, replacing {} placeholders with arguments.\n",
    "\n",
    "name = \"Alice\"\n",
    "age = 30\n",
    "print(\"My name is {} and I am {} years old.\".format(name, age))\n",
    "# Output: \"My name is Alice and I am 30 years old.\""
   ]
  },
  {
   "cell_type": "code",
   "execution_count": 69,
   "id": "e1b62fcf-6ba9-4f73-80ac-ec44067c652a",
   "metadata": {},
   "outputs": [
    {
     "name": "stdout",
     "output_type": "stream",
     "text": [
      "My name is Bob and I am 25 years old.\n"
     ]
    }
   ],
   "source": [
    "#format_map(mapping)\n",
    "\n",
    "#Similar to format(), but accepts a mapping (dictionary) instead of individual arguments.\n",
    "\n",
    "person = {'name': 'Bob', 'age': 25}\n",
    "print(\"My name is {name} and I am {age} years old.\".format_map(person))\n",
    "# Output: \"My name is Bob and I am 25 years old.\""
   ]
  },
  {
   "cell_type": "code",
   "execution_count": 71,
   "id": "f30e4b3d-00c3-4e0d-a247-e19ac0bf270c",
   "metadata": {},
   "outputs": [
    {
     "name": "stdout",
     "output_type": "stream",
     "text": [
      "8\n"
     ]
    }
   ],
   "source": [
    "#index(sub[, start[, end]])\n",
    "\n",
    "#Like find(), but raises ValueError if sub is not found.\n",
    "\n",
    "s = \"hello world\"\n",
    "print(s.index('r'))  # Output: 6"
   ]
  },
  {
   "cell_type": "code",
   "execution_count": 72,
   "id": "0312f160-7321-44c2-a9f6-7d2986e1f433",
   "metadata": {},
   "outputs": [
    {
     "name": "stdout",
     "output_type": "stream",
     "text": [
      "True\n"
     ]
    }
   ],
   "source": [
    "#isalnum()\n",
    "\n",
    "#Checks if all characters in the string are alphanumeric.\n",
    "\n",
    "s = \"hello123\"\n",
    "print(s.isalnum())  # Output: True"
   ]
  },
  {
   "cell_type": "code",
   "execution_count": 74,
   "id": "1a13e4c8-e650-4fa1-bda4-282c45c6e746",
   "metadata": {},
   "outputs": [
    {
     "name": "stdout",
     "output_type": "stream",
     "text": [
      "False\n"
     ]
    }
   ],
   "source": [
    "#isalpha()\n",
    "\n",
    "#Checks if all characters in the string are alphabetic.\n",
    "\n",
    "s = \"hello2\"\n",
    "print(s.isalpha())  # Output: True"
   ]
  },
  {
   "cell_type": "code",
   "execution_count": 80,
   "id": "7a06d36e-d81d-434b-962f-93da5dbb6085",
   "metadata": {},
   "outputs": [
    {
     "name": "stdout",
     "output_type": "stream",
     "text": [
      "True\n"
     ]
    }
   ],
   "source": [
    "#isascii()\n",
    "\n",
    "#Checks if the string is empty or contains only ASCII characters.\n",
    "\n",
    "s = \"hello\"\n",
    "print(s.isascii())  # Output: True"
   ]
  },
  {
   "cell_type": "code",
   "execution_count": 90,
   "id": "1038fc43-a785-42ef-9d99-c36b2b7d8c4f",
   "metadata": {},
   "outputs": [
    {
     "name": "stdout",
     "output_type": "stream",
     "text": [
      "True\n"
     ]
    }
   ],
   "source": [
    "#isdecimal()\n",
    "\n",
    "#Checks if all characters in the string are decimal (0-9).\n",
    "\n",
    "s = \"5\"\n",
    "print(s.isdecimal())  # Output: True"
   ]
  },
  {
   "cell_type": "code",
   "execution_count": 91,
   "id": "e6e0bc15-ffdc-49f9-99f6-9110b628a476",
   "metadata": {},
   "outputs": [
    {
     "name": "stdout",
     "output_type": "stream",
     "text": [
      "True\n"
     ]
    }
   ],
   "source": [
    "#isdigit()\n",
    "\n",
    "#Checks if all characters in the string are digits.\n",
    "\n",
    "s = \"12345\"\n",
    "print(s.isdigit())  # Output: True"
   ]
  },
  {
   "cell_type": "code",
   "execution_count": 97,
   "id": "83108409-da9e-4cd3-9b58-ad811f35a56f",
   "metadata": {},
   "outputs": [
    {
     "name": "stdout",
     "output_type": "stream",
     "text": [
      "True\n"
     ]
    }
   ],
   "source": [
    "#isidentifier()\n",
    "\n",
    "#Checks if the string is a valid Python identifier.\n",
    "\n",
    "s = \"hello\"\n",
    "print(s.isidentifier())  # Output: True"
   ]
  },
  {
   "cell_type": "code",
   "execution_count": 99,
   "id": "83c71209-4a16-457a-bc14-a1c0dc7b4f78",
   "metadata": {},
   "outputs": [
    {
     "name": "stdout",
     "output_type": "stream",
     "text": [
      "False\n"
     ]
    }
   ],
   "source": [
    "#islower()\n",
    "\n",
    "#Checks if all characters in the string are lowercase.\n",
    "\n",
    "s = \"heLlo\"\n",
    "print(s.islower())  # Output: True"
   ]
  },
  {
   "cell_type": "code",
   "execution_count": 101,
   "id": "18824257-885c-4bb1-a706-4dfb6ac7bf56",
   "metadata": {},
   "outputs": [
    {
     "name": "stdout",
     "output_type": "stream",
     "text": [
      "False\n"
     ]
    }
   ],
   "source": [
    "#isnumeric()\n",
    "\n",
    "#Checks if all characters in the string are numeric.\n",
    "\n",
    "s = \"12345.8\"\n",
    "print(s.isnumeric())  # Output: True"
   ]
  },
  {
   "cell_type": "code",
   "execution_count": 103,
   "id": "2c6a3a54-ee98-4a20-8dc4-1f60d96b9aea",
   "metadata": {},
   "outputs": [
    {
     "name": "stdout",
     "output_type": "stream",
     "text": [
      "True\n"
     ]
    }
   ],
   "source": [
    "#isprintable()\n",
    "\n",
    "#Checks if all characters in the string are printable.\n",
    "\n",
    "s = \"hello\\nworld\"\n",
    "print(s.isprintable())  # Output: False"
   ]
  },
  {
   "cell_type": "code",
   "execution_count": 104,
   "id": "d798aa3e-77d9-4bbc-87ac-9cc2e52174cb",
   "metadata": {},
   "outputs": [
    {
     "name": "stdout",
     "output_type": "stream",
     "text": [
      "True\n"
     ]
    }
   ],
   "source": [
    "#isspace()\n",
    "\n",
    "#Checks if all characters in the string are whitespace.\n",
    "\n",
    "s = \"   \"\n",
    "print(s.isspace())  # Output: True"
   ]
  },
  {
   "cell_type": "code",
   "execution_count": 107,
   "id": "f5501ad8-2b5d-4468-80e6-f34412f9e8d9",
   "metadata": {},
   "outputs": [
    {
     "name": "stdout",
     "output_type": "stream",
     "text": [
      "True\n"
     ]
    }
   ],
   "source": [
    "#istitle()\n",
    "\n",
    "#Checks if the string is titlecased (first character of each word is uppercase, others are lowercase).\n",
    "\n",
    "s = \"Hello World\"\n",
    "print(s.istitle())  # Output: True"
   ]
  },
  {
   "cell_type": "code",
   "execution_count": 109,
   "id": "c2efcb27-737a-41cc-b55b-67b5cd1cd131",
   "metadata": {},
   "outputs": [
    {
     "name": "stdout",
     "output_type": "stream",
     "text": [
      "False\n"
     ]
    }
   ],
   "source": [
    "#isupper()\n",
    "\n",
    "#Checks if all characters in the string are uppercase.\n",
    "\n",
    "s = \"HELlO\"\n",
    "print(s.isupper())  # Output: True"
   ]
  },
  {
   "cell_type": "code",
   "execution_count": 113,
   "id": "348f7571-02b8-4e98-9eb7-e11bdf0ad813",
   "metadata": {},
   "outputs": [
    {
     "name": "stdout",
     "output_type": "stream",
     "text": [
      "hello#world#py\n"
     ]
    }
   ],
   "source": [
    "#join(iterable)\n",
    "\n",
    "#Joins elements of iterable (like a list) into a single string with self as separator.\n",
    "\n",
    "words = ['hello', 'world', \"py\"]\n",
    "print('#'.join(words))  # Output: \"hello-world\""
   ]
  },
  {
   "cell_type": "code",
   "execution_count": 118,
   "id": "05958777-0251-44a4-8d07-7a2b02036e61",
   "metadata": {},
   "outputs": [
    {
     "name": "stdout",
     "output_type": "stream",
     "text": [
      "hello-----\n"
     ]
    }
   ],
   "source": [
    "#ljust(width[, fillchar])\n",
    "\n",
    "#Left justifies the string in a field of width width with optional fillchar.\n",
    "\n",
    "s = \"hello\"\n",
    "print(s.ljust(10, '-'))  # Output: \"hello-----\""
   ]
  },
  {
   "cell_type": "code",
   "execution_count": 119,
   "id": "5597f57d-4e6f-4b0b-8b0d-2d23499c503c",
   "metadata": {},
   "outputs": [
    {
     "name": "stdout",
     "output_type": "stream",
     "text": [
      "hello\n"
     ]
    }
   ],
   "source": [
    "#lower()\n",
    "\n",
    "#Converts all characters in the string to lowercase.\n",
    "\n",
    "s = \"HELLO\"\n",
    "print(s.lower())  # Output: \"hello\""
   ]
  },
  {
   "cell_type": "code",
   "execution_count": 120,
   "id": "d7743069-ce88-4a89-83b0-cd5364eaaefa",
   "metadata": {},
   "outputs": [
    {
     "name": "stdout",
     "output_type": "stream",
     "text": [
      "hello    \n"
     ]
    }
   ],
   "source": [
    "#lstrip([chars])\n",
    "\n",
    "#Removes leading whitespace or characters specified in chars.\n",
    "\n",
    "s = \"   hello    \"\n",
    "print(s.lstrip())  # Output: \"hello   \""
   ]
  },
  {
   "cell_type": "code",
   "execution_count": 123,
   "id": "0607d263-6220-4b9c-a97e-2b893820fba1",
   "metadata": {},
   "outputs": [
    {
     "name": "stdout",
     "output_type": "stream",
     "text": [
      "h2ll4\n"
     ]
    }
   ],
   "source": [
    "#maketrans(x[, y[, z]])\n",
    "\n",
    "#Creates a translation table usable for translate() from specified mapping arguments.\n",
    "\n",
    "intab = \"aeiou\"\n",
    "outtab = \"12345\"\n",
    "\n",
    "trans_table = str.maketrans(intab, outtab)\n",
    "s = \"hello\"\n",
    "print(s.translate(trans_table))  # Output: \"h2ll4\""
   ]
  },
  {
   "cell_type": "code",
   "execution_count": 125,
   "id": "f5418654-7f0c-4401-af74-fcb619122400",
   "metadata": {},
   "outputs": [
    {
     "name": "stdout",
     "output_type": "stream",
     "text": [
      "('hell', 'o', ' world')\n"
     ]
    }
   ],
   "source": [
    "#partition(sep)\n",
    "\n",
    "#Splits the string into a tuple (head, sep, tail) where sep is the first occurrence of sep.\n",
    "\n",
    "s = \"hello world\"\n",
    "print(s.partition('o'))  # Output: (\"hello\", \" \", \"world\")"
   ]
  },
  {
   "cell_type": "code",
   "execution_count": 128,
   "id": "57ed70f2-4031-45d7-abc8-70085c0d49ff",
   "metadata": {},
   "outputs": [
    {
     "name": "stdout",
     "output_type": "stream",
     "text": [
      "hello Python\n"
     ]
    }
   ],
   "source": [
    "#replace(old, new[, count])\n",
    "\n",
    "#Returns a copy of the string with all occurrences of substring old replaced by new.\n",
    "\n",
    "s = \"hello world\"\n",
    "print(s.replace('world', 'Python'))  # Output: \"hello python\""
   ]
  },
  {
   "cell_type": "code",
   "execution_count": 129,
   "id": "8a16899c-049e-473a-a14f-c2dc282e839f",
   "metadata": {},
   "outputs": [
    {
     "name": "stdout",
     "output_type": "stream",
     "text": [
      "12\n"
     ]
    }
   ],
   "source": [
    "#rfind(sub[, start[, end]])\n",
    "\n",
    "#Returns the highest index in the string where substring sub is found, or -1 if not found.\n",
    "\n",
    "s = \"hello hello hello\"\n",
    "print(s.rfind('hello'))  # Output: 12"
   ]
  },
  {
   "cell_type": "code",
   "execution_count": 134,
   "id": "a87f8227-76d1-46ac-b5e1-c67cb62a0e4f",
   "metadata": {},
   "outputs": [
    {
     "name": "stdout",
     "output_type": "stream",
     "text": [
      "9\n"
     ]
    }
   ],
   "source": [
    "#rindex(sub[, start[, end]])\n",
    "\n",
    "#Like rfind(), but raises ValueError if sub is not found.\n",
    "\n",
    "s = \"hello world\"\n",
    "print(s.rindex('l'))  # Output: 6"
   ]
  },
  {
   "cell_type": "code",
   "execution_count": 132,
   "id": "ebeb6676-82ab-4ba3-9f2e-daffa3f3353b",
   "metadata": {},
   "outputs": [
    {
     "name": "stdout",
     "output_type": "stream",
     "text": [
      "-----hello\n"
     ]
    }
   ],
   "source": [
    "#rjust(width[, fillchar])\n",
    "\n",
    "#Right justifies the string in a field of width width with optional fillchar.\n",
    "\n",
    "s = \"hello\"\n",
    "print(s.rjust(10, '-'))  # Output: \"-----hello\""
   ]
  },
  {
   "cell_type": "code",
   "execution_count": null,
   "id": "b6de24cc-79c2-4c5d-b266-a23467054464",
   "metadata": {},
   "outputs": [],
   "source": []
  }
 ],
 "metadata": {
  "kernelspec": {
   "display_name": "Python 3 (ipykernel)",
   "language": "python",
   "name": "python3"
  },
  "language_info": {
   "codemirror_mode": {
    "name": "ipython",
    "version": 3
   },
   "file_extension": ".py",
   "mimetype": "text/x-python",
   "name": "python",
   "nbconvert_exporter": "python",
   "pygments_lexer": "ipython3",
   "version": "3.11.7"
  }
 },
 "nbformat": 4,
 "nbformat_minor": 5
}
