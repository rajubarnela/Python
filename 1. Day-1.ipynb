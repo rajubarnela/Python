{
 "cells": [
  {
   "cell_type": "markdown",
   "id": "3d6c1ac2-c813-4258-b23d-20a6e38adecc",
   "metadata": {},
   "source": [
    "# Introduction:-"
   ]
  },
  {
   "cell_type": "code",
   "execution_count": 1,
   "id": "68744a19-77f0-4592-95e8-8159e4b6fba3",
   "metadata": {},
   "outputs": [],
   "source": [
    "# What is Python?\n",
    "\n",
    "# Python is a high-level, interpreted programming language known for its simplicity and readability. \n",
    "# It was created by Guido van Rossum and first released in 1991. Python emphasizes code readability with \n",
    "# its clear and expressive syntax, making it easier to write and maintain compared to many other languages."
   ]
  },
  {
   "cell_type": "markdown",
   "id": "43ecb94a-4a70-456d-b341-8a6f326f2a2b",
   "metadata": {},
   "source": [
    "## Why Python is Popular?\n",
    "\n",
    "\t\tPython's popularity stems from several key factors:\n",
    "\n",
    "\t\t1. **Simplicity and Ease of Learning:**\n",
    "\t\t   - Python is often praised for its simplicity and readability. Its syntax resembles pseudo-code, making it easy for beginners to grasp. This simplicity reduces the cost of program maintenance and development.\n",
    "\n",
    "\t\t2. **Versatility and Flexibility:**\n",
    "\t\t   - Python is a versatile language that can be used for a wide range of applications:\n",
    "\t\t\t - **Web Development:** Frameworks like Django and Flask are widely used for building web applications.\n",
    "\t\t\t - **Data Science and Machine Learning:** Libraries such as NumPy, Pandas, Matplotlib, and TensorFlow provide robust tools for data analysis, machine learning, and scientific computing.\n",
    "\t\t\t - **Automation and Scripting:** Python's ease of use makes it ideal for writing scripts to automate repetitive tasks.\n",
    "\t\t\t - **Desktop GUIs:** Libraries like Tkinter and PyQt allow developers to create desktop applications with graphical user interfaces.\n",
    "\t\t\t - **Game Development:** With libraries like Pygame, Python can be used for game development.\n",
    "\t\t\t - **Embedded Systems:** Python can also be used for programming microcontrollers and embedded systems.\n",
    "    3. **Large Standard Library and Third-Party Modules:**\r\n",
    "\t\t   - Python comes with a large standard library that provides a rich set of modules and packages, eliminating the need to write code for common tasks from scratch. Additionally, there is a vast ecosystem of third-party libraries and frameworks maintained by the Python community.\r\n",
    "\r\n",
    "\t\t4. **Community and Support:**\r\n",
    "\t\t   - Python has a large and active community of developers, enthusiasts, and contributors. This community contributes to the continuous improvement of the language by developing new libraries, sharing knowledge, and providing support through forums, conferences, and online communities.\r\n",
    "\r\n",
    "\t\t5. **Career Opportunities:**\r\n",
    "\t\t   - Python's versatility and widespread adoption have led to an increasing demand for Python developers across various industries. Learning Python opens up opportunities in software development, data analysis, machine learning, web development, and more.\r\n",
    "\r\n",
    "\t\t6. **Adoption by Tech Giants:**\r\n",
    "\t\t   - Many tech giants like Google, Facebook, Instagram, Dropbox, and Spotify use Python extensively for various purposes, showcasing its scalability and reliability.\r\n",
    "\n"
   ]
  },
  {
   "cell_type": "markdown",
   "id": "44d5222e-3819-4148-9141-9a62bda641d4",
   "metadata": {},
   "source": [
    "# DataTypes:-"
   ]
  },
  {
   "cell_type": "markdown",
   "id": "2489f867-13af-4c60-b093-00c539351641",
   "metadata": {},
   "source": [
    "Python supports several built-in data types that are fundamental to programming. Each data type has specific characteristics and uses. Here’s a detailed overview of Python's main data types with practical examples:\n"
   ]
  },
  {
   "cell_type": "markdown",
   "id": "672ea66a-e093-4f9e-8842-1ff5cf150246",
   "metadata": {},
   "source": [
    "#1. Numeric Types\n",
    "\t\ta. Integer (int)\n",
    "\t\tIntegers are whole numbers without a fractional part."
   ]
  },
  {
   "cell_type": "code",
   "execution_count": 4,
   "id": "610699e2-c46b-4d88-9f65-897c59652854",
   "metadata": {},
   "outputs": [],
   "source": [
    "age = 25\n",
    "count = -10"
   ]
  },
  {
   "cell_type": "code",
   "execution_count": 5,
   "id": "aaf22f82-29db-4980-9363-0be827fda5c6",
   "metadata": {},
   "outputs": [
    {
     "data": {
      "text/plain": [
       "25"
      ]
     },
     "execution_count": 5,
     "metadata": {},
     "output_type": "execute_result"
    }
   ],
   "source": [
    "age"
   ]
  },
  {
   "cell_type": "code",
   "execution_count": 6,
   "id": "88f25397-9896-480b-a94c-c19a08313228",
   "metadata": {},
   "outputs": [
    {
     "name": "stdout",
     "output_type": "stream",
     "text": [
      "-10\n"
     ]
    }
   ],
   "source": [
    "print(count)"
   ]
  },
  {
   "cell_type": "code",
   "execution_count": 7,
   "id": "a606df75-579c-4066-83e8-a2425bac646e",
   "metadata": {},
   "outputs": [
    {
     "data": {
      "text/plain": [
       "int"
      ]
     },
     "execution_count": 7,
     "metadata": {},
     "output_type": "execute_result"
    }
   ],
   "source": [
    "type(age)"
   ]
  },
  {
   "cell_type": "code",
   "execution_count": 8,
   "id": "f9f49ba2-7b15-4853-8ce2-e32eb7132a17",
   "metadata": {},
   "outputs": [],
   "source": [
    "# b. Float (float)\n",
    "\t\t#Floats represent real numbers and include a decimal point.\n",
    "# Example of floats\n",
    "height = 5.8\n",
    "pi = 3.14159"
   ]
  },
  {
   "cell_type": "code",
   "execution_count": 9,
   "id": "956ec849-eedf-481b-84a3-643b476ec3bd",
   "metadata": {},
   "outputs": [
    {
     "data": {
      "text/plain": [
       "float"
      ]
     },
     "execution_count": 9,
     "metadata": {},
     "output_type": "execute_result"
    }
   ],
   "source": [
    "type(pi)"
   ]
  },
  {
   "cell_type": "code",
   "execution_count": 10,
   "id": "9576f056-738b-47d1-aa69-1e627348e25a",
   "metadata": {},
   "outputs": [
    {
     "data": {
      "text/plain": [
       "3.14159"
      ]
     },
     "execution_count": 10,
     "metadata": {},
     "output_type": "execute_result"
    }
   ],
   "source": [
    "pi"
   ]
  },
  {
   "cell_type": "code",
   "execution_count": 11,
   "id": "bcd5a8e0-0ec0-4cd3-b3f8-c41afd891a5a",
   "metadata": {},
   "outputs": [
    {
     "name": "stdout",
     "output_type": "stream",
     "text": [
      "3.14159\n"
     ]
    }
   ],
   "source": [
    "print(pi)"
   ]
  },
  {
   "cell_type": "code",
   "execution_count": 12,
   "id": "6ceac97e-a7d2-40e6-930a-a523d91b4183",
   "metadata": {},
   "outputs": [],
   "source": [
    "#c. Complex (complex)\n",
    "\t\t#Complex numbers have a real and imaginary part.\n",
    "\t\t# Example of complex numbers\n",
    "z = 3 + 4j"
   ]
  },
  {
   "cell_type": "code",
   "execution_count": 14,
   "id": "8da689d5-58e9-44db-86c9-01295d990e6b",
   "metadata": {},
   "outputs": [],
   "source": [
    "#2. Sequence Types\n",
    "\t\t#a. String (str)\n",
    "\t\t#Strings are sequences of characters enclosed in quotes (single, double, or triple).\n",
    "\t\t# Example of strings\n",
    "name = \"Alice\"\n",
    "message = 'Hello, World!'\n",
    "multiline_string = \"\"\"\n",
    "\t\t       Hello,\n",
    "\t\t       Python!\n",
    "\t\t            \"\"\""
   ]
  },
  {
   "cell_type": "code",
   "execution_count": 15,
   "id": "c263c471-26df-4243-8720-eb779dcd53a1",
   "metadata": {},
   "outputs": [
    {
     "data": {
      "text/plain": [
       "'Alice'"
      ]
     },
     "execution_count": 15,
     "metadata": {},
     "output_type": "execute_result"
    }
   ],
   "source": [
    "name"
   ]
  },
  {
   "cell_type": "code",
   "execution_count": 16,
   "id": "e0098ab9-677e-46b5-b377-ec5256bfa21b",
   "metadata": {},
   "outputs": [
    {
     "data": {
      "text/plain": [
       "'Hello, World!'"
      ]
     },
     "execution_count": 16,
     "metadata": {},
     "output_type": "execute_result"
    }
   ],
   "source": [
    "message"
   ]
  },
  {
   "cell_type": "code",
   "execution_count": 17,
   "id": "55406b98-92cf-40df-8bd5-7697bef34f2d",
   "metadata": {},
   "outputs": [
    {
     "data": {
      "text/plain": [
       "'\\n\\t\\t       Hello,\\n\\t\\t       Python!\\n\\t\\t            '"
      ]
     },
     "execution_count": 17,
     "metadata": {},
     "output_type": "execute_result"
    }
   ],
   "source": [
    "multiline_string"
   ]
  },
  {
   "cell_type": "code",
   "execution_count": 19,
   "id": "88513f7b-3d4a-4e09-8a6e-c0a9c90e973a",
   "metadata": {},
   "outputs": [],
   "source": [
    "multi = \"\"\"Python's versatility and widespread adoption have led to an increasing demand for\n",
    "Python developers across various industries. Learning Python opens up opportunities in software development, \n",
    "data analysis, machine learning, web development, and more.\"\"\""
   ]
  },
  {
   "cell_type": "code",
   "execution_count": 20,
   "id": "9d702e49-9b65-4662-98a4-625edeefd5ac",
   "metadata": {},
   "outputs": [
    {
     "data": {
      "text/plain": [
       "\"Python's versatility and widespread adoption have led to an increasing demand for\\nPython developers across various industries. Learning Python opens up opportunities in software development, \\ndata analysis, machine learning, web development, and more.\""
      ]
     },
     "execution_count": 20,
     "metadata": {},
     "output_type": "execute_result"
    }
   ],
   "source": [
    "multi"
   ]
  },
  {
   "cell_type": "code",
   "execution_count": 22,
   "id": "d9913935-233e-4e75-aa78-cfce220ba803",
   "metadata": {},
   "outputs": [],
   "source": [
    "#b. List (list)\n",
    "\t\t#Lists are ordered collections of items. They are mutable (changeable) and can contain elements of different data types.\n",
    "\n",
    "\t\t# Example of lists\n",
    "fruits = [\"apple\", \"banana\", \"cherry\"]\n",
    "numbers = [1, 2, 3, 4, 5]\n",
    "mixed_list = [1, \"apple\", True]"
   ]
  },
  {
   "cell_type": "code",
   "execution_count": 23,
   "id": "e66b2a1a-c879-471f-8184-b6be48166bd2",
   "metadata": {},
   "outputs": [
    {
     "data": {
      "text/plain": [
       "['apple', 'banana', 'cherry']"
      ]
     },
     "execution_count": 23,
     "metadata": {},
     "output_type": "execute_result"
    }
   ],
   "source": [
    "fruits"
   ]
  },
  {
   "cell_type": "code",
   "execution_count": 24,
   "id": "6e51efd1-df8e-4ce8-bab9-199af1d496b1",
   "metadata": {},
   "outputs": [],
   "source": [
    "#c. Tuple (tuple)\n",
    "\t\t#Tuples are ordered collections of items similar to lists, but they are immutable (unchangeable).\n",
    "\t \n",
    " # Example of tuples\n",
    "coordinates = (3, 4)\n",
    "colors = ('red', 'green', 'blue')"
   ]
  },
  {
   "cell_type": "code",
   "execution_count": 25,
   "id": "e48c14c9-ffc8-4c1e-9b25-69ece28a55e1",
   "metadata": {},
   "outputs": [
    {
     "data": {
      "text/plain": [
       "('red', 'green', 'blue')"
      ]
     },
     "execution_count": 25,
     "metadata": {},
     "output_type": "execute_result"
    }
   ],
   "source": [
    "colors"
   ]
  },
  {
   "cell_type": "code",
   "execution_count": 26,
   "id": "30cb487d-e3c0-4e25-9c61-4bda95443679",
   "metadata": {},
   "outputs": [],
   "source": [
    "#3. Mapping Type\n",
    "\t\t#Dictionary (dict)\n",
    "\t\t#Dictionaries store key-value pairs. Keys must be unique within a dictionary, and they are mutable.\n",
    "# Example of dictionaries\n",
    "person = {\"name\": \"Alice\", \"age\": 25, \"city\": \"New York\"}"
   ]
  },
  {
   "cell_type": "code",
   "execution_count": 27,
   "id": "0c5de73c-c083-400e-a4d5-a4e14d0aadd4",
   "metadata": {},
   "outputs": [
    {
     "data": {
      "text/plain": [
       "{'name': 'Alice', 'age': 25, 'city': 'New York'}"
      ]
     },
     "execution_count": 27,
     "metadata": {},
     "output_type": "execute_result"
    }
   ],
   "source": [
    "person"
   ]
  },
  {
   "cell_type": "code",
   "execution_count": 30,
   "id": "9cb8354c-9a0f-4297-a162-3dcda43a8cc9",
   "metadata": {},
   "outputs": [],
   "source": [
    "#4. Set Types\n",
    "\t\t#Set (set)\n",
    "\t\t#Sets are unordered collections of unique items. They are mutable but do not allow duplicate elements.\n",
    "\n",
    "\t\t \n",
    "# Example of sets\n",
    "unique_numbers = {1, 2, 3, 4, 5,5,5}"
   ]
  },
  {
   "cell_type": "code",
   "execution_count": 31,
   "id": "f131033a-2d21-48cd-987b-ba057f300bf3",
   "metadata": {},
   "outputs": [
    {
     "data": {
      "text/plain": [
       "{1, 2, 3, 4, 5}"
      ]
     },
     "execution_count": 31,
     "metadata": {},
     "output_type": "execute_result"
    }
   ],
   "source": [
    "unique_numbers"
   ]
  },
  {
   "cell_type": "code",
   "execution_count": 32,
   "id": "5c726b93-d064-4f84-ba11-11c1fd0500bd",
   "metadata": {},
   "outputs": [],
   "source": [
    "#5. Boolean Type\n",
    "\t\t#Boolean (bool)\n",
    "\t\t#Booleans represent truth values. They can be True or False.\n",
    "\n",
    "# Example of booleans\n",
    "is_student = True\n",
    "is_adult = False\n",
    "#Practical Example:\n",
    "\t\t#Let's use these data types in a practical example to showcase their usage:\n",
    "# Define variables of different data types\n",
    "name = \"Alice\"  # string\n",
    "age = 25  # integer\n",
    "height = 5.8  # float\n",
    "coordinates = (3, 4)  # tuple\n",
    "grades = {\"Math\": 85, \"Science\": 90, \"History\": 88}  # dictionary"
   ]
  },
  {
   "cell_type": "code",
   "execution_count": 36,
   "id": "deb64feb-750e-46d7-b254-8efdc594e5e3",
   "metadata": {},
   "outputs": [
    {
     "name": "stdout",
     "output_type": "stream",
     "text": [
      "Student Name: Alice\n",
      "Age: 25\n",
      "Height: 5.8 feet\n",
      "Coordinates: (3, 4)\n",
      "Grades: {'Math': 85, 'Science': 90, 'History': 88}\n"
     ]
    }
   ],
   "source": [
    "# Print information using these variables\n",
    "print(f\"Student Name: {name}\")\n",
    "print(f\"Age: {age}\")\n",
    "print(f\"Height: {height} feet\")\n",
    "print(f\"Coordinates: {coordinates}\")\n",
    "print(\"Grades:\", grades)"
   ]
  },
  {
   "cell_type": "markdown",
   "id": "4adfbc77-8900-444e-814b-511bdae8d0bf",
   "metadata": {},
   "source": [
    "name is a string.\n",
    "\t\tage is an integer.\n",
    "\t\theight is a float.\n",
    "\t\tcoordinates is a tuple.\n",
    "\t\tgrades is a dictionary.\n",
    "\t\tUnderstanding and utilizing these data types effectively is essential for manipulating data and building more complex programs in Python. Each type serves specific purposes and provides different methods and operations for handling and manipulating data.\n",
    "\t\t"
   ]
  },
  {
   "cell_type": "markdown",
   "id": "51fc26e7-129a-4214-a1a3-781ac51e437b",
   "metadata": {},
   "source": [
    "# Arithmetic Operator:-"
   ]
  },
  {
   "cell_type": "code",
   "execution_count": 37,
   "id": "267edaf5-72a0-4698-a932-c1b27c3460ce",
   "metadata": {},
   "outputs": [
    {
     "name": "stdout",
     "output_type": "stream",
     "text": [
      "15\n"
     ]
    }
   ],
   "source": [
    "### 1. Addition (`+`)\n",
    "#The addition operator adds two operands.\n",
    " \n",
    "a = 10\n",
    "b = 5\n",
    "result = a + b  # 10 + 5 = 15\n",
    "print(result)  # Output: 15 "
   ]
  },
  {
   "cell_type": "code",
   "execution_count": 39,
   "id": "0ccc12c0-91dc-4a24-8d22-374cab218f3e",
   "metadata": {},
   "outputs": [
    {
     "name": "stdout",
     "output_type": "stream",
     "text": [
      "5\n"
     ]
    }
   ],
   "source": [
    "### 2. Subtraction (`-`)\n",
    "\n",
    "\t\t#The subtraction operator subtracts the right operand from the left operand.\n",
    "\n",
    "\t\n",
    "a = 10\n",
    "b = 5\n",
    "result = a - b  # 10 - 5 = 5\n",
    "print(result)  # Output: 5"
   ]
  },
  {
   "cell_type": "code",
   "execution_count": 40,
   "id": "056a885c-cb2c-4939-9f4a-d5057c4b4f70",
   "metadata": {},
   "outputs": [
    {
     "name": "stdout",
     "output_type": "stream",
     "text": [
      "50\n"
     ]
    }
   ],
   "source": [
    "### 3. Multiplication (`*`)\n",
    "\n",
    "\t\t#The multiplication operator multiplies two operands.\n",
    "a = 10\n",
    "b = 5\n",
    "result = a * b  # 10 * 5 = 50\n",
    "print(result)  # Output: 50"
   ]
  },
  {
   "cell_type": "code",
   "execution_count": 41,
   "id": "56f394fc-bb21-4a14-ab73-55969f481e81",
   "metadata": {},
   "outputs": [
    {
     "name": "stdout",
     "output_type": "stream",
     "text": [
      "2.0\n"
     ]
    }
   ],
   "source": [
    "### 4. Division (`/`)\n",
    "\n",
    "\t\t#The division operator divides the left operand by the right operand and returns a floating-point number.\n",
    "a = 10\n",
    "b = 5\n",
    "result = a / b  # 10 / 5 = 2.0\n",
    "print(result)  # Output: 2.0"
   ]
  },
  {
   "cell_type": "code",
   "execution_count": 42,
   "id": "a30d1131-5f39-4748-b860-661843e00653",
   "metadata": {},
   "outputs": [
    {
     "name": "stdout",
     "output_type": "stream",
     "text": [
      "3\n"
     ]
    }
   ],
   "source": [
    "### 5. Floor Division (`//`)\n",
    "\n",
    "\t\t#The floor division operator divides the left operand by the right operand and returns the largest integer less than or equal to the result.\n",
    "\t \n",
    "a = 10\n",
    "b = 3\n",
    "result = a // b  # 10 // 3 = 3\n",
    "print(result)  # Output: 3"
   ]
  },
  {
   "cell_type": "code",
   "execution_count": 43,
   "id": "3aa72c82-48fc-46a4-b8a5-19cc9a5a7a47",
   "metadata": {},
   "outputs": [
    {
     "data": {
      "text/plain": [
       "3.3333333333333335"
      ]
     },
     "execution_count": 43,
     "metadata": {},
     "output_type": "execute_result"
    }
   ],
   "source": [
    "10/3"
   ]
  },
  {
   "cell_type": "code",
   "execution_count": 44,
   "id": "e8a2cb4c-4eb9-4d54-aff9-a782cacaee14",
   "metadata": {},
   "outputs": [
    {
     "data": {
      "text/plain": [
       "3"
      ]
     },
     "execution_count": 44,
     "metadata": {},
     "output_type": "execute_result"
    }
   ],
   "source": [
    "10//3"
   ]
  },
  {
   "cell_type": "code",
   "execution_count": 45,
   "id": "0c2f32df-a3ba-498c-82fe-cbc1893d4cc2",
   "metadata": {},
   "outputs": [
    {
     "data": {
      "text/plain": [
       "4.4"
      ]
     },
     "execution_count": 45,
     "metadata": {},
     "output_type": "execute_result"
    }
   ],
   "source": [
    "22/5"
   ]
  },
  {
   "cell_type": "code",
   "execution_count": 46,
   "id": "181cc666-a66a-487b-88fc-fee1fbf1e1a5",
   "metadata": {},
   "outputs": [
    {
     "data": {
      "text/plain": [
       "4"
      ]
     },
     "execution_count": 46,
     "metadata": {},
     "output_type": "execute_result"
    }
   ],
   "source": [
    "22//5"
   ]
  },
  {
   "cell_type": "code",
   "execution_count": 47,
   "id": "0c36f5cd-a59c-4446-817e-fa196fb5a714",
   "metadata": {},
   "outputs": [
    {
     "name": "stdout",
     "output_type": "stream",
     "text": [
      "1\n"
     ]
    }
   ],
   "source": [
    "### 6. Modulus (`%`)\n",
    "\n",
    "\t\t#The modulus operator returns the remainder of the division of the left operand by the right operand.\n",
    "\n",
    "a = 10\n",
    "b = 3\n",
    "result = a % b  # 10 % 3 = 1\n",
    "print(result)  # Output: 1"
   ]
  },
  {
   "cell_type": "code",
   "execution_count": 48,
   "id": "434d68a9-1a52-46a2-b587-5a8fb842ff87",
   "metadata": {},
   "outputs": [
    {
     "name": "stdout",
     "output_type": "stream",
     "text": [
      "8\n"
     ]
    }
   ],
   "source": [
    "### 7. Exponentiation (`**`)\n",
    "\n",
    "\t\t#The exponentiation operator raises the left operand to the power of the right operand.\n",
    "a = 2\n",
    "b = 3\n",
    "result = a ** b  # 2 ** 3 = 8\n",
    "print(result)  # Output: 8"
   ]
  },
  {
   "cell_type": "code",
   "execution_count": 49,
   "id": "4382c7c0-8a84-4d84-ba57-b60575ac5d96",
   "metadata": {},
   "outputs": [],
   "source": [
    "### Example: Combined Use of Arithmetic Operators\n",
    "\n",
    "# Combined use of arithmetic operators\n",
    "a = 15\n",
    "b = 4\n",
    "\n",
    "addition = a + b       # 15 + 4 = 19\n",
    "subtraction = a - b    # 15 - 4 = 11\n",
    "multiplication = a * b # 15 * 4 = 60\n",
    "division = a / b       # 15 / 4 = 3.75\n",
    "floor_division = a // b# 15 // 4 = 3\n",
    "modulus = a % b        # 15 % 4 = 3\n",
    "exponentiation = a ** b# 15 ** 4 = 50625"
   ]
  },
  {
   "cell_type": "code",
   "execution_count": 50,
   "id": "d47f443d-bd15-498e-9510-89e783cb9ef8",
   "metadata": {},
   "outputs": [
    {
     "name": "stdout",
     "output_type": "stream",
     "text": [
      "Addition: 19\n",
      "Subtraction: 11\n",
      "Multiplication: 60\n",
      "Division: 3.75\n",
      "Floor Division: 3\n",
      "Modulus: 3\n",
      "Exponentiation: 50625\n"
     ]
    }
   ],
   "source": [
    "# Print results\n",
    "print(f\"Addition: {addition}\")\n",
    "print(f\"Subtraction: {subtraction}\")\n",
    "print(f\"Multiplication: {multiplication}\")\n",
    "print(f\"Division: {division}\")\n",
    "print(f\"Floor Division: {floor_division}\")\n",
    "print(f\"Modulus: {modulus}\")\n",
    "print(f\"Exponentiation: {exponentiation}\")"
   ]
  },
  {
   "cell_type": "code",
   "execution_count": 58,
   "id": "dcd5163f-4ba5-4652-a39d-e7e36dd031be",
   "metadata": {},
   "outputs": [
    {
     "name": "stdout",
     "output_type": "stream",
     "text": [
      "19   11   60   3.75   3   3   50625\n"
     ]
    }
   ],
   "source": [
    "print(addition,\" \", subtraction,\" \",multiplication,\" \",division,\" \",floor_division, \" \",modulus,\" \",exponentiation)"
   ]
  },
  {
   "cell_type": "code",
   "execution_count": 54,
   "id": "8c967624-4777-43cd-a82f-1e36a3b32f48",
   "metadata": {},
   "outputs": [
    {
     "name": "stdout",
     "output_type": "stream",
     "text": [
      "add 19, sub 11\n"
     ]
    }
   ],
   "source": [
    "print(f\"add {addition}, sub {subtraction}\")"
   ]
  },
  {
   "cell_type": "markdown",
   "id": "9cdda0bb-01b4-4759-847a-865d188a3b24",
   "metadata": {},
   "source": [
    "## Comparison operators:- \n",
    "\n",
    "\t\tComparison operators in Python are used to compare two values or expressions. They return a Boolean value (`True` or `False`) based on whether the comparison is true or false. Here's an overview of the comparison operators in Python:\n"
   ]
  },
  {
   "cell_type": "code",
   "execution_count": 59,
   "id": "8a670a61-5632-411d-8174-42a438378505",
   "metadata": {},
   "outputs": [
    {
     "name": "stdout",
     "output_type": "stream",
     "text": [
      "True\n"
     ]
    }
   ],
   "source": [
    "### 1. Equal to (`==`)\n",
    "\n",
    "\t\t#The equal to operator checks if two operands are equal.\n",
    "a = 5\n",
    "b = 5\n",
    "result = a == b  # True\n",
    "print(result)  # Output: True"
   ]
  },
  {
   "cell_type": "code",
   "execution_count": 60,
   "id": "9710fbe9-a4f5-47dd-951e-809ada46c8c8",
   "metadata": {},
   "outputs": [
    {
     "name": "stdout",
     "output_type": "stream",
     "text": [
      "True\n"
     ]
    }
   ],
   "source": [
    "### 2. Not equal to (`!=`)\n",
    "\n",
    "\t\t#The not equal to operator checks if two operands are not equal.\n",
    "\n",
    "a = 5\n",
    "b = 3\n",
    "result = a != b  # True\n",
    "print(result)  # Output: True"
   ]
  },
  {
   "cell_type": "code",
   "execution_count": 61,
   "id": "08e9cd47-1ecf-4e35-b163-eacfaa74d9ff",
   "metadata": {},
   "outputs": [
    {
     "name": "stdout",
     "output_type": "stream",
     "text": [
      "True\n"
     ]
    }
   ],
   "source": [
    "### 3. Greater than (`>`)\n",
    "\n",
    "\t\t#The greater than operator checks if the left operand is greater than the right operand.\n",
    "\n",
    "a = 5\n",
    "b = 3\n",
    "result = a > b  # True\n",
    "print(result)  # Output: True"
   ]
  },
  {
   "cell_type": "code",
   "execution_count": 62,
   "id": "1a547ef4-2880-47ea-af00-57b88e0552b4",
   "metadata": {},
   "outputs": [
    {
     "name": "stdout",
     "output_type": "stream",
     "text": [
      "True\n"
     ]
    }
   ],
   "source": [
    "### 4. Less than (`<`)\n",
    "\n",
    "\t\t#The less than operator checks if the left operand is less than the right operand.\n",
    "\n",
    "a = 3\n",
    "b = 5\n",
    "result = a < b  # True\n",
    "print(result)  # Output: True"
   ]
  },
  {
   "cell_type": "code",
   "execution_count": 63,
   "id": "ef7ae77e-7e79-437d-af8f-226b50ebd7b0",
   "metadata": {},
   "outputs": [
    {
     "data": {
      "text/plain": [
       "False"
      ]
     },
     "execution_count": 63,
     "metadata": {},
     "output_type": "execute_result"
    }
   ],
   "source": [
    "a>b"
   ]
  },
  {
   "cell_type": "code",
   "execution_count": 64,
   "id": "62fa8c26-4dab-487a-a2ef-9c23e65712e7",
   "metadata": {},
   "outputs": [
    {
     "name": "stdout",
     "output_type": "stream",
     "text": [
      "True\n"
     ]
    }
   ],
   "source": [
    "### 5. Greater than or equal to (`>=`)\n",
    "\n",
    "\t\t#The greater than or equal to operator checks if the left operand is greater than or equal to the right operand.\n",
    "\n",
    "a = 5\n",
    "b = 5\n",
    "result = a >= b  # True\n",
    "print(result)  # Output: True"
   ]
  },
  {
   "cell_type": "code",
   "execution_count": 69,
   "id": "a5877c12-390f-46ba-bcc0-17d1ab376d9d",
   "metadata": {},
   "outputs": [
    {
     "name": "stdout",
     "output_type": "stream",
     "text": [
      "True\n"
     ]
    }
   ],
   "source": [
    "### 6. Less than or equal to (`<=`)\n",
    "\n",
    "\t\t#The less than or equal to operator checks if the left operand is less than or equal to the right operand.\n",
    "a =3\n",
    "b = 5\n",
    "result = a <= b  # True\n",
    "print(result)  # Output: True"
   ]
  },
  {
   "cell_type": "code",
   "execution_count": 70,
   "id": "51352222-5c64-4992-bdfe-a7f4a62c70b4",
   "metadata": {},
   "outputs": [
    {
     "name": "stdout",
     "output_type": "stream",
     "text": [
      "Equal: False\n",
      "Not Equal: True\n",
      "Greater Than: True\n",
      "Less Than: False\n",
      "Greater Than or Equal: True\n",
      "Less Than or Equal: False\n"
     ]
    }
   ],
   "source": [
    "### Example: Combined Use of Comparison Operators\n",
    "# Combined use of comparison operators\n",
    "x = 10\n",
    "y = 5\n",
    "\n",
    "equal = x == y            # False\n",
    "not_equal = x != y        # True\n",
    "greater_than = x > y      # True\n",
    "less_than = x < y         # False\n",
    "greater_than_or_equal = x >= y  # True\n",
    "less_than_or_equal = x <= y     # False\n",
    "\n",
    "# Print results\n",
    "print(f\"Equal: {equal}\")\n",
    "print(f\"Not Equal: {not_equal}\")\n",
    "print(f\"Greater Than: {greater_than}\")\n",
    "print(f\"Less Than: {less_than}\")\n",
    "print(f\"Greater Than or Equal: {greater_than_or_equal}\")\n",
    "print(f\"Less Than or Equal: {less_than_or_equal}\")"
   ]
  },
  {
   "cell_type": "code",
   "execution_count": 71,
   "id": "7983f38b-32db-4b45-a918-6262375aca68",
   "metadata": {},
   "outputs": [],
   "source": [
    "### 7. Chained Comparison Operators\n",
    "\n",
    "\t\t#Python allows chaining of comparison operators for more complex comparisons.\n",
    "\n",
    "x = 5\n",
    "y = 10\n",
    "z = 15"
   ]
  },
  {
   "cell_type": "code",
   "execution_count": 72,
   "id": "54dcc355-61c0-4d00-9dba-0a474ae8c56f",
   "metadata": {},
   "outputs": [
    {
     "name": "stdout",
     "output_type": "stream",
     "text": [
      "True\n"
     ]
    }
   ],
   "source": [
    "# Chained comparisons\n",
    "result = x < y < z  # True because x < y and y < z\n",
    "print(result)  # Output: True\n"
   ]
  },
  {
   "cell_type": "code",
   "execution_count": 73,
   "id": "0d51e19b-442b-43aa-ad4a-ad4ce0762031",
   "metadata": {},
   "outputs": [
    {
     "name": "stdout",
     "output_type": "stream",
     "text": [
      "False\n",
      "False\n"
     ]
    }
   ],
   "source": [
    "result = x < y > z  # False because y is not greater than both x and z\n",
    "print(result)  # Output: False\n",
    "\n",
    "result = x == y == z  # False because x is not equal to y and y is not equal to z\n",
    "print(result)  # Output: False"
   ]
  },
  {
   "cell_type": "code",
   "execution_count": 74,
   "id": "128db54b-a160-493b-905f-1160fd02e089",
   "metadata": {},
   "outputs": [],
   "source": [
    "### 8. Comparisons with Strings\n",
    "\n",
    "\t\t#Comparison operators can also be used with strings in Python. The comparison is lexicographical (alphabetical) order.\n"
   ]
  },
  {
   "cell_type": "code",
   "execution_count": 75,
   "id": "fe601d51-bc7a-440c-b6a8-c1f8e398007a",
   "metadata": {},
   "outputs": [
    {
     "name": "stdout",
     "output_type": "stream",
     "text": [
      "True\n",
      "False\n"
     ]
    }
   ],
   "source": [
    "str1 = \"apple\"\n",
    "str2 = \"banana\"\n",
    "\n",
    "result = str1 < str2  # True because 'a' comes before 'b' in alphabetical order\n",
    "print(result)  # Output: True\n",
    "\n",
    "result = str1 == str2  # False because 'apple' is not equal to 'banana'\n",
    "print(result)  # Output: False"
   ]
  },
  {
   "cell_type": "code",
   "execution_count": 76,
   "id": "b7c7e9c8-e1e8-49c0-9b24-9762f2afbd1b",
   "metadata": {},
   "outputs": [
    {
     "name": "stdout",
     "output_type": "stream",
     "text": [
      "True\n"
     ]
    }
   ],
   "source": [
    "### 9. Comparison with Different Data Types\n",
    "\n",
    "\t\t#Python's dynamic typing allows comparison operators to work with different data types, though results can vary depending on the types involved.\n",
    "\n",
    "# Comparing integer with float\n",
    "num_int = 5\n",
    "num_float = 5.0\n",
    "\n",
    "result = num_int == num_float  # True because 5 is equal to 5.0 (different types but same value)\n",
    "print(result)  # Output: True"
   ]
  },
  {
   "cell_type": "code",
   "execution_count": 77,
   "id": "caf8b00e-e10e-48dc-b26c-182760f3f16c",
   "metadata": {},
   "outputs": [
    {
     "name": "stdout",
     "output_type": "stream",
     "text": [
      "False\n"
     ]
    }
   ],
   "source": [
    "# Comparing different types\n",
    "str_val = \"5\"\n",
    "result = num_int == str_val  # False because integer 5 is not equal to string '5'\n",
    "print(result)  # Output: False"
   ]
  },
  {
   "cell_type": "code",
   "execution_count": 78,
   "id": "ab50d588-9680-4987-9af2-2e9ea8abd1a9",
   "metadata": {},
   "outputs": [
    {
     "name": "stdout",
     "output_type": "stream",
     "text": [
      "Number is non-zero and evaluates to True\n"
     ]
    }
   ],
   "source": [
    "### 10. Truth Value Testing\n",
    "\n",
    "\t\t#In Python, objects have associated truth values. For example, any non-zero number or non-empty container (like lists, tuples, dictionaries, etc.) is considered `True` when used in a Boolean context with comparison operators.\n",
    "\n",
    "num = 5\n",
    "if num:\n",
    "    print(\"Number is non-zero and evaluates to True\")\n"
   ]
  },
  {
   "cell_type": "code",
   "execution_count": 79,
   "id": "985ba1e5-b464-4702-9750-8ac01d101bd1",
   "metadata": {},
   "outputs": [
    {
     "name": "stdout",
     "output_type": "stream",
     "text": [
      "List is not empty and evaluates to True\n"
     ]
    }
   ],
   "source": [
    "# Example with lists\n",
    "my_list = [1, 2, 3]\n",
    "if my_list:\n",
    "    print(\"List is not empty and evaluates to True\")"
   ]
  },
  {
   "cell_type": "code",
   "execution_count": 80,
   "id": "6744eb29-b057-48fd-acd0-3df6a5c519a0",
   "metadata": {},
   "outputs": [
    {
     "name": "stdout",
     "output_type": "stream",
     "text": [
      "True\n",
      "False\n",
      "True\n"
     ]
    }
   ],
   "source": [
    "a = [1, 2, 3]\n",
    "b = [1, 2, 3]\n",
    "\n",
    "result = a == b   # True because the contents are the same\n",
    "print(result)     # Output: True\n",
    "\n",
    "result = a is b   # False because a and b are different objects in memory\n",
    "print(result)     # Output: False\n",
    "\n",
    "result = a is not b   # True because a and b are different objects\n",
    "print(result)     # Output: True"
   ]
  },
  {
   "cell_type": "code",
   "execution_count": 81,
   "id": "55292faa-a756-4d52-a2b6-a756b9cb90a1",
   "metadata": {},
   "outputs": [],
   "source": [
    "a = 5"
   ]
  },
  {
   "cell_type": "code",
   "execution_count": 83,
   "id": "0cc97f67-710a-4604-b171-c131fc3db4ad",
   "metadata": {},
   "outputs": [
    {
     "name": "stderr",
     "output_type": "stream",
     "text": [
      "<>:1: SyntaxWarning: \"is not\" with a literal. Did you mean \"!=\"?\n",
      "<>:1: SyntaxWarning: \"is not\" with a literal. Did you mean \"!=\"?\n",
      "C:\\Users\\amitm\\AppData\\Local\\Temp\\ipykernel_19320\\1977639868.py:1: SyntaxWarning: \"is not\" with a literal. Did you mean \"!=\"?\n",
      "  a is not 5\n"
     ]
    },
    {
     "data": {
      "text/plain": [
       "False"
      ]
     },
     "execution_count": 83,
     "metadata": {},
     "output_type": "execute_result"
    }
   ],
   "source": [
    "a is not 5"
   ]
  },
  {
   "cell_type": "code",
   "execution_count": 84,
   "id": "c8f4618b-0e5d-4c08-a016-f7976321cbfd",
   "metadata": {},
   "outputs": [],
   "source": [
    "a = [1, 2, 3]"
   ]
  },
  {
   "cell_type": "code",
   "execution_count": 85,
   "id": "3195f7d9-43c9-4b88-ae12-45d0573e75e4",
   "metadata": {},
   "outputs": [
    {
     "data": {
      "text/plain": [
       "False"
      ]
     },
     "execution_count": 85,
     "metadata": {},
     "output_type": "execute_result"
    }
   ],
   "source": [
    "4 in a"
   ]
  },
  {
   "cell_type": "code",
   "execution_count": 86,
   "id": "cef574f7-1aa6-409b-b28b-ea01389386b0",
   "metadata": {},
   "outputs": [
    {
     "data": {
      "text/plain": [
       "False"
      ]
     },
     "execution_count": 86,
     "metadata": {},
     "output_type": "execute_result"
    }
   ],
   "source": [
    "1 not in a"
   ]
  },
  {
   "cell_type": "code",
   "execution_count": null,
   "id": "afa411f9-b4f9-4d31-abef-38ee13da8ace",
   "metadata": {},
   "outputs": [],
   "source": []
  }
 ],
 "metadata": {
  "kernelspec": {
   "display_name": "Python 3 (ipykernel)",
   "language": "python",
   "name": "python3"
  },
  "language_info": {
   "codemirror_mode": {
    "name": "ipython",
    "version": 3
   },
   "file_extension": ".py",
   "mimetype": "text/x-python",
   "name": "python",
   "nbconvert_exporter": "python",
   "pygments_lexer": "ipython3",
   "version": "3.11.7"
  }
 },
 "nbformat": 4,
 "nbformat_minor": 5
}
